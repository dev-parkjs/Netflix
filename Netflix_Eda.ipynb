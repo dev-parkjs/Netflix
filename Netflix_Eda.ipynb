{
 "cells": [
  {
   "cell_type": "markdown",
   "id": "9013318f",
   "metadata": {
    "papermill": {
     "duration": 0.020498,
     "end_time": "2024-06-29T13:42:24.952278",
     "exception": false,
     "start_time": "2024-06-29T13:42:24.931780",
     "status": "completed"
    },
    "tags": []
   },
   "source": [
    "# Netflix Shows | EDA With Python"
   ]
  },
  {
   "cell_type": "code",
   "execution_count": 1,
   "id": "149a5bf4",
   "metadata": {},
   "outputs": [
    {
     "name": "stdout",
     "output_type": "stream",
     "text": [
      "Requirement already satisfied: matplotlib in /opt/homebrew/Caskroom/miniconda/base/envs/yeardream/lib/python3.9/site-packages (3.7.1)\n",
      "Collecting matplotlib\n",
      "  Downloading matplotlib-3.9.1-cp39-cp39-macosx_11_0_arm64.whl (7.8 MB)\n",
      "\u001b[2K     \u001b[90m━━━━━━━━━━━━━━━━━━━━━━━━━━━━━━━━━━━━━━━━\u001b[0m \u001b[32m7.8/7.8 MB\u001b[0m \u001b[31m6.1 MB/s\u001b[0m eta \u001b[36m0:00:00\u001b[0m00:01\u001b[0m00:01\u001b[0mm\n",
      "\u001b[?25hRequirement already satisfied: pyparsing>=2.3.1 in /opt/homebrew/Caskroom/miniconda/base/envs/yeardream/lib/python3.9/site-packages (from matplotlib) (3.0.9)\n",
      "Requirement already satisfied: kiwisolver>=1.3.1 in /opt/homebrew/Caskroom/miniconda/base/envs/yeardream/lib/python3.9/site-packages (from matplotlib) (1.4.4)\n",
      "Requirement already satisfied: packaging>=20.0 in /opt/homebrew/Caskroom/miniconda/base/envs/yeardream/lib/python3.9/site-packages (from matplotlib) (23.0)\n",
      "Requirement already satisfied: numpy>=1.23 in /opt/homebrew/Caskroom/miniconda/base/envs/yeardream/lib/python3.9/site-packages (from matplotlib) (1.23.5)\n",
      "Requirement already satisfied: importlib-resources>=3.2.0 in /opt/homebrew/Caskroom/miniconda/base/envs/yeardream/lib/python3.9/site-packages (from matplotlib) (5.12.0)\n",
      "Requirement already satisfied: cycler>=0.10 in /opt/homebrew/Caskroom/miniconda/base/envs/yeardream/lib/python3.9/site-packages (from matplotlib) (0.11.0)\n",
      "Requirement already satisfied: fonttools>=4.22.0 in /opt/homebrew/Caskroom/miniconda/base/envs/yeardream/lib/python3.9/site-packages (from matplotlib) (4.39.3)\n",
      "Requirement already satisfied: python-dateutil>=2.7 in /opt/homebrew/Caskroom/miniconda/base/envs/yeardream/lib/python3.9/site-packages (from matplotlib) (2.8.2)\n",
      "Requirement already satisfied: pillow>=8 in /opt/homebrew/Caskroom/miniconda/base/envs/yeardream/lib/python3.9/site-packages (from matplotlib) (9.5.0)\n",
      "Requirement already satisfied: contourpy>=1.0.1 in /opt/homebrew/Caskroom/miniconda/base/envs/yeardream/lib/python3.9/site-packages (from matplotlib) (1.0.7)\n",
      "Requirement already satisfied: zipp>=3.1.0 in /opt/homebrew/Caskroom/miniconda/base/envs/yeardream/lib/python3.9/site-packages (from importlib-resources>=3.2.0->matplotlib) (3.11.0)\n",
      "Requirement already satisfied: six>=1.5 in /opt/homebrew/Caskroom/miniconda/base/envs/yeardream/lib/python3.9/site-packages (from python-dateutil>=2.7->matplotlib) (1.16.0)\n",
      "Installing collected packages: matplotlib\n",
      "  Attempting uninstall: matplotlib\n",
      "    Found existing installation: matplotlib 3.7.1\n",
      "    Uninstalling matplotlib-3.7.1:\n",
      "      Successfully uninstalled matplotlib-3.7.1\n",
      "Successfully installed matplotlib-3.9.1\n",
      "Note: you may need to restart the kernel to use updated packages.\n"
     ]
    }
   ],
   "source": [
    "pip install matplotlib --upgrade"
   ]
  },
  {
   "cell_type": "code",
   "execution_count": 2,
   "id": "d1a08a68",
   "metadata": {
    "execution": {
     "iopub.execute_input": "2024-06-29T13:42:24.996591Z",
     "iopub.status.busy": "2024-06-29T13:42:24.996151Z",
     "iopub.status.idle": "2024-06-29T13:42:26.347932Z",
     "shell.execute_reply": "2024-06-29T13:42:26.346863Z"
    },
    "papermill": {
     "duration": 1.378274,
     "end_time": "2024-06-29T13:42:26.350612",
     "exception": false,
     "start_time": "2024-06-29T13:42:24.972338",
     "status": "completed"
    },
    "tags": []
   },
   "outputs": [],
   "source": [
    "import pandas as pd\n",
    "import plotly.express as px\n",
    "import IPython.display as dsp"
   ]
  },
  {
   "cell_type": "code",
   "execution_count": 3,
   "id": "a04d0a02",
   "metadata": {},
   "outputs": [
    {
     "data": {
      "text/plain": [
       "Renderers configuration\n",
       "-----------------------\n",
       "    Default renderer: 'vscode'\n",
       "    Available renderers:\n",
       "        ['plotly_mimetype', 'jupyterlab', 'nteract', 'vscode',\n",
       "         'notebook', 'notebook_connected', 'kaggle', 'azure', 'colab',\n",
       "         'cocalc', 'databricks', 'json', 'png', 'jpeg', 'jpg', 'svg',\n",
       "         'pdf', 'browser', 'firefox', 'chrome', 'chromium', 'iframe',\n",
       "         'iframe_connected', 'sphinx_gallery', 'sphinx_gallery_png']"
      ]
     },
     "execution_count": 3,
     "metadata": {},
     "output_type": "execute_result"
    }
   ],
   "source": [
    "import plotly.io as pio\n",
    "\n",
    "pio.renderers"
   ]
  },
  {
   "cell_type": "code",
   "execution_count": 4,
   "id": "68d78d11",
   "metadata": {
    "execution": {
     "iopub.execute_input": "2024-06-29T13:42:26.390583Z",
     "iopub.status.busy": "2024-06-29T13:42:26.389673Z",
     "iopub.status.idle": "2024-06-29T13:42:26.397567Z",
     "shell.execute_reply": "2024-06-29T13:42:26.396559Z"
    },
    "papermill": {
     "duration": 0.030092,
     "end_time": "2024-06-29T13:42:26.399759",
     "exception": false,
     "start_time": "2024-06-29T13:42:26.369667",
     "status": "completed"
    },
    "tags": []
   },
   "outputs": [
    {
     "data": {
      "text/html": [
       "<img src=\"https://wallpaper.forfun.com/fetch/0b/0b269a9b0bc6b54f272ac66d2254c00d.jpeg\"/>"
      ],
      "text/plain": [
       "<IPython.core.display.Image object>"
      ]
     },
     "execution_count": 4,
     "metadata": {},
     "output_type": "execute_result"
    }
   ],
   "source": [
    "dsp.Image(url='https://wallpaper.forfun.com/fetch/0b/0b269a9b0bc6b54f272ac66d2254c00d.jpeg')"
   ]
  },
  {
   "cell_type": "code",
   "execution_count": 5,
   "id": "54620d1b",
   "metadata": {
    "execution": {
     "iopub.execute_input": "2024-06-29T13:42:26.439827Z",
     "iopub.status.busy": "2024-06-29T13:42:26.438886Z",
     "iopub.status.idle": "2024-06-29T13:42:26.567331Z",
     "shell.execute_reply": "2024-06-29T13:42:26.566323Z"
    },
    "papermill": {
     "duration": 0.151273,
     "end_time": "2024-06-29T13:42:26.569865",
     "exception": false,
     "start_time": "2024-06-29T13:42:26.418592",
     "status": "completed"
    },
    "tags": []
   },
   "outputs": [],
   "source": [
    "df_netflix=pd.read_csv('/Users/parkjisook/Desktop/jisook_self/eda/netflix/Netflix/netflix_titles.csv')"
   ]
  },
  {
   "cell_type": "code",
   "execution_count": 6,
   "id": "cbc5e68a",
   "metadata": {
    "execution": {
     "iopub.execute_input": "2024-06-29T13:42:26.609894Z",
     "iopub.status.busy": "2024-06-29T13:42:26.609167Z",
     "iopub.status.idle": "2024-06-29T13:42:26.632973Z",
     "shell.execute_reply": "2024-06-29T13:42:26.631991Z"
    },
    "papermill": {
     "duration": 0.046433,
     "end_time": "2024-06-29T13:42:26.635280",
     "exception": false,
     "start_time": "2024-06-29T13:42:26.588847",
     "status": "completed"
    },
    "tags": []
   },
   "outputs": [
    {
     "data": {
      "text/html": [
       "<div>\n",
       "<style scoped>\n",
       "    .dataframe tbody tr th:only-of-type {\n",
       "        vertical-align: middle;\n",
       "    }\n",
       "\n",
       "    .dataframe tbody tr th {\n",
       "        vertical-align: top;\n",
       "    }\n",
       "\n",
       "    .dataframe thead th {\n",
       "        text-align: right;\n",
       "    }\n",
       "</style>\n",
       "<table border=\"1\" class=\"dataframe\">\n",
       "  <thead>\n",
       "    <tr style=\"text-align: right;\">\n",
       "      <th></th>\n",
       "      <th>show_id</th>\n",
       "      <th>type</th>\n",
       "      <th>title</th>\n",
       "      <th>director</th>\n",
       "      <th>cast</th>\n",
       "      <th>country</th>\n",
       "      <th>date_added</th>\n",
       "      <th>release_year</th>\n",
       "      <th>rating</th>\n",
       "      <th>duration</th>\n",
       "      <th>listed_in</th>\n",
       "      <th>description</th>\n",
       "    </tr>\n",
       "  </thead>\n",
       "  <tbody>\n",
       "    <tr>\n",
       "      <th>0</th>\n",
       "      <td>s1</td>\n",
       "      <td>Movie</td>\n",
       "      <td>Dick Johnson Is Dead</td>\n",
       "      <td>Kirsten Johnson</td>\n",
       "      <td>NaN</td>\n",
       "      <td>United States</td>\n",
       "      <td>September 25, 2021</td>\n",
       "      <td>2020</td>\n",
       "      <td>PG-13</td>\n",
       "      <td>90 min</td>\n",
       "      <td>Documentaries</td>\n",
       "      <td>As her father nears the end of his life, filmm...</td>\n",
       "    </tr>\n",
       "    <tr>\n",
       "      <th>1</th>\n",
       "      <td>s2</td>\n",
       "      <td>TV Show</td>\n",
       "      <td>Blood &amp; Water</td>\n",
       "      <td>NaN</td>\n",
       "      <td>Ama Qamata, Khosi Ngema, Gail Mabalane, Thaban...</td>\n",
       "      <td>South Africa</td>\n",
       "      <td>September 24, 2021</td>\n",
       "      <td>2021</td>\n",
       "      <td>TV-MA</td>\n",
       "      <td>2 Seasons</td>\n",
       "      <td>International TV Shows, TV Dramas, TV Mysteries</td>\n",
       "      <td>After crossing paths at a party, a Cape Town t...</td>\n",
       "    </tr>\n",
       "    <tr>\n",
       "      <th>2</th>\n",
       "      <td>s3</td>\n",
       "      <td>TV Show</td>\n",
       "      <td>Ganglands</td>\n",
       "      <td>Julien Leclercq</td>\n",
       "      <td>Sami Bouajila, Tracy Gotoas, Samuel Jouy, Nabi...</td>\n",
       "      <td>NaN</td>\n",
       "      <td>September 24, 2021</td>\n",
       "      <td>2021</td>\n",
       "      <td>TV-MA</td>\n",
       "      <td>1 Season</td>\n",
       "      <td>Crime TV Shows, International TV Shows, TV Act...</td>\n",
       "      <td>To protect his family from a powerful drug lor...</td>\n",
       "    </tr>\n",
       "    <tr>\n",
       "      <th>3</th>\n",
       "      <td>s4</td>\n",
       "      <td>TV Show</td>\n",
       "      <td>Jailbirds New Orleans</td>\n",
       "      <td>NaN</td>\n",
       "      <td>NaN</td>\n",
       "      <td>NaN</td>\n",
       "      <td>September 24, 2021</td>\n",
       "      <td>2021</td>\n",
       "      <td>TV-MA</td>\n",
       "      <td>1 Season</td>\n",
       "      <td>Docuseries, Reality TV</td>\n",
       "      <td>Feuds, flirtations and toilet talk go down amo...</td>\n",
       "    </tr>\n",
       "    <tr>\n",
       "      <th>4</th>\n",
       "      <td>s5</td>\n",
       "      <td>TV Show</td>\n",
       "      <td>Kota Factory</td>\n",
       "      <td>NaN</td>\n",
       "      <td>Mayur More, Jitendra Kumar, Ranjan Raj, Alam K...</td>\n",
       "      <td>India</td>\n",
       "      <td>September 24, 2021</td>\n",
       "      <td>2021</td>\n",
       "      <td>TV-MA</td>\n",
       "      <td>2 Seasons</td>\n",
       "      <td>International TV Shows, Romantic TV Shows, TV ...</td>\n",
       "      <td>In a city of coaching centers known to train I...</td>\n",
       "    </tr>\n",
       "  </tbody>\n",
       "</table>\n",
       "</div>"
      ],
      "text/plain": [
       "  show_id     type                  title         director   \n",
       "0      s1    Movie   Dick Johnson Is Dead  Kirsten Johnson  \\\n",
       "1      s2  TV Show          Blood & Water              NaN   \n",
       "2      s3  TV Show              Ganglands  Julien Leclercq   \n",
       "3      s4  TV Show  Jailbirds New Orleans              NaN   \n",
       "4      s5  TV Show           Kota Factory              NaN   \n",
       "\n",
       "                                                cast        country   \n",
       "0                                                NaN  United States  \\\n",
       "1  Ama Qamata, Khosi Ngema, Gail Mabalane, Thaban...   South Africa   \n",
       "2  Sami Bouajila, Tracy Gotoas, Samuel Jouy, Nabi...            NaN   \n",
       "3                                                NaN            NaN   \n",
       "4  Mayur More, Jitendra Kumar, Ranjan Raj, Alam K...          India   \n",
       "\n",
       "           date_added  release_year rating   duration   \n",
       "0  September 25, 2021          2020  PG-13     90 min  \\\n",
       "1  September 24, 2021          2021  TV-MA  2 Seasons   \n",
       "2  September 24, 2021          2021  TV-MA   1 Season   \n",
       "3  September 24, 2021          2021  TV-MA   1 Season   \n",
       "4  September 24, 2021          2021  TV-MA  2 Seasons   \n",
       "\n",
       "                                           listed_in   \n",
       "0                                      Documentaries  \\\n",
       "1    International TV Shows, TV Dramas, TV Mysteries   \n",
       "2  Crime TV Shows, International TV Shows, TV Act...   \n",
       "3                             Docuseries, Reality TV   \n",
       "4  International TV Shows, Romantic TV Shows, TV ...   \n",
       "\n",
       "                                         description  \n",
       "0  As her father nears the end of his life, filmm...  \n",
       "1  After crossing paths at a party, a Cape Town t...  \n",
       "2  To protect his family from a powerful drug lor...  \n",
       "3  Feuds, flirtations and toilet talk go down amo...  \n",
       "4  In a city of coaching centers known to train I...  "
      ]
     },
     "execution_count": 6,
     "metadata": {},
     "output_type": "execute_result"
    }
   ],
   "source": [
    "df_netflix.head()"
   ]
  },
  {
   "cell_type": "code",
   "execution_count": 7,
   "id": "3bc80a89",
   "metadata": {
    "execution": {
     "iopub.execute_input": "2024-06-29T13:42:26.675116Z",
     "iopub.status.busy": "2024-06-29T13:42:26.674737Z",
     "iopub.status.idle": "2024-06-29T13:42:26.681167Z",
     "shell.execute_reply": "2024-06-29T13:42:26.680109Z"
    },
    "papermill": {
     "duration": 0.028974,
     "end_time": "2024-06-29T13:42:26.683277",
     "exception": false,
     "start_time": "2024-06-29T13:42:26.654303",
     "status": "completed"
    },
    "tags": []
   },
   "outputs": [
    {
     "data": {
      "text/plain": [
       "(8807, 12)"
      ]
     },
     "execution_count": 7,
     "metadata": {},
     "output_type": "execute_result"
    }
   ],
   "source": [
    "df_netflix.shape"
   ]
  },
  {
   "cell_type": "code",
   "execution_count": 8,
   "id": "cddbd2c4",
   "metadata": {
    "execution": {
     "iopub.execute_input": "2024-06-29T13:42:26.723436Z",
     "iopub.status.busy": "2024-06-29T13:42:26.722988Z",
     "iopub.status.idle": "2024-06-29T13:42:26.730806Z",
     "shell.execute_reply": "2024-06-29T13:42:26.729688Z"
    },
    "papermill": {
     "duration": 0.03023,
     "end_time": "2024-06-29T13:42:26.732869",
     "exception": false,
     "start_time": "2024-06-29T13:42:26.702639",
     "status": "completed"
    },
    "tags": []
   },
   "outputs": [
    {
     "data": {
      "text/plain": [
       "105684"
      ]
     },
     "execution_count": 8,
     "metadata": {},
     "output_type": "execute_result"
    }
   ],
   "source": [
    "df_netflix.size"
   ]
  },
  {
   "cell_type": "code",
   "execution_count": 9,
   "id": "5ebfa035",
   "metadata": {
    "execution": {
     "iopub.execute_input": "2024-06-29T13:42:26.773479Z",
     "iopub.status.busy": "2024-06-29T13:42:26.772767Z",
     "iopub.status.idle": "2024-06-29T13:42:26.779094Z",
     "shell.execute_reply": "2024-06-29T13:42:26.778181Z"
    },
    "papermill": {
     "duration": 0.028908,
     "end_time": "2024-06-29T13:42:26.781128",
     "exception": false,
     "start_time": "2024-06-29T13:42:26.752220",
     "status": "completed"
    },
    "tags": []
   },
   "outputs": [
    {
     "data": {
      "text/plain": [
       "Index(['show_id', 'type', 'title', 'director', 'cast', 'country', 'date_added',\n",
       "       'release_year', 'rating', 'duration', 'listed_in', 'description'],\n",
       "      dtype='object')"
      ]
     },
     "execution_count": 9,
     "metadata": {},
     "output_type": "execute_result"
    }
   ],
   "source": [
    "df_netflix.columns"
   ]
  },
  {
   "cell_type": "code",
   "execution_count": 10,
   "id": "2f8b1f18",
   "metadata": {
    "execution": {
     "iopub.execute_input": "2024-06-29T13:42:26.821940Z",
     "iopub.status.busy": "2024-06-29T13:42:26.821128Z",
     "iopub.status.idle": "2024-06-29T13:42:26.847974Z",
     "shell.execute_reply": "2024-06-29T13:42:26.846912Z"
    },
    "papermill": {
     "duration": 0.050127,
     "end_time": "2024-06-29T13:42:26.850748",
     "exception": false,
     "start_time": "2024-06-29T13:42:26.800621",
     "status": "completed"
    },
    "tags": []
   },
   "outputs": [
    {
     "name": "stdout",
     "output_type": "stream",
     "text": [
      "<class 'pandas.core.frame.DataFrame'>\n",
      "RangeIndex: 8807 entries, 0 to 8806\n",
      "Data columns (total 12 columns):\n",
      " #   Column        Non-Null Count  Dtype \n",
      "---  ------        --------------  ----- \n",
      " 0   show_id       8807 non-null   object\n",
      " 1   type          8807 non-null   object\n",
      " 2   title         8807 non-null   object\n",
      " 3   director      6173 non-null   object\n",
      " 4   cast          7982 non-null   object\n",
      " 5   country       7976 non-null   object\n",
      " 6   date_added    8797 non-null   object\n",
      " 7   release_year  8807 non-null   int64 \n",
      " 8   rating        8803 non-null   object\n",
      " 9   duration      8804 non-null   object\n",
      " 10  listed_in     8807 non-null   object\n",
      " 11  description   8807 non-null   object\n",
      "dtypes: int64(1), object(11)\n",
      "memory usage: 825.8+ KB\n"
     ]
    }
   ],
   "source": [
    "df_netflix.info()"
   ]
  },
  {
   "cell_type": "code",
   "execution_count": 11,
   "id": "268b0f36",
   "metadata": {
    "execution": {
     "iopub.execute_input": "2024-06-29T13:42:26.892563Z",
     "iopub.status.busy": "2024-06-29T13:42:26.892165Z",
     "iopub.status.idle": "2024-06-29T13:42:26.900536Z",
     "shell.execute_reply": "2024-06-29T13:42:26.899526Z"
    },
    "papermill": {
     "duration": 0.03231,
     "end_time": "2024-06-29T13:42:26.902789",
     "exception": false,
     "start_time": "2024-06-29T13:42:26.870479",
     "status": "completed"
    },
    "tags": []
   },
   "outputs": [
    {
     "data": {
      "text/plain": [
       "Index             128\n",
       "show_id         70456\n",
       "type            70456\n",
       "title           70456\n",
       "director        70456\n",
       "cast            70456\n",
       "country         70456\n",
       "date_added      70456\n",
       "release_year    70456\n",
       "rating          70456\n",
       "duration        70456\n",
       "listed_in       70456\n",
       "description     70456\n",
       "dtype: int64"
      ]
     },
     "execution_count": 11,
     "metadata": {},
     "output_type": "execute_result"
    }
   ],
   "source": [
    "df_netflix.memory_usage()"
   ]
  },
  {
   "cell_type": "code",
   "execution_count": 12,
   "id": "05f09ea8",
   "metadata": {
    "execution": {
     "iopub.execute_input": "2024-06-29T13:42:26.943953Z",
     "iopub.status.busy": "2024-06-29T13:42:26.943567Z",
     "iopub.status.idle": "2024-06-29T13:42:26.968238Z",
     "shell.execute_reply": "2024-06-29T13:42:26.967095Z"
    },
    "papermill": {
     "duration": 0.048169,
     "end_time": "2024-06-29T13:42:26.970639",
     "exception": false,
     "start_time": "2024-06-29T13:42:26.922470",
     "status": "completed"
    },
    "tags": []
   },
   "outputs": [
    {
     "data": {
      "text/plain": [
       "0"
      ]
     },
     "execution_count": 12,
     "metadata": {},
     "output_type": "execute_result"
    }
   ],
   "source": [
    "df_netflix.duplicated().sum()"
   ]
  },
  {
   "cell_type": "code",
   "execution_count": 13,
   "id": "1ca44ee0",
   "metadata": {
    "execution": {
     "iopub.execute_input": "2024-06-29T13:42:27.073842Z",
     "iopub.status.busy": "2024-06-29T13:42:27.073438Z",
     "iopub.status.idle": "2024-06-29T13:42:27.087124Z",
     "shell.execute_reply": "2024-06-29T13:42:27.086095Z"
    },
    "papermill": {
     "duration": 0.037861,
     "end_time": "2024-06-29T13:42:27.089466",
     "exception": false,
     "start_time": "2024-06-29T13:42:27.051605",
     "status": "completed"
    },
    "tags": []
   },
   "outputs": [
    {
     "data": {
      "text/plain": [
       "show_id            0\n",
       "type               0\n",
       "title              0\n",
       "director        2634\n",
       "cast             825\n",
       "country          831\n",
       "date_added        10\n",
       "release_year       0\n",
       "rating             4\n",
       "duration           3\n",
       "listed_in          0\n",
       "description        0\n",
       "dtype: int64"
      ]
     },
     "execution_count": 13,
     "metadata": {},
     "output_type": "execute_result"
    }
   ],
   "source": [
    "df_netflix.isna().sum()"
   ]
  },
  {
   "cell_type": "code",
   "execution_count": 14,
   "id": "42546021",
   "metadata": {
    "execution": {
     "iopub.execute_input": "2024-06-29T13:42:27.131879Z",
     "iopub.status.busy": "2024-06-29T13:42:27.130955Z",
     "iopub.status.idle": "2024-06-29T13:42:27.138284Z",
     "shell.execute_reply": "2024-06-29T13:42:27.137310Z"
    },
    "papermill": {
     "duration": 0.030754,
     "end_time": "2024-06-29T13:42:27.140419",
     "exception": false,
     "start_time": "2024-06-29T13:42:27.109665",
     "status": "completed"
    },
    "tags": []
   },
   "outputs": [
    {
     "data": {
      "text/plain": [
       "array([dtype('O'), dtype('int64')], dtype=object)"
      ]
     },
     "execution_count": 14,
     "metadata": {},
     "output_type": "execute_result"
    }
   ],
   "source": [
    "df_netflix.dtypes.unique()"
   ]
  },
  {
   "cell_type": "markdown",
   "id": "64586e87",
   "metadata": {
    "papermill": {
     "duration": 0.019907,
     "end_time": "2024-06-29T13:42:27.180522",
     "exception": false,
     "start_time": "2024-06-29T13:42:27.160615",
     "status": "completed"
    },
    "tags": []
   },
   "source": [
    "### Choosing The Columns On Basis Of Their Data Type And Filling NaN Values With Respect To Data Type"
   ]
  },
  {
   "cell_type": "code",
   "execution_count": 15,
   "id": "b417e3ca",
   "metadata": {
    "execution": {
     "iopub.execute_input": "2024-06-29T13:42:27.223438Z",
     "iopub.status.busy": "2024-06-29T13:42:27.222991Z",
     "iopub.status.idle": "2024-06-29T13:42:27.229618Z",
     "shell.execute_reply": "2024-06-29T13:42:27.228658Z"
    },
    "papermill": {
     "duration": 0.030599,
     "end_time": "2024-06-29T13:42:27.231744",
     "exception": false,
     "start_time": "2024-06-29T13:42:27.201145",
     "status": "completed"
    },
    "tags": []
   },
   "outputs": [
    {
     "data": {
      "text/plain": [
       "Index(['show_id', 'type', 'title', 'director', 'cast', 'country', 'date_added',\n",
       "       'release_year', 'rating', 'duration', 'listed_in', 'description'],\n",
       "      dtype='object')"
      ]
     },
     "execution_count": 15,
     "metadata": {},
     "output_type": "execute_result"
    }
   ],
   "source": [
    "df_netflix.columns"
   ]
  },
  {
   "cell_type": "code",
   "execution_count": 16,
   "id": "43d839d6",
   "metadata": {
    "execution": {
     "iopub.execute_input": "2024-06-29T13:42:27.274635Z",
     "iopub.status.busy": "2024-06-29T13:42:27.274258Z",
     "iopub.status.idle": "2024-06-29T13:42:27.283164Z",
     "shell.execute_reply": "2024-06-29T13:42:27.282107Z"
    },
    "papermill": {
     "duration": 0.033298,
     "end_time": "2024-06-29T13:42:27.285465",
     "exception": false,
     "start_time": "2024-06-29T13:42:27.252167",
     "status": "completed"
    },
    "tags": []
   },
   "outputs": [
    {
     "data": {
      "text/plain": [
       "Index(['show_id', 'type', 'title', 'director', 'cast', 'country', 'date_added',\n",
       "       'rating', 'duration', 'listed_in', 'description'],\n",
       "      dtype='object')"
      ]
     },
     "execution_count": 16,
     "metadata": {},
     "output_type": "execute_result"
    }
   ],
   "source": [
    "df_netflix.select_dtypes('object').columns"
   ]
  },
  {
   "cell_type": "code",
   "execution_count": 17,
   "id": "6894c401",
   "metadata": {
    "execution": {
     "iopub.execute_input": "2024-06-29T13:42:27.328504Z",
     "iopub.status.busy": "2024-06-29T13:42:27.328131Z",
     "iopub.status.idle": "2024-06-29T13:42:27.335293Z",
     "shell.execute_reply": "2024-06-29T13:42:27.334203Z"
    },
    "papermill": {
     "duration": 0.031751,
     "end_time": "2024-06-29T13:42:27.337686",
     "exception": false,
     "start_time": "2024-06-29T13:42:27.305935",
     "status": "completed"
    },
    "tags": []
   },
   "outputs": [
    {
     "data": {
      "text/plain": [
       "Index(['release_year'], dtype='object')"
      ]
     },
     "execution_count": 17,
     "metadata": {},
     "output_type": "execute_result"
    }
   ],
   "source": [
    "df_netflix.select_dtypes('int').columns"
   ]
  },
  {
   "cell_type": "code",
   "execution_count": 18,
   "id": "72281a44",
   "metadata": {
    "execution": {
     "iopub.execute_input": "2024-06-29T13:42:27.380538Z",
     "iopub.status.busy": "2024-06-29T13:42:27.380139Z",
     "iopub.status.idle": "2024-06-29T13:42:27.401433Z",
     "shell.execute_reply": "2024-06-29T13:42:27.400452Z"
    },
    "papermill": {
     "duration": 0.045704,
     "end_time": "2024-06-29T13:42:27.404075",
     "exception": false,
     "start_time": "2024-06-29T13:42:27.358371",
     "status": "completed"
    },
    "tags": []
   },
   "outputs": [],
   "source": [
    "object_columns=df_netflix.select_dtypes('object').columns\n",
    "integer_columns=df_netflix.select_dtypes('int').columns\n",
    "for column in df_netflix.columns:\n",
    "    if column in object_columns:\n",
    "        df_netflix[column]=df_netflix[column].fillna('Not Available')\n",
    "    if column in integer_columns:\n",
    "        df_netflix[column]=df_netflix[column].fillna(0)"
   ]
  },
  {
   "cell_type": "code",
   "execution_count": 19,
   "id": "5c9791a9",
   "metadata": {
    "execution": {
     "iopub.execute_input": "2024-06-29T13:42:27.449172Z",
     "iopub.status.busy": "2024-06-29T13:42:27.448693Z",
     "iopub.status.idle": "2024-06-29T13:42:27.463867Z",
     "shell.execute_reply": "2024-06-29T13:42:27.462794Z"
    },
    "papermill": {
     "duration": 0.040761,
     "end_time": "2024-06-29T13:42:27.466211",
     "exception": false,
     "start_time": "2024-06-29T13:42:27.425450",
     "status": "completed"
    },
    "tags": []
   },
   "outputs": [
    {
     "data": {
      "text/plain": [
       "show_id         0\n",
       "type            0\n",
       "title           0\n",
       "director        0\n",
       "cast            0\n",
       "country         0\n",
       "date_added      0\n",
       "release_year    0\n",
       "rating          0\n",
       "duration        0\n",
       "listed_in       0\n",
       "description     0\n",
       "dtype: int64"
      ]
     },
     "execution_count": 19,
     "metadata": {},
     "output_type": "execute_result"
    }
   ],
   "source": [
    "df_netflix.isna().sum()"
   ]
  },
  {
   "cell_type": "markdown",
   "id": "e95ef0b1",
   "metadata": {
    "papermill": {
     "duration": 0.020425,
     "end_time": "2024-06-29T13:42:27.507274",
     "exception": false,
     "start_time": "2024-06-29T13:42:27.486849",
     "status": "completed"
    },
    "tags": []
   },
   "source": [
    "### Creating Year Added And Release Month Features "
   ]
  },
  {
   "cell_type": "code",
   "execution_count": 20,
   "id": "84b01196",
   "metadata": {
    "execution": {
     "iopub.execute_input": "2024-06-29T13:42:27.550143Z",
     "iopub.status.busy": "2024-06-29T13:42:27.549742Z",
     "iopub.status.idle": "2024-06-29T13:42:27.568793Z",
     "shell.execute_reply": "2024-06-29T13:42:27.567854Z"
    },
    "papermill": {
     "duration": 0.043219,
     "end_time": "2024-06-29T13:42:27.571138",
     "exception": false,
     "start_time": "2024-06-29T13:42:27.527919",
     "status": "completed"
    },
    "tags": []
   },
   "outputs": [],
   "source": [
    "df_netflix['release_month']=df_netflix['date_added'].str.split(' ').str[0]"
   ]
  },
  {
   "cell_type": "code",
   "execution_count": 21,
   "id": "2c4e43ae",
   "metadata": {
    "execution": {
     "iopub.execute_input": "2024-06-29T13:42:27.614107Z",
     "iopub.status.busy": "2024-06-29T13:42:27.613698Z",
     "iopub.status.idle": "2024-06-29T13:42:27.630534Z",
     "shell.execute_reply": "2024-06-29T13:42:27.629600Z"
    },
    "papermill": {
     "duration": 0.040946,
     "end_time": "2024-06-29T13:42:27.632865",
     "exception": false,
     "start_time": "2024-06-29T13:42:27.591919",
     "status": "completed"
    },
    "tags": []
   },
   "outputs": [],
   "source": [
    "df_netflix['year_added']=df_netflix['date_added'].str.split(', ').str[1]"
   ]
  },
  {
   "cell_type": "code",
   "execution_count": 22,
   "id": "65b234c8",
   "metadata": {
    "execution": {
     "iopub.execute_input": "2024-06-29T13:42:27.676016Z",
     "iopub.status.busy": "2024-06-29T13:42:27.675613Z",
     "iopub.status.idle": "2024-06-29T13:42:27.693497Z",
     "shell.execute_reply": "2024-06-29T13:42:27.692370Z"
    },
    "papermill": {
     "duration": 0.042162,
     "end_time": "2024-06-29T13:42:27.695699",
     "exception": false,
     "start_time": "2024-06-29T13:42:27.653537",
     "status": "completed"
    },
    "tags": []
   },
   "outputs": [
    {
     "data": {
      "text/html": [
       "<div>\n",
       "<style scoped>\n",
       "    .dataframe tbody tr th:only-of-type {\n",
       "        vertical-align: middle;\n",
       "    }\n",
       "\n",
       "    .dataframe tbody tr th {\n",
       "        vertical-align: top;\n",
       "    }\n",
       "\n",
       "    .dataframe thead th {\n",
       "        text-align: right;\n",
       "    }\n",
       "</style>\n",
       "<table border=\"1\" class=\"dataframe\">\n",
       "  <thead>\n",
       "    <tr style=\"text-align: right;\">\n",
       "      <th></th>\n",
       "      <th>show_id</th>\n",
       "      <th>type</th>\n",
       "      <th>title</th>\n",
       "      <th>director</th>\n",
       "      <th>cast</th>\n",
       "      <th>country</th>\n",
       "      <th>date_added</th>\n",
       "      <th>release_year</th>\n",
       "      <th>rating</th>\n",
       "      <th>duration</th>\n",
       "      <th>listed_in</th>\n",
       "      <th>description</th>\n",
       "      <th>release_month</th>\n",
       "      <th>year_added</th>\n",
       "    </tr>\n",
       "  </thead>\n",
       "  <tbody>\n",
       "    <tr>\n",
       "      <th>0</th>\n",
       "      <td>s1</td>\n",
       "      <td>Movie</td>\n",
       "      <td>Dick Johnson Is Dead</td>\n",
       "      <td>Kirsten Johnson</td>\n",
       "      <td>Not Available</td>\n",
       "      <td>United States</td>\n",
       "      <td>September 25, 2021</td>\n",
       "      <td>2020</td>\n",
       "      <td>PG-13</td>\n",
       "      <td>90 min</td>\n",
       "      <td>Documentaries</td>\n",
       "      <td>As her father nears the end of his life, filmm...</td>\n",
       "      <td>September</td>\n",
       "      <td>2021</td>\n",
       "    </tr>\n",
       "    <tr>\n",
       "      <th>1</th>\n",
       "      <td>s2</td>\n",
       "      <td>TV Show</td>\n",
       "      <td>Blood &amp; Water</td>\n",
       "      <td>Not Available</td>\n",
       "      <td>Ama Qamata, Khosi Ngema, Gail Mabalane, Thaban...</td>\n",
       "      <td>South Africa</td>\n",
       "      <td>September 24, 2021</td>\n",
       "      <td>2021</td>\n",
       "      <td>TV-MA</td>\n",
       "      <td>2 Seasons</td>\n",
       "      <td>International TV Shows, TV Dramas, TV Mysteries</td>\n",
       "      <td>After crossing paths at a party, a Cape Town t...</td>\n",
       "      <td>September</td>\n",
       "      <td>2021</td>\n",
       "    </tr>\n",
       "    <tr>\n",
       "      <th>2</th>\n",
       "      <td>s3</td>\n",
       "      <td>TV Show</td>\n",
       "      <td>Ganglands</td>\n",
       "      <td>Julien Leclercq</td>\n",
       "      <td>Sami Bouajila, Tracy Gotoas, Samuel Jouy, Nabi...</td>\n",
       "      <td>Not Available</td>\n",
       "      <td>September 24, 2021</td>\n",
       "      <td>2021</td>\n",
       "      <td>TV-MA</td>\n",
       "      <td>1 Season</td>\n",
       "      <td>Crime TV Shows, International TV Shows, TV Act...</td>\n",
       "      <td>To protect his family from a powerful drug lor...</td>\n",
       "      <td>September</td>\n",
       "      <td>2021</td>\n",
       "    </tr>\n",
       "    <tr>\n",
       "      <th>3</th>\n",
       "      <td>s4</td>\n",
       "      <td>TV Show</td>\n",
       "      <td>Jailbirds New Orleans</td>\n",
       "      <td>Not Available</td>\n",
       "      <td>Not Available</td>\n",
       "      <td>Not Available</td>\n",
       "      <td>September 24, 2021</td>\n",
       "      <td>2021</td>\n",
       "      <td>TV-MA</td>\n",
       "      <td>1 Season</td>\n",
       "      <td>Docuseries, Reality TV</td>\n",
       "      <td>Feuds, flirtations and toilet talk go down amo...</td>\n",
       "      <td>September</td>\n",
       "      <td>2021</td>\n",
       "    </tr>\n",
       "    <tr>\n",
       "      <th>4</th>\n",
       "      <td>s5</td>\n",
       "      <td>TV Show</td>\n",
       "      <td>Kota Factory</td>\n",
       "      <td>Not Available</td>\n",
       "      <td>Mayur More, Jitendra Kumar, Ranjan Raj, Alam K...</td>\n",
       "      <td>India</td>\n",
       "      <td>September 24, 2021</td>\n",
       "      <td>2021</td>\n",
       "      <td>TV-MA</td>\n",
       "      <td>2 Seasons</td>\n",
       "      <td>International TV Shows, Romantic TV Shows, TV ...</td>\n",
       "      <td>In a city of coaching centers known to train I...</td>\n",
       "      <td>September</td>\n",
       "      <td>2021</td>\n",
       "    </tr>\n",
       "  </tbody>\n",
       "</table>\n",
       "</div>"
      ],
      "text/plain": [
       "  show_id     type                  title         director   \n",
       "0      s1    Movie   Dick Johnson Is Dead  Kirsten Johnson  \\\n",
       "1      s2  TV Show          Blood & Water    Not Available   \n",
       "2      s3  TV Show              Ganglands  Julien Leclercq   \n",
       "3      s4  TV Show  Jailbirds New Orleans    Not Available   \n",
       "4      s5  TV Show           Kota Factory    Not Available   \n",
       "\n",
       "                                                cast        country   \n",
       "0                                      Not Available  United States  \\\n",
       "1  Ama Qamata, Khosi Ngema, Gail Mabalane, Thaban...   South Africa   \n",
       "2  Sami Bouajila, Tracy Gotoas, Samuel Jouy, Nabi...  Not Available   \n",
       "3                                      Not Available  Not Available   \n",
       "4  Mayur More, Jitendra Kumar, Ranjan Raj, Alam K...          India   \n",
       "\n",
       "           date_added  release_year rating   duration   \n",
       "0  September 25, 2021          2020  PG-13     90 min  \\\n",
       "1  September 24, 2021          2021  TV-MA  2 Seasons   \n",
       "2  September 24, 2021          2021  TV-MA   1 Season   \n",
       "3  September 24, 2021          2021  TV-MA   1 Season   \n",
       "4  September 24, 2021          2021  TV-MA  2 Seasons   \n",
       "\n",
       "                                           listed_in   \n",
       "0                                      Documentaries  \\\n",
       "1    International TV Shows, TV Dramas, TV Mysteries   \n",
       "2  Crime TV Shows, International TV Shows, TV Act...   \n",
       "3                             Docuseries, Reality TV   \n",
       "4  International TV Shows, Romantic TV Shows, TV ...   \n",
       "\n",
       "                                         description release_month year_added  \n",
       "0  As her father nears the end of his life, filmm...     September       2021  \n",
       "1  After crossing paths at a party, a Cape Town t...     September       2021  \n",
       "2  To protect his family from a powerful drug lor...     September       2021  \n",
       "3  Feuds, flirtations and toilet talk go down amo...     September       2021  \n",
       "4  In a city of coaching centers known to train I...     September       2021  "
      ]
     },
     "execution_count": 22,
     "metadata": {},
     "output_type": "execute_result"
    }
   ],
   "source": [
    "df_netflix.head()"
   ]
  },
  {
   "cell_type": "code",
   "execution_count": 23,
   "id": "4983e536",
   "metadata": {
    "execution": {
     "iopub.execute_input": "2024-06-29T13:42:27.741460Z",
     "iopub.status.busy": "2024-06-29T13:42:27.741055Z",
     "iopub.status.idle": "2024-06-29T13:42:27.757330Z",
     "shell.execute_reply": "2024-06-29T13:42:27.756291Z"
    },
    "papermill": {
     "duration": 0.042776,
     "end_time": "2024-06-29T13:42:27.759682",
     "exception": false,
     "start_time": "2024-06-29T13:42:27.716906",
     "status": "completed"
    },
    "tags": []
   },
   "outputs": [
    {
     "data": {
      "text/plain": [
       "show_id           0\n",
       "type              0\n",
       "title             0\n",
       "director          0\n",
       "cast              0\n",
       "country           0\n",
       "date_added        0\n",
       "release_year      0\n",
       "rating            0\n",
       "duration          0\n",
       "listed_in         0\n",
       "description       0\n",
       "release_month     0\n",
       "year_added       10\n",
       "dtype: int64"
      ]
     },
     "execution_count": 23,
     "metadata": {},
     "output_type": "execute_result"
    }
   ],
   "source": [
    "df_netflix.isna().sum()"
   ]
  },
  {
   "cell_type": "code",
   "execution_count": 24,
   "id": "884eac4d",
   "metadata": {
    "execution": {
     "iopub.execute_input": "2024-06-29T13:42:27.803946Z",
     "iopub.status.busy": "2024-06-29T13:42:27.803142Z",
     "iopub.status.idle": "2024-06-29T13:42:27.809987Z",
     "shell.execute_reply": "2024-06-29T13:42:27.809075Z"
    },
    "papermill": {
     "duration": 0.031291,
     "end_time": "2024-06-29T13:42:27.812138",
     "exception": false,
     "start_time": "2024-06-29T13:42:27.780847",
     "status": "completed"
    },
    "tags": []
   },
   "outputs": [
    {
     "data": {
      "text/plain": [
       "array([dtype('O'), dtype('int64')], dtype=object)"
      ]
     },
     "execution_count": 24,
     "metadata": {},
     "output_type": "execute_result"
    }
   ],
   "source": [
    "df_netflix.dtypes.unique()"
   ]
  },
  {
   "cell_type": "markdown",
   "id": "e4618f57",
   "metadata": {
    "papermill": {
     "duration": 0.021226,
     "end_time": "2024-06-29T13:42:27.854859",
     "exception": false,
     "start_time": "2024-06-29T13:42:27.833633",
     "status": "completed"
    },
    "tags": []
   },
   "source": [
    "### Again Choosing The Columns On Basis Of Their Data Type And Filling NaN Values With Respect To Data Type"
   ]
  },
  {
   "cell_type": "code",
   "execution_count": 25,
   "id": "45f60bdc",
   "metadata": {
    "execution": {
     "iopub.execute_input": "2024-06-29T13:42:27.900472Z",
     "iopub.status.busy": "2024-06-29T13:42:27.899421Z",
     "iopub.status.idle": "2024-06-29T13:42:27.906827Z",
     "shell.execute_reply": "2024-06-29T13:42:27.905585Z"
    },
    "papermill": {
     "duration": 0.032479,
     "end_time": "2024-06-29T13:42:27.909263",
     "exception": false,
     "start_time": "2024-06-29T13:42:27.876784",
     "status": "completed"
    },
    "tags": []
   },
   "outputs": [
    {
     "data": {
      "text/plain": [
       "Index(['show_id', 'type', 'title', 'director', 'cast', 'country', 'date_added',\n",
       "       'release_year', 'rating', 'duration', 'listed_in', 'description',\n",
       "       'release_month', 'year_added'],\n",
       "      dtype='object')"
      ]
     },
     "execution_count": 25,
     "metadata": {},
     "output_type": "execute_result"
    }
   ],
   "source": [
    "df_netflix.columns"
   ]
  },
  {
   "cell_type": "code",
   "execution_count": 26,
   "id": "7b1c436f",
   "metadata": {
    "execution": {
     "iopub.execute_input": "2024-06-29T13:42:27.953979Z",
     "iopub.status.busy": "2024-06-29T13:42:27.953104Z",
     "iopub.status.idle": "2024-06-29T13:42:27.967630Z",
     "shell.execute_reply": "2024-06-29T13:42:27.966632Z"
    },
    "papermill": {
     "duration": 0.0394,
     "end_time": "2024-06-29T13:42:27.970007",
     "exception": false,
     "start_time": "2024-06-29T13:42:27.930607",
     "status": "completed"
    },
    "tags": []
   },
   "outputs": [
    {
     "data": {
      "text/plain": [
       "Index(['show_id', 'type', 'title', 'director', 'cast', 'country', 'date_added',\n",
       "       'rating', 'duration', 'listed_in', 'description', 'release_month',\n",
       "       'year_added'],\n",
       "      dtype='object')"
      ]
     },
     "execution_count": 26,
     "metadata": {},
     "output_type": "execute_result"
    }
   ],
   "source": [
    "df_netflix.select_dtypes('object').columns"
   ]
  },
  {
   "cell_type": "code",
   "execution_count": 27,
   "id": "324d16e5",
   "metadata": {
    "execution": {
     "iopub.execute_input": "2024-06-29T13:42:28.014627Z",
     "iopub.status.busy": "2024-06-29T13:42:28.014260Z",
     "iopub.status.idle": "2024-06-29T13:42:28.022477Z",
     "shell.execute_reply": "2024-06-29T13:42:28.021390Z"
    },
    "papermill": {
     "duration": 0.033131,
     "end_time": "2024-06-29T13:42:28.024789",
     "exception": false,
     "start_time": "2024-06-29T13:42:27.991658",
     "status": "completed"
    },
    "tags": []
   },
   "outputs": [
    {
     "data": {
      "text/plain": [
       "Index(['release_year'], dtype='object')"
      ]
     },
     "execution_count": 27,
     "metadata": {},
     "output_type": "execute_result"
    }
   ],
   "source": [
    "df_netflix.select_dtypes('int').columns"
   ]
  },
  {
   "cell_type": "code",
   "execution_count": 28,
   "id": "40574312",
   "metadata": {
    "execution": {
     "iopub.execute_input": "2024-06-29T13:42:28.071344Z",
     "iopub.status.busy": "2024-06-29T13:42:28.070923Z",
     "iopub.status.idle": "2024-06-29T13:42:28.096842Z",
     "shell.execute_reply": "2024-06-29T13:42:28.095731Z"
    },
    "papermill": {
     "duration": 0.051757,
     "end_time": "2024-06-29T13:42:28.099469",
     "exception": false,
     "start_time": "2024-06-29T13:42:28.047712",
     "status": "completed"
    },
    "tags": []
   },
   "outputs": [],
   "source": [
    "object_columns=df_netflix.select_dtypes('object').columns\n",
    "integer_columns=df_netflix.select_dtypes('int').columns\n",
    "for column in df_netflix.columns:\n",
    "    if column in object_columns:\n",
    "        df_netflix[column]=df_netflix[column].fillna('Not Available')\n",
    "    if column in integer_columns:\n",
    "        df_netflix[column]=df_netflix[column].fillna(0)"
   ]
  },
  {
   "cell_type": "code",
   "execution_count": 29,
   "id": "c71fa227",
   "metadata": {
    "execution": {
     "iopub.execute_input": "2024-06-29T13:42:28.144926Z",
     "iopub.status.busy": "2024-06-29T13:42:28.144514Z",
     "iopub.status.idle": "2024-06-29T13:42:28.160808Z",
     "shell.execute_reply": "2024-06-29T13:42:28.159790Z"
    },
    "papermill": {
     "duration": 0.041858,
     "end_time": "2024-06-29T13:42:28.163086",
     "exception": false,
     "start_time": "2024-06-29T13:42:28.121228",
     "status": "completed"
    },
    "tags": []
   },
   "outputs": [
    {
     "data": {
      "text/plain": [
       "show_id          0\n",
       "type             0\n",
       "title            0\n",
       "director         0\n",
       "cast             0\n",
       "country          0\n",
       "date_added       0\n",
       "release_year     0\n",
       "rating           0\n",
       "duration         0\n",
       "listed_in        0\n",
       "description      0\n",
       "release_month    0\n",
       "year_added       0\n",
       "dtype: int64"
      ]
     },
     "execution_count": 29,
     "metadata": {},
     "output_type": "execute_result"
    }
   ],
   "source": [
    "df_netflix.isna().sum()"
   ]
  },
  {
   "cell_type": "code",
   "execution_count": 30,
   "id": "cdfa7d3e",
   "metadata": {
    "execution": {
     "iopub.execute_input": "2024-06-29T13:42:28.209103Z",
     "iopub.status.busy": "2024-06-29T13:42:28.208319Z",
     "iopub.status.idle": "2024-06-29T13:42:28.220179Z",
     "shell.execute_reply": "2024-06-29T13:42:28.219103Z"
    },
    "papermill": {
     "duration": 0.03792,
     "end_time": "2024-06-29T13:42:28.222682",
     "exception": false,
     "start_time": "2024-06-29T13:42:28.184762",
     "status": "completed"
    },
    "tags": []
   },
   "outputs": [],
   "source": [
    "df_netflix.drop(columns=['date_added'],axis=1,inplace=True)"
   ]
  },
  {
   "cell_type": "code",
   "execution_count": 31,
   "id": "3cd64adf",
   "metadata": {
    "execution": {
     "iopub.execute_input": "2024-06-29T13:42:28.268595Z",
     "iopub.status.busy": "2024-06-29T13:42:28.268220Z",
     "iopub.status.idle": "2024-06-29T13:42:28.285968Z",
     "shell.execute_reply": "2024-06-29T13:42:28.284299Z"
    },
    "papermill": {
     "duration": 0.043105,
     "end_time": "2024-06-29T13:42:28.288403",
     "exception": false,
     "start_time": "2024-06-29T13:42:28.245298",
     "status": "completed"
    },
    "tags": []
   },
   "outputs": [
    {
     "data": {
      "text/html": [
       "<div>\n",
       "<style scoped>\n",
       "    .dataframe tbody tr th:only-of-type {\n",
       "        vertical-align: middle;\n",
       "    }\n",
       "\n",
       "    .dataframe tbody tr th {\n",
       "        vertical-align: top;\n",
       "    }\n",
       "\n",
       "    .dataframe thead th {\n",
       "        text-align: right;\n",
       "    }\n",
       "</style>\n",
       "<table border=\"1\" class=\"dataframe\">\n",
       "  <thead>\n",
       "    <tr style=\"text-align: right;\">\n",
       "      <th></th>\n",
       "      <th>show_id</th>\n",
       "      <th>type</th>\n",
       "      <th>title</th>\n",
       "      <th>director</th>\n",
       "      <th>cast</th>\n",
       "      <th>country</th>\n",
       "      <th>release_year</th>\n",
       "      <th>rating</th>\n",
       "      <th>duration</th>\n",
       "      <th>listed_in</th>\n",
       "      <th>description</th>\n",
       "      <th>release_month</th>\n",
       "      <th>year_added</th>\n",
       "    </tr>\n",
       "  </thead>\n",
       "  <tbody>\n",
       "    <tr>\n",
       "      <th>0</th>\n",
       "      <td>s1</td>\n",
       "      <td>Movie</td>\n",
       "      <td>Dick Johnson Is Dead</td>\n",
       "      <td>Kirsten Johnson</td>\n",
       "      <td>Not Available</td>\n",
       "      <td>United States</td>\n",
       "      <td>2020</td>\n",
       "      <td>PG-13</td>\n",
       "      <td>90 min</td>\n",
       "      <td>Documentaries</td>\n",
       "      <td>As her father nears the end of his life, filmm...</td>\n",
       "      <td>September</td>\n",
       "      <td>2021</td>\n",
       "    </tr>\n",
       "    <tr>\n",
       "      <th>1</th>\n",
       "      <td>s2</td>\n",
       "      <td>TV Show</td>\n",
       "      <td>Blood &amp; Water</td>\n",
       "      <td>Not Available</td>\n",
       "      <td>Ama Qamata, Khosi Ngema, Gail Mabalane, Thaban...</td>\n",
       "      <td>South Africa</td>\n",
       "      <td>2021</td>\n",
       "      <td>TV-MA</td>\n",
       "      <td>2 Seasons</td>\n",
       "      <td>International TV Shows, TV Dramas, TV Mysteries</td>\n",
       "      <td>After crossing paths at a party, a Cape Town t...</td>\n",
       "      <td>September</td>\n",
       "      <td>2021</td>\n",
       "    </tr>\n",
       "    <tr>\n",
       "      <th>2</th>\n",
       "      <td>s3</td>\n",
       "      <td>TV Show</td>\n",
       "      <td>Ganglands</td>\n",
       "      <td>Julien Leclercq</td>\n",
       "      <td>Sami Bouajila, Tracy Gotoas, Samuel Jouy, Nabi...</td>\n",
       "      <td>Not Available</td>\n",
       "      <td>2021</td>\n",
       "      <td>TV-MA</td>\n",
       "      <td>1 Season</td>\n",
       "      <td>Crime TV Shows, International TV Shows, TV Act...</td>\n",
       "      <td>To protect his family from a powerful drug lor...</td>\n",
       "      <td>September</td>\n",
       "      <td>2021</td>\n",
       "    </tr>\n",
       "    <tr>\n",
       "      <th>3</th>\n",
       "      <td>s4</td>\n",
       "      <td>TV Show</td>\n",
       "      <td>Jailbirds New Orleans</td>\n",
       "      <td>Not Available</td>\n",
       "      <td>Not Available</td>\n",
       "      <td>Not Available</td>\n",
       "      <td>2021</td>\n",
       "      <td>TV-MA</td>\n",
       "      <td>1 Season</td>\n",
       "      <td>Docuseries, Reality TV</td>\n",
       "      <td>Feuds, flirtations and toilet talk go down amo...</td>\n",
       "      <td>September</td>\n",
       "      <td>2021</td>\n",
       "    </tr>\n",
       "    <tr>\n",
       "      <th>4</th>\n",
       "      <td>s5</td>\n",
       "      <td>TV Show</td>\n",
       "      <td>Kota Factory</td>\n",
       "      <td>Not Available</td>\n",
       "      <td>Mayur More, Jitendra Kumar, Ranjan Raj, Alam K...</td>\n",
       "      <td>India</td>\n",
       "      <td>2021</td>\n",
       "      <td>TV-MA</td>\n",
       "      <td>2 Seasons</td>\n",
       "      <td>International TV Shows, Romantic TV Shows, TV ...</td>\n",
       "      <td>In a city of coaching centers known to train I...</td>\n",
       "      <td>September</td>\n",
       "      <td>2021</td>\n",
       "    </tr>\n",
       "  </tbody>\n",
       "</table>\n",
       "</div>"
      ],
      "text/plain": [
       "  show_id     type                  title         director   \n",
       "0      s1    Movie   Dick Johnson Is Dead  Kirsten Johnson  \\\n",
       "1      s2  TV Show          Blood & Water    Not Available   \n",
       "2      s3  TV Show              Ganglands  Julien Leclercq   \n",
       "3      s4  TV Show  Jailbirds New Orleans    Not Available   \n",
       "4      s5  TV Show           Kota Factory    Not Available   \n",
       "\n",
       "                                                cast        country   \n",
       "0                                      Not Available  United States  \\\n",
       "1  Ama Qamata, Khosi Ngema, Gail Mabalane, Thaban...   South Africa   \n",
       "2  Sami Bouajila, Tracy Gotoas, Samuel Jouy, Nabi...  Not Available   \n",
       "3                                      Not Available  Not Available   \n",
       "4  Mayur More, Jitendra Kumar, Ranjan Raj, Alam K...          India   \n",
       "\n",
       "   release_year rating   duration   \n",
       "0          2020  PG-13     90 min  \\\n",
       "1          2021  TV-MA  2 Seasons   \n",
       "2          2021  TV-MA   1 Season   \n",
       "3          2021  TV-MA   1 Season   \n",
       "4          2021  TV-MA  2 Seasons   \n",
       "\n",
       "                                           listed_in   \n",
       "0                                      Documentaries  \\\n",
       "1    International TV Shows, TV Dramas, TV Mysteries   \n",
       "2  Crime TV Shows, International TV Shows, TV Act...   \n",
       "3                             Docuseries, Reality TV   \n",
       "4  International TV Shows, Romantic TV Shows, TV ...   \n",
       "\n",
       "                                         description release_month year_added  \n",
       "0  As her father nears the end of his life, filmm...     September       2021  \n",
       "1  After crossing paths at a party, a Cape Town t...     September       2021  \n",
       "2  To protect his family from a powerful drug lor...     September       2021  \n",
       "3  Feuds, flirtations and toilet talk go down amo...     September       2021  \n",
       "4  In a city of coaching centers known to train I...     September       2021  "
      ]
     },
     "execution_count": 31,
     "metadata": {},
     "output_type": "execute_result"
    }
   ],
   "source": [
    "df_netflix.head()"
   ]
  },
  {
   "cell_type": "markdown",
   "id": "258ed5b9",
   "metadata": {
    "papermill": {
     "duration": 0.021453,
     "end_time": "2024-06-29T13:42:28.331790",
     "exception": false,
     "start_time": "2024-06-29T13:42:28.310337",
     "status": "completed"
    },
    "tags": []
   },
   "source": [
    "### Checking Unique Values Of Duration Feature"
   ]
  },
  {
   "cell_type": "code",
   "execution_count": 32,
   "id": "0dd5e078",
   "metadata": {
    "execution": {
     "iopub.execute_input": "2024-06-29T13:42:28.377129Z",
     "iopub.status.busy": "2024-06-29T13:42:28.376292Z",
     "iopub.status.idle": "2024-06-29T13:42:28.384467Z",
     "shell.execute_reply": "2024-06-29T13:42:28.383502Z"
    },
    "papermill": {
     "duration": 0.033165,
     "end_time": "2024-06-29T13:42:28.386665",
     "exception": false,
     "start_time": "2024-06-29T13:42:28.353500",
     "status": "completed"
    },
    "tags": []
   },
   "outputs": [
    {
     "data": {
      "text/plain": [
       "array(['90 min', '2 Seasons', '1 Season', '91 min', '125 min',\n",
       "       '9 Seasons', '104 min', '127 min', '4 Seasons', '67 min', '94 min',\n",
       "       '5 Seasons', '161 min', '61 min', '166 min', '147 min', '103 min',\n",
       "       '97 min', '106 min', '111 min', '3 Seasons', '110 min', '105 min',\n",
       "       '96 min', '124 min', '116 min', '98 min', '23 min', '115 min',\n",
       "       '122 min', '99 min', '88 min', '100 min', '6 Seasons', '102 min',\n",
       "       '93 min', '95 min', '85 min', '83 min', '113 min', '13 min',\n",
       "       '182 min', '48 min', '145 min', '87 min', '92 min', '80 min',\n",
       "       '117 min', '128 min', '119 min', '143 min', '114 min', '118 min',\n",
       "       '108 min', '63 min', '121 min', '142 min', '154 min', '120 min',\n",
       "       '82 min', '109 min', '101 min', '86 min', '229 min', '76 min',\n",
       "       '89 min', '156 min', '112 min', '107 min', '129 min', '135 min',\n",
       "       '136 min', '165 min', '150 min', '133 min', '70 min', '84 min',\n",
       "       '140 min', '78 min', '7 Seasons', '64 min', '59 min', '139 min',\n",
       "       '69 min', '148 min', '189 min', '141 min', '130 min', '138 min',\n",
       "       '81 min', '132 min', '10 Seasons', '123 min', '65 min', '68 min',\n",
       "       '66 min', '62 min', '74 min', '131 min', '39 min', '46 min',\n",
       "       '38 min', '8 Seasons', '17 Seasons', '126 min', '155 min',\n",
       "       '159 min', '137 min', '12 min', '273 min', '36 min', '34 min',\n",
       "       '77 min', '60 min', '49 min', '58 min', '72 min', '204 min',\n",
       "       '212 min', '25 min', '73 min', '29 min', '47 min', '32 min',\n",
       "       '35 min', '71 min', '149 min', '33 min', '15 min', '54 min',\n",
       "       '224 min', '162 min', '37 min', '75 min', '79 min', '55 min',\n",
       "       '158 min', '164 min', '173 min', '181 min', '185 min', '21 min',\n",
       "       '24 min', '51 min', '151 min', '42 min', '22 min', '134 min',\n",
       "       '177 min', '13 Seasons', '52 min', '14 min', '53 min', '8 min',\n",
       "       '57 min', '28 min', '50 min', '9 min', '26 min', '45 min',\n",
       "       '171 min', '27 min', '44 min', '146 min', '20 min', '157 min',\n",
       "       '17 min', '203 min', '41 min', '30 min', '194 min', '15 Seasons',\n",
       "       '233 min', '237 min', '230 min', '195 min', '253 min', '152 min',\n",
       "       '190 min', '160 min', '208 min', '180 min', '144 min', '5 min',\n",
       "       '174 min', '170 min', '192 min', '209 min', '187 min', '172 min',\n",
       "       '16 min', '186 min', '11 min', '193 min', '176 min', '56 min',\n",
       "       '169 min', '40 min', '10 min', '3 min', '168 min', '312 min',\n",
       "       '153 min', '214 min', '31 min', '163 min', '19 min', '12 Seasons',\n",
       "       'Not Available', '179 min', '11 Seasons', '43 min', '200 min',\n",
       "       '196 min', '167 min', '178 min', '228 min', '18 min', '205 min',\n",
       "       '201 min', '191 min'], dtype=object)"
      ]
     },
     "execution_count": 32,
     "metadata": {},
     "output_type": "execute_result"
    }
   ],
   "source": [
    "df_netflix['duration'].unique()"
   ]
  },
  {
   "cell_type": "markdown",
   "id": "ad2d2b85",
   "metadata": {
    "papermill": {
     "duration": 0.021856,
     "end_time": "2024-06-29T13:42:28.430545",
     "exception": false,
     "start_time": "2024-06-29T13:42:28.408689",
     "status": "completed"
    },
    "tags": []
   },
   "source": [
    "### Replace Seasons To Season Of Duration Feature"
   ]
  },
  {
   "cell_type": "code",
   "execution_count": 33,
   "id": "eae43ea5",
   "metadata": {
    "execution": {
     "iopub.execute_input": "2024-06-29T13:42:28.478084Z",
     "iopub.status.busy": "2024-06-29T13:42:28.477707Z",
     "iopub.status.idle": "2024-06-29T13:42:28.486217Z",
     "shell.execute_reply": "2024-06-29T13:42:28.485124Z"
    },
    "papermill": {
     "duration": 0.034393,
     "end_time": "2024-06-29T13:42:28.488391",
     "exception": false,
     "start_time": "2024-06-29T13:42:28.453998",
     "status": "completed"
    },
    "tags": []
   },
   "outputs": [],
   "source": [
    "df_netflix['duration']=df_netflix['duration'].str.replace('Seasons','Season')"
   ]
  },
  {
   "cell_type": "code",
   "execution_count": 34,
   "id": "e01f3691",
   "metadata": {
    "execution": {
     "iopub.execute_input": "2024-06-29T13:42:28.534475Z",
     "iopub.status.busy": "2024-06-29T13:42:28.534105Z",
     "iopub.status.idle": "2024-06-29T13:42:28.542238Z",
     "shell.execute_reply": "2024-06-29T13:42:28.541147Z"
    },
    "papermill": {
     "duration": 0.034133,
     "end_time": "2024-06-29T13:42:28.544723",
     "exception": false,
     "start_time": "2024-06-29T13:42:28.510590",
     "status": "completed"
    },
    "tags": []
   },
   "outputs": [
    {
     "data": {
      "text/plain": [
       "array(['90 min', '2 Season', '1 Season', '91 min', '125 min', '9 Season',\n",
       "       '104 min', '127 min', '4 Season', '67 min', '94 min', '5 Season',\n",
       "       '161 min', '61 min', '166 min', '147 min', '103 min', '97 min',\n",
       "       '106 min', '111 min', '3 Season', '110 min', '105 min', '96 min',\n",
       "       '124 min', '116 min', '98 min', '23 min', '115 min', '122 min',\n",
       "       '99 min', '88 min', '100 min', '6 Season', '102 min', '93 min',\n",
       "       '95 min', '85 min', '83 min', '113 min', '13 min', '182 min',\n",
       "       '48 min', '145 min', '87 min', '92 min', '80 min', '117 min',\n",
       "       '128 min', '119 min', '143 min', '114 min', '118 min', '108 min',\n",
       "       '63 min', '121 min', '142 min', '154 min', '120 min', '82 min',\n",
       "       '109 min', '101 min', '86 min', '229 min', '76 min', '89 min',\n",
       "       '156 min', '112 min', '107 min', '129 min', '135 min', '136 min',\n",
       "       '165 min', '150 min', '133 min', '70 min', '84 min', '140 min',\n",
       "       '78 min', '7 Season', '64 min', '59 min', '139 min', '69 min',\n",
       "       '148 min', '189 min', '141 min', '130 min', '138 min', '81 min',\n",
       "       '132 min', '10 Season', '123 min', '65 min', '68 min', '66 min',\n",
       "       '62 min', '74 min', '131 min', '39 min', '46 min', '38 min',\n",
       "       '8 Season', '17 Season', '126 min', '155 min', '159 min',\n",
       "       '137 min', '12 min', '273 min', '36 min', '34 min', '77 min',\n",
       "       '60 min', '49 min', '58 min', '72 min', '204 min', '212 min',\n",
       "       '25 min', '73 min', '29 min', '47 min', '32 min', '35 min',\n",
       "       '71 min', '149 min', '33 min', '15 min', '54 min', '224 min',\n",
       "       '162 min', '37 min', '75 min', '79 min', '55 min', '158 min',\n",
       "       '164 min', '173 min', '181 min', '185 min', '21 min', '24 min',\n",
       "       '51 min', '151 min', '42 min', '22 min', '134 min', '177 min',\n",
       "       '13 Season', '52 min', '14 min', '53 min', '8 min', '57 min',\n",
       "       '28 min', '50 min', '9 min', '26 min', '45 min', '171 min',\n",
       "       '27 min', '44 min', '146 min', '20 min', '157 min', '17 min',\n",
       "       '203 min', '41 min', '30 min', '194 min', '15 Season', '233 min',\n",
       "       '237 min', '230 min', '195 min', '253 min', '152 min', '190 min',\n",
       "       '160 min', '208 min', '180 min', '144 min', '5 min', '174 min',\n",
       "       '170 min', '192 min', '209 min', '187 min', '172 min', '16 min',\n",
       "       '186 min', '11 min', '193 min', '176 min', '56 min', '169 min',\n",
       "       '40 min', '10 min', '3 min', '168 min', '312 min', '153 min',\n",
       "       '214 min', '31 min', '163 min', '19 min', '12 Season',\n",
       "       'Not Available', '179 min', '11 Season', '43 min', '200 min',\n",
       "       '196 min', '167 min', '178 min', '228 min', '18 min', '205 min',\n",
       "       '201 min', '191 min'], dtype=object)"
      ]
     },
     "execution_count": 34,
     "metadata": {},
     "output_type": "execute_result"
    }
   ],
   "source": [
    "df_netflix['duration'].unique()"
   ]
  },
  {
   "cell_type": "markdown",
   "id": "0a721c40",
   "metadata": {
    "papermill": {
     "duration": 0.022024,
     "end_time": "2024-06-29T13:42:28.589108",
     "exception": false,
     "start_time": "2024-06-29T13:42:28.567084",
     "status": "completed"
    },
    "tags": []
   },
   "source": [
    "### Monthly Shows Launch On Netflix"
   ]
  },
  {
   "cell_type": "code",
   "execution_count": 35,
   "id": "47d0fdfb",
   "metadata": {
    "execution": {
     "iopub.execute_input": "2024-06-29T13:42:28.635201Z",
     "iopub.status.busy": "2024-06-29T13:42:28.634500Z",
     "iopub.status.idle": "2024-06-29T13:42:28.643918Z",
     "shell.execute_reply": "2024-06-29T13:42:28.643085Z"
    },
    "papermill": {
     "duration": 0.034823,
     "end_time": "2024-06-29T13:42:28.646130",
     "exception": false,
     "start_time": "2024-06-29T13:42:28.611307",
     "status": "completed"
    },
    "tags": []
   },
   "outputs": [],
   "source": [
    "df_netflix_month=df_netflix.groupby('release_month').agg({'release_month':'count'}).rename(columns={'release_month':'show_month_count'})"
   ]
  },
  {
   "cell_type": "code",
   "execution_count": 36,
   "id": "059e4fbb",
   "metadata": {
    "execution": {
     "iopub.execute_input": "2024-06-29T13:42:28.693854Z",
     "iopub.status.busy": "2024-06-29T13:42:28.692911Z",
     "iopub.status.idle": "2024-06-29T13:42:30.553545Z",
     "shell.execute_reply": "2024-06-29T13:42:30.552468Z"
    },
    "papermill": {
     "duration": 1.887216,
     "end_time": "2024-06-29T13:42:30.556215",
     "exception": false,
     "start_time": "2024-06-29T13:42:28.668999",
     "status": "completed"
    },
    "tags": []
   },
   "outputs": [
    {
     "data": {
      "application/vnd.plotly.v1+json": {
       "config": {
        "plotlyServerURL": "https://plot.ly"
       },
       "data": [
        {
         "hovertemplate": "release_month=%{x}<br>show_month_count=%{y}<extra></extra>",
         "legendgroup": "",
         "line": {
          "color": "#636efa",
          "dash": "solid"
         },
         "marker": {
          "symbol": "circle"
         },
         "mode": "lines",
         "name": "",
         "orientation": "v",
         "showlegend": false,
         "type": "scatter",
         "x": [
          "",
          "April",
          "August",
          "December",
          "February",
          "January",
          "July",
          "June",
          "March",
          "May",
          "Not",
          "November",
          "October",
          "September"
         ],
         "xaxis": "x",
         "y": [
          88,
          759,
          749,
          797,
          557,
          727,
          819,
          724,
          734,
          626,
          10,
          697,
          755,
          765
         ],
         "yaxis": "y"
        }
       ],
       "layout": {
        "legend": {
         "tracegroupgap": 0
        },
        "template": {
         "data": {
          "bar": [
           {
            "error_x": {
             "color": "#2a3f5f"
            },
            "error_y": {
             "color": "#2a3f5f"
            },
            "marker": {
             "line": {
              "color": "#E5ECF6",
              "width": 0.5
             },
             "pattern": {
              "fillmode": "overlay",
              "size": 10,
              "solidity": 0.2
             }
            },
            "type": "bar"
           }
          ],
          "barpolar": [
           {
            "marker": {
             "line": {
              "color": "#E5ECF6",
              "width": 0.5
             },
             "pattern": {
              "fillmode": "overlay",
              "size": 10,
              "solidity": 0.2
             }
            },
            "type": "barpolar"
           }
          ],
          "carpet": [
           {
            "aaxis": {
             "endlinecolor": "#2a3f5f",
             "gridcolor": "white",
             "linecolor": "white",
             "minorgridcolor": "white",
             "startlinecolor": "#2a3f5f"
            },
            "baxis": {
             "endlinecolor": "#2a3f5f",
             "gridcolor": "white",
             "linecolor": "white",
             "minorgridcolor": "white",
             "startlinecolor": "#2a3f5f"
            },
            "type": "carpet"
           }
          ],
          "choropleth": [
           {
            "colorbar": {
             "outlinewidth": 0,
             "ticks": ""
            },
            "type": "choropleth"
           }
          ],
          "contour": [
           {
            "colorbar": {
             "outlinewidth": 0,
             "ticks": ""
            },
            "colorscale": [
             [
              0,
              "#0d0887"
             ],
             [
              0.1111111111111111,
              "#46039f"
             ],
             [
              0.2222222222222222,
              "#7201a8"
             ],
             [
              0.3333333333333333,
              "#9c179e"
             ],
             [
              0.4444444444444444,
              "#bd3786"
             ],
             [
              0.5555555555555556,
              "#d8576b"
             ],
             [
              0.6666666666666666,
              "#ed7953"
             ],
             [
              0.7777777777777778,
              "#fb9f3a"
             ],
             [
              0.8888888888888888,
              "#fdca26"
             ],
             [
              1,
              "#f0f921"
             ]
            ],
            "type": "contour"
           }
          ],
          "contourcarpet": [
           {
            "colorbar": {
             "outlinewidth": 0,
             "ticks": ""
            },
            "type": "contourcarpet"
           }
          ],
          "heatmap": [
           {
            "colorbar": {
             "outlinewidth": 0,
             "ticks": ""
            },
            "colorscale": [
             [
              0,
              "#0d0887"
             ],
             [
              0.1111111111111111,
              "#46039f"
             ],
             [
              0.2222222222222222,
              "#7201a8"
             ],
             [
              0.3333333333333333,
              "#9c179e"
             ],
             [
              0.4444444444444444,
              "#bd3786"
             ],
             [
              0.5555555555555556,
              "#d8576b"
             ],
             [
              0.6666666666666666,
              "#ed7953"
             ],
             [
              0.7777777777777778,
              "#fb9f3a"
             ],
             [
              0.8888888888888888,
              "#fdca26"
             ],
             [
              1,
              "#f0f921"
             ]
            ],
            "type": "heatmap"
           }
          ],
          "heatmapgl": [
           {
            "colorbar": {
             "outlinewidth": 0,
             "ticks": ""
            },
            "colorscale": [
             [
              0,
              "#0d0887"
             ],
             [
              0.1111111111111111,
              "#46039f"
             ],
             [
              0.2222222222222222,
              "#7201a8"
             ],
             [
              0.3333333333333333,
              "#9c179e"
             ],
             [
              0.4444444444444444,
              "#bd3786"
             ],
             [
              0.5555555555555556,
              "#d8576b"
             ],
             [
              0.6666666666666666,
              "#ed7953"
             ],
             [
              0.7777777777777778,
              "#fb9f3a"
             ],
             [
              0.8888888888888888,
              "#fdca26"
             ],
             [
              1,
              "#f0f921"
             ]
            ],
            "type": "heatmapgl"
           }
          ],
          "histogram": [
           {
            "marker": {
             "pattern": {
              "fillmode": "overlay",
              "size": 10,
              "solidity": 0.2
             }
            },
            "type": "histogram"
           }
          ],
          "histogram2d": [
           {
            "colorbar": {
             "outlinewidth": 0,
             "ticks": ""
            },
            "colorscale": [
             [
              0,
              "#0d0887"
             ],
             [
              0.1111111111111111,
              "#46039f"
             ],
             [
              0.2222222222222222,
              "#7201a8"
             ],
             [
              0.3333333333333333,
              "#9c179e"
             ],
             [
              0.4444444444444444,
              "#bd3786"
             ],
             [
              0.5555555555555556,
              "#d8576b"
             ],
             [
              0.6666666666666666,
              "#ed7953"
             ],
             [
              0.7777777777777778,
              "#fb9f3a"
             ],
             [
              0.8888888888888888,
              "#fdca26"
             ],
             [
              1,
              "#f0f921"
             ]
            ],
            "type": "histogram2d"
           }
          ],
          "histogram2dcontour": [
           {
            "colorbar": {
             "outlinewidth": 0,
             "ticks": ""
            },
            "colorscale": [
             [
              0,
              "#0d0887"
             ],
             [
              0.1111111111111111,
              "#46039f"
             ],
             [
              0.2222222222222222,
              "#7201a8"
             ],
             [
              0.3333333333333333,
              "#9c179e"
             ],
             [
              0.4444444444444444,
              "#bd3786"
             ],
             [
              0.5555555555555556,
              "#d8576b"
             ],
             [
              0.6666666666666666,
              "#ed7953"
             ],
             [
              0.7777777777777778,
              "#fb9f3a"
             ],
             [
              0.8888888888888888,
              "#fdca26"
             ],
             [
              1,
              "#f0f921"
             ]
            ],
            "type": "histogram2dcontour"
           }
          ],
          "mesh3d": [
           {
            "colorbar": {
             "outlinewidth": 0,
             "ticks": ""
            },
            "type": "mesh3d"
           }
          ],
          "parcoords": [
           {
            "line": {
             "colorbar": {
              "outlinewidth": 0,
              "ticks": ""
             }
            },
            "type": "parcoords"
           }
          ],
          "pie": [
           {
            "automargin": true,
            "type": "pie"
           }
          ],
          "scatter": [
           {
            "fillpattern": {
             "fillmode": "overlay",
             "size": 10,
             "solidity": 0.2
            },
            "type": "scatter"
           }
          ],
          "scatter3d": [
           {
            "line": {
             "colorbar": {
              "outlinewidth": 0,
              "ticks": ""
             }
            },
            "marker": {
             "colorbar": {
              "outlinewidth": 0,
              "ticks": ""
             }
            },
            "type": "scatter3d"
           }
          ],
          "scattercarpet": [
           {
            "marker": {
             "colorbar": {
              "outlinewidth": 0,
              "ticks": ""
             }
            },
            "type": "scattercarpet"
           }
          ],
          "scattergeo": [
           {
            "marker": {
             "colorbar": {
              "outlinewidth": 0,
              "ticks": ""
             }
            },
            "type": "scattergeo"
           }
          ],
          "scattergl": [
           {
            "marker": {
             "colorbar": {
              "outlinewidth": 0,
              "ticks": ""
             }
            },
            "type": "scattergl"
           }
          ],
          "scattermapbox": [
           {
            "marker": {
             "colorbar": {
              "outlinewidth": 0,
              "ticks": ""
             }
            },
            "type": "scattermapbox"
           }
          ],
          "scatterpolar": [
           {
            "marker": {
             "colorbar": {
              "outlinewidth": 0,
              "ticks": ""
             }
            },
            "type": "scatterpolar"
           }
          ],
          "scatterpolargl": [
           {
            "marker": {
             "colorbar": {
              "outlinewidth": 0,
              "ticks": ""
             }
            },
            "type": "scatterpolargl"
           }
          ],
          "scatterternary": [
           {
            "marker": {
             "colorbar": {
              "outlinewidth": 0,
              "ticks": ""
             }
            },
            "type": "scatterternary"
           }
          ],
          "surface": [
           {
            "colorbar": {
             "outlinewidth": 0,
             "ticks": ""
            },
            "colorscale": [
             [
              0,
              "#0d0887"
             ],
             [
              0.1111111111111111,
              "#46039f"
             ],
             [
              0.2222222222222222,
              "#7201a8"
             ],
             [
              0.3333333333333333,
              "#9c179e"
             ],
             [
              0.4444444444444444,
              "#bd3786"
             ],
             [
              0.5555555555555556,
              "#d8576b"
             ],
             [
              0.6666666666666666,
              "#ed7953"
             ],
             [
              0.7777777777777778,
              "#fb9f3a"
             ],
             [
              0.8888888888888888,
              "#fdca26"
             ],
             [
              1,
              "#f0f921"
             ]
            ],
            "type": "surface"
           }
          ],
          "table": [
           {
            "cells": {
             "fill": {
              "color": "#EBF0F8"
             },
             "line": {
              "color": "white"
             }
            },
            "header": {
             "fill": {
              "color": "#C8D4E3"
             },
             "line": {
              "color": "white"
             }
            },
            "type": "table"
           }
          ]
         },
         "layout": {
          "annotationdefaults": {
           "arrowcolor": "#2a3f5f",
           "arrowhead": 0,
           "arrowwidth": 1
          },
          "autotypenumbers": "strict",
          "coloraxis": {
           "colorbar": {
            "outlinewidth": 0,
            "ticks": ""
           }
          },
          "colorscale": {
           "diverging": [
            [
             0,
             "#8e0152"
            ],
            [
             0.1,
             "#c51b7d"
            ],
            [
             0.2,
             "#de77ae"
            ],
            [
             0.3,
             "#f1b6da"
            ],
            [
             0.4,
             "#fde0ef"
            ],
            [
             0.5,
             "#f7f7f7"
            ],
            [
             0.6,
             "#e6f5d0"
            ],
            [
             0.7,
             "#b8e186"
            ],
            [
             0.8,
             "#7fbc41"
            ],
            [
             0.9,
             "#4d9221"
            ],
            [
             1,
             "#276419"
            ]
           ],
           "sequential": [
            [
             0,
             "#0d0887"
            ],
            [
             0.1111111111111111,
             "#46039f"
            ],
            [
             0.2222222222222222,
             "#7201a8"
            ],
            [
             0.3333333333333333,
             "#9c179e"
            ],
            [
             0.4444444444444444,
             "#bd3786"
            ],
            [
             0.5555555555555556,
             "#d8576b"
            ],
            [
             0.6666666666666666,
             "#ed7953"
            ],
            [
             0.7777777777777778,
             "#fb9f3a"
            ],
            [
             0.8888888888888888,
             "#fdca26"
            ],
            [
             1,
             "#f0f921"
            ]
           ],
           "sequentialminus": [
            [
             0,
             "#0d0887"
            ],
            [
             0.1111111111111111,
             "#46039f"
            ],
            [
             0.2222222222222222,
             "#7201a8"
            ],
            [
             0.3333333333333333,
             "#9c179e"
            ],
            [
             0.4444444444444444,
             "#bd3786"
            ],
            [
             0.5555555555555556,
             "#d8576b"
            ],
            [
             0.6666666666666666,
             "#ed7953"
            ],
            [
             0.7777777777777778,
             "#fb9f3a"
            ],
            [
             0.8888888888888888,
             "#fdca26"
            ],
            [
             1,
             "#f0f921"
            ]
           ]
          },
          "colorway": [
           "#636efa",
           "#EF553B",
           "#00cc96",
           "#ab63fa",
           "#FFA15A",
           "#19d3f3",
           "#FF6692",
           "#B6E880",
           "#FF97FF",
           "#FECB52"
          ],
          "font": {
           "color": "#2a3f5f"
          },
          "geo": {
           "bgcolor": "white",
           "lakecolor": "white",
           "landcolor": "#E5ECF6",
           "showlakes": true,
           "showland": true,
           "subunitcolor": "white"
          },
          "hoverlabel": {
           "align": "left"
          },
          "hovermode": "closest",
          "mapbox": {
           "style": "light"
          },
          "paper_bgcolor": "white",
          "plot_bgcolor": "#E5ECF6",
          "polar": {
           "angularaxis": {
            "gridcolor": "white",
            "linecolor": "white",
            "ticks": ""
           },
           "bgcolor": "#E5ECF6",
           "radialaxis": {
            "gridcolor": "white",
            "linecolor": "white",
            "ticks": ""
           }
          },
          "scene": {
           "xaxis": {
            "backgroundcolor": "#E5ECF6",
            "gridcolor": "white",
            "gridwidth": 2,
            "linecolor": "white",
            "showbackground": true,
            "ticks": "",
            "zerolinecolor": "white"
           },
           "yaxis": {
            "backgroundcolor": "#E5ECF6",
            "gridcolor": "white",
            "gridwidth": 2,
            "linecolor": "white",
            "showbackground": true,
            "ticks": "",
            "zerolinecolor": "white"
           },
           "zaxis": {
            "backgroundcolor": "#E5ECF6",
            "gridcolor": "white",
            "gridwidth": 2,
            "linecolor": "white",
            "showbackground": true,
            "ticks": "",
            "zerolinecolor": "white"
           }
          },
          "shapedefaults": {
           "line": {
            "color": "#2a3f5f"
           }
          },
          "ternary": {
           "aaxis": {
            "gridcolor": "white",
            "linecolor": "white",
            "ticks": ""
           },
           "baxis": {
            "gridcolor": "white",
            "linecolor": "white",
            "ticks": ""
           },
           "bgcolor": "#E5ECF6",
           "caxis": {
            "gridcolor": "white",
            "linecolor": "white",
            "ticks": ""
           }
          },
          "title": {
           "x": 0.05
          },
          "xaxis": {
           "automargin": true,
           "gridcolor": "white",
           "linecolor": "white",
           "ticks": "",
           "title": {
            "standoff": 15
           },
           "zerolinecolor": "white",
           "zerolinewidth": 2
          },
          "yaxis": {
           "automargin": true,
           "gridcolor": "white",
           "linecolor": "white",
           "ticks": "",
           "title": {
            "standoff": 15
           },
           "zerolinecolor": "white",
           "zerolinewidth": 2
          }
         }
        },
        "title": {
         "text": "Monthly Shows Launch"
        },
        "xaxis": {
         "anchor": "y",
         "domain": [
          0,
          1
         ],
         "title": {
          "text": "release_month"
         }
        },
        "yaxis": {
         "anchor": "x",
         "domain": [
          0,
          1
         ],
         "title": {
          "text": "show_month_count"
         }
        }
       }
      }
     },
     "metadata": {},
     "output_type": "display_data"
    }
   ],
   "source": [
    "fig=px.line(df_netflix_month,y='show_month_count',x=df_netflix_month.index,title='Monthly Shows Launch')\n",
    "fig.show()"
   ]
  },
  {
   "cell_type": "markdown",
   "id": "ce1fa142",
   "metadata": {
    "papermill": {
     "duration": 0.022289,
     "end_time": "2024-06-29T13:42:30.601787",
     "exception": false,
     "start_time": "2024-06-29T13:42:30.579498",
     "status": "completed"
    },
    "tags": []
   },
   "source": [
    "### Year On Year Shows Release On Netflix"
   ]
  },
  {
   "cell_type": "code",
   "execution_count": 37,
   "id": "19902d33",
   "metadata": {
    "execution": {
     "iopub.execute_input": "2024-06-29T13:42:30.649290Z",
     "iopub.status.busy": "2024-06-29T13:42:30.648869Z",
     "iopub.status.idle": "2024-06-29T13:42:30.657255Z",
     "shell.execute_reply": "2024-06-29T13:42:30.656274Z"
    },
    "papermill": {
     "duration": 0.035182,
     "end_time": "2024-06-29T13:42:30.659735",
     "exception": false,
     "start_time": "2024-06-29T13:42:30.624553",
     "status": "completed"
    },
    "tags": []
   },
   "outputs": [],
   "source": [
    "df_netflix_year=df_netflix.groupby('release_year').agg({'release_year':'count'}).rename(columns={'release_year':'show_year_count'})"
   ]
  },
  {
   "cell_type": "code",
   "execution_count": 38,
   "id": "58604c0c",
   "metadata": {
    "execution": {
     "iopub.execute_input": "2024-06-29T13:42:30.706816Z",
     "iopub.status.busy": "2024-06-29T13:42:30.706431Z",
     "iopub.status.idle": "2024-06-29T13:42:30.763878Z",
     "shell.execute_reply": "2024-06-29T13:42:30.762765Z"
    },
    "papermill": {
     "duration": 0.083767,
     "end_time": "2024-06-29T13:42:30.766271",
     "exception": false,
     "start_time": "2024-06-29T13:42:30.682504",
     "status": "completed"
    },
    "tags": []
   },
   "outputs": [
    {
     "data": {
      "application/vnd.plotly.v1+json": {
       "config": {
        "plotlyServerURL": "https://plot.ly"
       },
       "data": [
        {
         "hovertemplate": "release_year=%{x}<br>show_year_count=%{y}<extra></extra>",
         "legendgroup": "",
         "line": {
          "color": "#636efa",
          "dash": "solid"
         },
         "marker": {
          "symbol": "circle"
         },
         "mode": "lines",
         "name": "",
         "orientation": "v",
         "showlegend": false,
         "type": "scatter",
         "x": [
          1925,
          1942,
          1943,
          1944,
          1945,
          1946,
          1947,
          1954,
          1955,
          1956,
          1958,
          1959,
          1960,
          1961,
          1962,
          1963,
          1964,
          1965,
          1966,
          1967,
          1968,
          1969,
          1970,
          1971,
          1972,
          1973,
          1974,
          1975,
          1976,
          1977,
          1978,
          1979,
          1980,
          1981,
          1982,
          1983,
          1984,
          1985,
          1986,
          1987,
          1988,
          1989,
          1990,
          1991,
          1992,
          1993,
          1994,
          1995,
          1996,
          1997,
          1998,
          1999,
          2000,
          2001,
          2002,
          2003,
          2004,
          2005,
          2006,
          2007,
          2008,
          2009,
          2010,
          2011,
          2012,
          2013,
          2014,
          2015,
          2016,
          2017,
          2018,
          2019,
          2020,
          2021
         ],
         "xaxis": "x",
         "y": [
          1,
          2,
          3,
          3,
          4,
          2,
          1,
          2,
          3,
          2,
          3,
          1,
          4,
          1,
          3,
          2,
          2,
          2,
          1,
          5,
          3,
          2,
          2,
          5,
          5,
          10,
          7,
          7,
          9,
          7,
          7,
          11,
          11,
          13,
          17,
          11,
          12,
          10,
          13,
          8,
          18,
          16,
          22,
          17,
          23,
          28,
          22,
          25,
          24,
          38,
          36,
          39,
          37,
          45,
          51,
          61,
          64,
          80,
          96,
          88,
          136,
          152,
          194,
          185,
          237,
          288,
          352,
          560,
          902,
          1032,
          1147,
          1030,
          953,
          592
         ],
         "yaxis": "y"
        }
       ],
       "layout": {
        "legend": {
         "tracegroupgap": 0
        },
        "template": {
         "data": {
          "bar": [
           {
            "error_x": {
             "color": "#2a3f5f"
            },
            "error_y": {
             "color": "#2a3f5f"
            },
            "marker": {
             "line": {
              "color": "#E5ECF6",
              "width": 0.5
             },
             "pattern": {
              "fillmode": "overlay",
              "size": 10,
              "solidity": 0.2
             }
            },
            "type": "bar"
           }
          ],
          "barpolar": [
           {
            "marker": {
             "line": {
              "color": "#E5ECF6",
              "width": 0.5
             },
             "pattern": {
              "fillmode": "overlay",
              "size": 10,
              "solidity": 0.2
             }
            },
            "type": "barpolar"
           }
          ],
          "carpet": [
           {
            "aaxis": {
             "endlinecolor": "#2a3f5f",
             "gridcolor": "white",
             "linecolor": "white",
             "minorgridcolor": "white",
             "startlinecolor": "#2a3f5f"
            },
            "baxis": {
             "endlinecolor": "#2a3f5f",
             "gridcolor": "white",
             "linecolor": "white",
             "minorgridcolor": "white",
             "startlinecolor": "#2a3f5f"
            },
            "type": "carpet"
           }
          ],
          "choropleth": [
           {
            "colorbar": {
             "outlinewidth": 0,
             "ticks": ""
            },
            "type": "choropleth"
           }
          ],
          "contour": [
           {
            "colorbar": {
             "outlinewidth": 0,
             "ticks": ""
            },
            "colorscale": [
             [
              0,
              "#0d0887"
             ],
             [
              0.1111111111111111,
              "#46039f"
             ],
             [
              0.2222222222222222,
              "#7201a8"
             ],
             [
              0.3333333333333333,
              "#9c179e"
             ],
             [
              0.4444444444444444,
              "#bd3786"
             ],
             [
              0.5555555555555556,
              "#d8576b"
             ],
             [
              0.6666666666666666,
              "#ed7953"
             ],
             [
              0.7777777777777778,
              "#fb9f3a"
             ],
             [
              0.8888888888888888,
              "#fdca26"
             ],
             [
              1,
              "#f0f921"
             ]
            ],
            "type": "contour"
           }
          ],
          "contourcarpet": [
           {
            "colorbar": {
             "outlinewidth": 0,
             "ticks": ""
            },
            "type": "contourcarpet"
           }
          ],
          "heatmap": [
           {
            "colorbar": {
             "outlinewidth": 0,
             "ticks": ""
            },
            "colorscale": [
             [
              0,
              "#0d0887"
             ],
             [
              0.1111111111111111,
              "#46039f"
             ],
             [
              0.2222222222222222,
              "#7201a8"
             ],
             [
              0.3333333333333333,
              "#9c179e"
             ],
             [
              0.4444444444444444,
              "#bd3786"
             ],
             [
              0.5555555555555556,
              "#d8576b"
             ],
             [
              0.6666666666666666,
              "#ed7953"
             ],
             [
              0.7777777777777778,
              "#fb9f3a"
             ],
             [
              0.8888888888888888,
              "#fdca26"
             ],
             [
              1,
              "#f0f921"
             ]
            ],
            "type": "heatmap"
           }
          ],
          "heatmapgl": [
           {
            "colorbar": {
             "outlinewidth": 0,
             "ticks": ""
            },
            "colorscale": [
             [
              0,
              "#0d0887"
             ],
             [
              0.1111111111111111,
              "#46039f"
             ],
             [
              0.2222222222222222,
              "#7201a8"
             ],
             [
              0.3333333333333333,
              "#9c179e"
             ],
             [
              0.4444444444444444,
              "#bd3786"
             ],
             [
              0.5555555555555556,
              "#d8576b"
             ],
             [
              0.6666666666666666,
              "#ed7953"
             ],
             [
              0.7777777777777778,
              "#fb9f3a"
             ],
             [
              0.8888888888888888,
              "#fdca26"
             ],
             [
              1,
              "#f0f921"
             ]
            ],
            "type": "heatmapgl"
           }
          ],
          "histogram": [
           {
            "marker": {
             "pattern": {
              "fillmode": "overlay",
              "size": 10,
              "solidity": 0.2
             }
            },
            "type": "histogram"
           }
          ],
          "histogram2d": [
           {
            "colorbar": {
             "outlinewidth": 0,
             "ticks": ""
            },
            "colorscale": [
             [
              0,
              "#0d0887"
             ],
             [
              0.1111111111111111,
              "#46039f"
             ],
             [
              0.2222222222222222,
              "#7201a8"
             ],
             [
              0.3333333333333333,
              "#9c179e"
             ],
             [
              0.4444444444444444,
              "#bd3786"
             ],
             [
              0.5555555555555556,
              "#d8576b"
             ],
             [
              0.6666666666666666,
              "#ed7953"
             ],
             [
              0.7777777777777778,
              "#fb9f3a"
             ],
             [
              0.8888888888888888,
              "#fdca26"
             ],
             [
              1,
              "#f0f921"
             ]
            ],
            "type": "histogram2d"
           }
          ],
          "histogram2dcontour": [
           {
            "colorbar": {
             "outlinewidth": 0,
             "ticks": ""
            },
            "colorscale": [
             [
              0,
              "#0d0887"
             ],
             [
              0.1111111111111111,
              "#46039f"
             ],
             [
              0.2222222222222222,
              "#7201a8"
             ],
             [
              0.3333333333333333,
              "#9c179e"
             ],
             [
              0.4444444444444444,
              "#bd3786"
             ],
             [
              0.5555555555555556,
              "#d8576b"
             ],
             [
              0.6666666666666666,
              "#ed7953"
             ],
             [
              0.7777777777777778,
              "#fb9f3a"
             ],
             [
              0.8888888888888888,
              "#fdca26"
             ],
             [
              1,
              "#f0f921"
             ]
            ],
            "type": "histogram2dcontour"
           }
          ],
          "mesh3d": [
           {
            "colorbar": {
             "outlinewidth": 0,
             "ticks": ""
            },
            "type": "mesh3d"
           }
          ],
          "parcoords": [
           {
            "line": {
             "colorbar": {
              "outlinewidth": 0,
              "ticks": ""
             }
            },
            "type": "parcoords"
           }
          ],
          "pie": [
           {
            "automargin": true,
            "type": "pie"
           }
          ],
          "scatter": [
           {
            "fillpattern": {
             "fillmode": "overlay",
             "size": 10,
             "solidity": 0.2
            },
            "type": "scatter"
           }
          ],
          "scatter3d": [
           {
            "line": {
             "colorbar": {
              "outlinewidth": 0,
              "ticks": ""
             }
            },
            "marker": {
             "colorbar": {
              "outlinewidth": 0,
              "ticks": ""
             }
            },
            "type": "scatter3d"
           }
          ],
          "scattercarpet": [
           {
            "marker": {
             "colorbar": {
              "outlinewidth": 0,
              "ticks": ""
             }
            },
            "type": "scattercarpet"
           }
          ],
          "scattergeo": [
           {
            "marker": {
             "colorbar": {
              "outlinewidth": 0,
              "ticks": ""
             }
            },
            "type": "scattergeo"
           }
          ],
          "scattergl": [
           {
            "marker": {
             "colorbar": {
              "outlinewidth": 0,
              "ticks": ""
             }
            },
            "type": "scattergl"
           }
          ],
          "scattermapbox": [
           {
            "marker": {
             "colorbar": {
              "outlinewidth": 0,
              "ticks": ""
             }
            },
            "type": "scattermapbox"
           }
          ],
          "scatterpolar": [
           {
            "marker": {
             "colorbar": {
              "outlinewidth": 0,
              "ticks": ""
             }
            },
            "type": "scatterpolar"
           }
          ],
          "scatterpolargl": [
           {
            "marker": {
             "colorbar": {
              "outlinewidth": 0,
              "ticks": ""
             }
            },
            "type": "scatterpolargl"
           }
          ],
          "scatterternary": [
           {
            "marker": {
             "colorbar": {
              "outlinewidth": 0,
              "ticks": ""
             }
            },
            "type": "scatterternary"
           }
          ],
          "surface": [
           {
            "colorbar": {
             "outlinewidth": 0,
             "ticks": ""
            },
            "colorscale": [
             [
              0,
              "#0d0887"
             ],
             [
              0.1111111111111111,
              "#46039f"
             ],
             [
              0.2222222222222222,
              "#7201a8"
             ],
             [
              0.3333333333333333,
              "#9c179e"
             ],
             [
              0.4444444444444444,
              "#bd3786"
             ],
             [
              0.5555555555555556,
              "#d8576b"
             ],
             [
              0.6666666666666666,
              "#ed7953"
             ],
             [
              0.7777777777777778,
              "#fb9f3a"
             ],
             [
              0.8888888888888888,
              "#fdca26"
             ],
             [
              1,
              "#f0f921"
             ]
            ],
            "type": "surface"
           }
          ],
          "table": [
           {
            "cells": {
             "fill": {
              "color": "#EBF0F8"
             },
             "line": {
              "color": "white"
             }
            },
            "header": {
             "fill": {
              "color": "#C8D4E3"
             },
             "line": {
              "color": "white"
             }
            },
            "type": "table"
           }
          ]
         },
         "layout": {
          "annotationdefaults": {
           "arrowcolor": "#2a3f5f",
           "arrowhead": 0,
           "arrowwidth": 1
          },
          "autotypenumbers": "strict",
          "coloraxis": {
           "colorbar": {
            "outlinewidth": 0,
            "ticks": ""
           }
          },
          "colorscale": {
           "diverging": [
            [
             0,
             "#8e0152"
            ],
            [
             0.1,
             "#c51b7d"
            ],
            [
             0.2,
             "#de77ae"
            ],
            [
             0.3,
             "#f1b6da"
            ],
            [
             0.4,
             "#fde0ef"
            ],
            [
             0.5,
             "#f7f7f7"
            ],
            [
             0.6,
             "#e6f5d0"
            ],
            [
             0.7,
             "#b8e186"
            ],
            [
             0.8,
             "#7fbc41"
            ],
            [
             0.9,
             "#4d9221"
            ],
            [
             1,
             "#276419"
            ]
           ],
           "sequential": [
            [
             0,
             "#0d0887"
            ],
            [
             0.1111111111111111,
             "#46039f"
            ],
            [
             0.2222222222222222,
             "#7201a8"
            ],
            [
             0.3333333333333333,
             "#9c179e"
            ],
            [
             0.4444444444444444,
             "#bd3786"
            ],
            [
             0.5555555555555556,
             "#d8576b"
            ],
            [
             0.6666666666666666,
             "#ed7953"
            ],
            [
             0.7777777777777778,
             "#fb9f3a"
            ],
            [
             0.8888888888888888,
             "#fdca26"
            ],
            [
             1,
             "#f0f921"
            ]
           ],
           "sequentialminus": [
            [
             0,
             "#0d0887"
            ],
            [
             0.1111111111111111,
             "#46039f"
            ],
            [
             0.2222222222222222,
             "#7201a8"
            ],
            [
             0.3333333333333333,
             "#9c179e"
            ],
            [
             0.4444444444444444,
             "#bd3786"
            ],
            [
             0.5555555555555556,
             "#d8576b"
            ],
            [
             0.6666666666666666,
             "#ed7953"
            ],
            [
             0.7777777777777778,
             "#fb9f3a"
            ],
            [
             0.8888888888888888,
             "#fdca26"
            ],
            [
             1,
             "#f0f921"
            ]
           ]
          },
          "colorway": [
           "#636efa",
           "#EF553B",
           "#00cc96",
           "#ab63fa",
           "#FFA15A",
           "#19d3f3",
           "#FF6692",
           "#B6E880",
           "#FF97FF",
           "#FECB52"
          ],
          "font": {
           "color": "#2a3f5f"
          },
          "geo": {
           "bgcolor": "white",
           "lakecolor": "white",
           "landcolor": "#E5ECF6",
           "showlakes": true,
           "showland": true,
           "subunitcolor": "white"
          },
          "hoverlabel": {
           "align": "left"
          },
          "hovermode": "closest",
          "mapbox": {
           "style": "light"
          },
          "paper_bgcolor": "white",
          "plot_bgcolor": "#E5ECF6",
          "polar": {
           "angularaxis": {
            "gridcolor": "white",
            "linecolor": "white",
            "ticks": ""
           },
           "bgcolor": "#E5ECF6",
           "radialaxis": {
            "gridcolor": "white",
            "linecolor": "white",
            "ticks": ""
           }
          },
          "scene": {
           "xaxis": {
            "backgroundcolor": "#E5ECF6",
            "gridcolor": "white",
            "gridwidth": 2,
            "linecolor": "white",
            "showbackground": true,
            "ticks": "",
            "zerolinecolor": "white"
           },
           "yaxis": {
            "backgroundcolor": "#E5ECF6",
            "gridcolor": "white",
            "gridwidth": 2,
            "linecolor": "white",
            "showbackground": true,
            "ticks": "",
            "zerolinecolor": "white"
           },
           "zaxis": {
            "backgroundcolor": "#E5ECF6",
            "gridcolor": "white",
            "gridwidth": 2,
            "linecolor": "white",
            "showbackground": true,
            "ticks": "",
            "zerolinecolor": "white"
           }
          },
          "shapedefaults": {
           "line": {
            "color": "#2a3f5f"
           }
          },
          "ternary": {
           "aaxis": {
            "gridcolor": "white",
            "linecolor": "white",
            "ticks": ""
           },
           "baxis": {
            "gridcolor": "white",
            "linecolor": "white",
            "ticks": ""
           },
           "bgcolor": "#E5ECF6",
           "caxis": {
            "gridcolor": "white",
            "linecolor": "white",
            "ticks": ""
           }
          },
          "title": {
           "x": 0.05
          },
          "xaxis": {
           "automargin": true,
           "gridcolor": "white",
           "linecolor": "white",
           "ticks": "",
           "title": {
            "standoff": 15
           },
           "zerolinecolor": "white",
           "zerolinewidth": 2
          },
          "yaxis": {
           "automargin": true,
           "gridcolor": "white",
           "linecolor": "white",
           "ticks": "",
           "title": {
            "standoff": 15
           },
           "zerolinecolor": "white",
           "zerolinewidth": 2
          }
         }
        },
        "title": {
         "text": "Year On Year Shows Launch"
        },
        "xaxis": {
         "anchor": "y",
         "domain": [
          0,
          1
         ],
         "title": {
          "text": "release_year"
         }
        },
        "yaxis": {
         "anchor": "x",
         "domain": [
          0,
          1
         ],
         "title": {
          "text": "show_year_count"
         }
        }
       }
      }
     },
     "metadata": {},
     "output_type": "display_data"
    }
   ],
   "source": [
    "fig=px.line(df_netflix_year,y='show_year_count',x=df_netflix_year.index,title='Year On Year Shows Launch')\n",
    "fig.show()"
   ]
  },
  {
   "cell_type": "markdown",
   "id": "b2f64f55",
   "metadata": {
    "papermill": {
     "duration": 0.022959,
     "end_time": "2024-06-29T13:42:30.812896",
     "exception": false,
     "start_time": "2024-06-29T13:42:30.789937",
     "status": "completed"
    },
    "tags": []
   },
   "source": [
    "### Year On Year Shows Added On Netflix"
   ]
  },
  {
   "cell_type": "code",
   "execution_count": 39,
   "id": "7d32c170",
   "metadata": {
    "execution": {
     "iopub.execute_input": "2024-06-29T13:42:30.860513Z",
     "iopub.status.busy": "2024-06-29T13:42:30.860094Z",
     "iopub.status.idle": "2024-06-29T13:42:30.870535Z",
     "shell.execute_reply": "2024-06-29T13:42:30.869398Z"
    },
    "papermill": {
     "duration": 0.037225,
     "end_time": "2024-06-29T13:42:30.873053",
     "exception": false,
     "start_time": "2024-06-29T13:42:30.835828",
     "status": "completed"
    },
    "tags": []
   },
   "outputs": [],
   "source": [
    "df_netflix_year_netflix=df_netflix.groupby('year_added').agg({'year_added':'count'}).rename(columns={'year_added':'year_added_count'})"
   ]
  },
  {
   "cell_type": "code",
   "execution_count": 40,
   "id": "29b52032",
   "metadata": {
    "execution": {
     "iopub.execute_input": "2024-06-29T13:42:30.920671Z",
     "iopub.status.busy": "2024-06-29T13:42:30.919891Z",
     "iopub.status.idle": "2024-06-29T13:42:30.976348Z",
     "shell.execute_reply": "2024-06-29T13:42:30.975190Z"
    },
    "papermill": {
     "duration": 0.082781,
     "end_time": "2024-06-29T13:42:30.978778",
     "exception": false,
     "start_time": "2024-06-29T13:42:30.895997",
     "status": "completed"
    },
    "tags": []
   },
   "outputs": [
    {
     "data": {
      "application/vnd.plotly.v1+json": {
       "config": {
        "plotlyServerURL": "https://plot.ly"
       },
       "data": [
        {
         "hovertemplate": "year_added=%{x}<br>year_added_count=%{y}<extra></extra>",
         "legendgroup": "",
         "line": {
          "color": "#636efa",
          "dash": "solid"
         },
         "marker": {
          "symbol": "circle"
         },
         "mode": "lines",
         "name": "",
         "orientation": "v",
         "showlegend": false,
         "type": "scatter",
         "x": [
          "2008",
          "2009",
          "2010",
          "2011",
          "2012",
          "2013",
          "2014",
          "2015",
          "2016",
          "2017",
          "2018",
          "2019",
          "2020",
          "2021",
          "Not Available"
         ],
         "xaxis": "x",
         "y": [
          2,
          2,
          1,
          13,
          3,
          11,
          24,
          82,
          429,
          1188,
          1649,
          2016,
          1879,
          1498,
          10
         ],
         "yaxis": "y"
        }
       ],
       "layout": {
        "legend": {
         "tracegroupgap": 0
        },
        "template": {
         "data": {
          "bar": [
           {
            "error_x": {
             "color": "#2a3f5f"
            },
            "error_y": {
             "color": "#2a3f5f"
            },
            "marker": {
             "line": {
              "color": "#E5ECF6",
              "width": 0.5
             },
             "pattern": {
              "fillmode": "overlay",
              "size": 10,
              "solidity": 0.2
             }
            },
            "type": "bar"
           }
          ],
          "barpolar": [
           {
            "marker": {
             "line": {
              "color": "#E5ECF6",
              "width": 0.5
             },
             "pattern": {
              "fillmode": "overlay",
              "size": 10,
              "solidity": 0.2
             }
            },
            "type": "barpolar"
           }
          ],
          "carpet": [
           {
            "aaxis": {
             "endlinecolor": "#2a3f5f",
             "gridcolor": "white",
             "linecolor": "white",
             "minorgridcolor": "white",
             "startlinecolor": "#2a3f5f"
            },
            "baxis": {
             "endlinecolor": "#2a3f5f",
             "gridcolor": "white",
             "linecolor": "white",
             "minorgridcolor": "white",
             "startlinecolor": "#2a3f5f"
            },
            "type": "carpet"
           }
          ],
          "choropleth": [
           {
            "colorbar": {
             "outlinewidth": 0,
             "ticks": ""
            },
            "type": "choropleth"
           }
          ],
          "contour": [
           {
            "colorbar": {
             "outlinewidth": 0,
             "ticks": ""
            },
            "colorscale": [
             [
              0,
              "#0d0887"
             ],
             [
              0.1111111111111111,
              "#46039f"
             ],
             [
              0.2222222222222222,
              "#7201a8"
             ],
             [
              0.3333333333333333,
              "#9c179e"
             ],
             [
              0.4444444444444444,
              "#bd3786"
             ],
             [
              0.5555555555555556,
              "#d8576b"
             ],
             [
              0.6666666666666666,
              "#ed7953"
             ],
             [
              0.7777777777777778,
              "#fb9f3a"
             ],
             [
              0.8888888888888888,
              "#fdca26"
             ],
             [
              1,
              "#f0f921"
             ]
            ],
            "type": "contour"
           }
          ],
          "contourcarpet": [
           {
            "colorbar": {
             "outlinewidth": 0,
             "ticks": ""
            },
            "type": "contourcarpet"
           }
          ],
          "heatmap": [
           {
            "colorbar": {
             "outlinewidth": 0,
             "ticks": ""
            },
            "colorscale": [
             [
              0,
              "#0d0887"
             ],
             [
              0.1111111111111111,
              "#46039f"
             ],
             [
              0.2222222222222222,
              "#7201a8"
             ],
             [
              0.3333333333333333,
              "#9c179e"
             ],
             [
              0.4444444444444444,
              "#bd3786"
             ],
             [
              0.5555555555555556,
              "#d8576b"
             ],
             [
              0.6666666666666666,
              "#ed7953"
             ],
             [
              0.7777777777777778,
              "#fb9f3a"
             ],
             [
              0.8888888888888888,
              "#fdca26"
             ],
             [
              1,
              "#f0f921"
             ]
            ],
            "type": "heatmap"
           }
          ],
          "heatmapgl": [
           {
            "colorbar": {
             "outlinewidth": 0,
             "ticks": ""
            },
            "colorscale": [
             [
              0,
              "#0d0887"
             ],
             [
              0.1111111111111111,
              "#46039f"
             ],
             [
              0.2222222222222222,
              "#7201a8"
             ],
             [
              0.3333333333333333,
              "#9c179e"
             ],
             [
              0.4444444444444444,
              "#bd3786"
             ],
             [
              0.5555555555555556,
              "#d8576b"
             ],
             [
              0.6666666666666666,
              "#ed7953"
             ],
             [
              0.7777777777777778,
              "#fb9f3a"
             ],
             [
              0.8888888888888888,
              "#fdca26"
             ],
             [
              1,
              "#f0f921"
             ]
            ],
            "type": "heatmapgl"
           }
          ],
          "histogram": [
           {
            "marker": {
             "pattern": {
              "fillmode": "overlay",
              "size": 10,
              "solidity": 0.2
             }
            },
            "type": "histogram"
           }
          ],
          "histogram2d": [
           {
            "colorbar": {
             "outlinewidth": 0,
             "ticks": ""
            },
            "colorscale": [
             [
              0,
              "#0d0887"
             ],
             [
              0.1111111111111111,
              "#46039f"
             ],
             [
              0.2222222222222222,
              "#7201a8"
             ],
             [
              0.3333333333333333,
              "#9c179e"
             ],
             [
              0.4444444444444444,
              "#bd3786"
             ],
             [
              0.5555555555555556,
              "#d8576b"
             ],
             [
              0.6666666666666666,
              "#ed7953"
             ],
             [
              0.7777777777777778,
              "#fb9f3a"
             ],
             [
              0.8888888888888888,
              "#fdca26"
             ],
             [
              1,
              "#f0f921"
             ]
            ],
            "type": "histogram2d"
           }
          ],
          "histogram2dcontour": [
           {
            "colorbar": {
             "outlinewidth": 0,
             "ticks": ""
            },
            "colorscale": [
             [
              0,
              "#0d0887"
             ],
             [
              0.1111111111111111,
              "#46039f"
             ],
             [
              0.2222222222222222,
              "#7201a8"
             ],
             [
              0.3333333333333333,
              "#9c179e"
             ],
             [
              0.4444444444444444,
              "#bd3786"
             ],
             [
              0.5555555555555556,
              "#d8576b"
             ],
             [
              0.6666666666666666,
              "#ed7953"
             ],
             [
              0.7777777777777778,
              "#fb9f3a"
             ],
             [
              0.8888888888888888,
              "#fdca26"
             ],
             [
              1,
              "#f0f921"
             ]
            ],
            "type": "histogram2dcontour"
           }
          ],
          "mesh3d": [
           {
            "colorbar": {
             "outlinewidth": 0,
             "ticks": ""
            },
            "type": "mesh3d"
           }
          ],
          "parcoords": [
           {
            "line": {
             "colorbar": {
              "outlinewidth": 0,
              "ticks": ""
             }
            },
            "type": "parcoords"
           }
          ],
          "pie": [
           {
            "automargin": true,
            "type": "pie"
           }
          ],
          "scatter": [
           {
            "fillpattern": {
             "fillmode": "overlay",
             "size": 10,
             "solidity": 0.2
            },
            "type": "scatter"
           }
          ],
          "scatter3d": [
           {
            "line": {
             "colorbar": {
              "outlinewidth": 0,
              "ticks": ""
             }
            },
            "marker": {
             "colorbar": {
              "outlinewidth": 0,
              "ticks": ""
             }
            },
            "type": "scatter3d"
           }
          ],
          "scattercarpet": [
           {
            "marker": {
             "colorbar": {
              "outlinewidth": 0,
              "ticks": ""
             }
            },
            "type": "scattercarpet"
           }
          ],
          "scattergeo": [
           {
            "marker": {
             "colorbar": {
              "outlinewidth": 0,
              "ticks": ""
             }
            },
            "type": "scattergeo"
           }
          ],
          "scattergl": [
           {
            "marker": {
             "colorbar": {
              "outlinewidth": 0,
              "ticks": ""
             }
            },
            "type": "scattergl"
           }
          ],
          "scattermapbox": [
           {
            "marker": {
             "colorbar": {
              "outlinewidth": 0,
              "ticks": ""
             }
            },
            "type": "scattermapbox"
           }
          ],
          "scatterpolar": [
           {
            "marker": {
             "colorbar": {
              "outlinewidth": 0,
              "ticks": ""
             }
            },
            "type": "scatterpolar"
           }
          ],
          "scatterpolargl": [
           {
            "marker": {
             "colorbar": {
              "outlinewidth": 0,
              "ticks": ""
             }
            },
            "type": "scatterpolargl"
           }
          ],
          "scatterternary": [
           {
            "marker": {
             "colorbar": {
              "outlinewidth": 0,
              "ticks": ""
             }
            },
            "type": "scatterternary"
           }
          ],
          "surface": [
           {
            "colorbar": {
             "outlinewidth": 0,
             "ticks": ""
            },
            "colorscale": [
             [
              0,
              "#0d0887"
             ],
             [
              0.1111111111111111,
              "#46039f"
             ],
             [
              0.2222222222222222,
              "#7201a8"
             ],
             [
              0.3333333333333333,
              "#9c179e"
             ],
             [
              0.4444444444444444,
              "#bd3786"
             ],
             [
              0.5555555555555556,
              "#d8576b"
             ],
             [
              0.6666666666666666,
              "#ed7953"
             ],
             [
              0.7777777777777778,
              "#fb9f3a"
             ],
             [
              0.8888888888888888,
              "#fdca26"
             ],
             [
              1,
              "#f0f921"
             ]
            ],
            "type": "surface"
           }
          ],
          "table": [
           {
            "cells": {
             "fill": {
              "color": "#EBF0F8"
             },
             "line": {
              "color": "white"
             }
            },
            "header": {
             "fill": {
              "color": "#C8D4E3"
             },
             "line": {
              "color": "white"
             }
            },
            "type": "table"
           }
          ]
         },
         "layout": {
          "annotationdefaults": {
           "arrowcolor": "#2a3f5f",
           "arrowhead": 0,
           "arrowwidth": 1
          },
          "autotypenumbers": "strict",
          "coloraxis": {
           "colorbar": {
            "outlinewidth": 0,
            "ticks": ""
           }
          },
          "colorscale": {
           "diverging": [
            [
             0,
             "#8e0152"
            ],
            [
             0.1,
             "#c51b7d"
            ],
            [
             0.2,
             "#de77ae"
            ],
            [
             0.3,
             "#f1b6da"
            ],
            [
             0.4,
             "#fde0ef"
            ],
            [
             0.5,
             "#f7f7f7"
            ],
            [
             0.6,
             "#e6f5d0"
            ],
            [
             0.7,
             "#b8e186"
            ],
            [
             0.8,
             "#7fbc41"
            ],
            [
             0.9,
             "#4d9221"
            ],
            [
             1,
             "#276419"
            ]
           ],
           "sequential": [
            [
             0,
             "#0d0887"
            ],
            [
             0.1111111111111111,
             "#46039f"
            ],
            [
             0.2222222222222222,
             "#7201a8"
            ],
            [
             0.3333333333333333,
             "#9c179e"
            ],
            [
             0.4444444444444444,
             "#bd3786"
            ],
            [
             0.5555555555555556,
             "#d8576b"
            ],
            [
             0.6666666666666666,
             "#ed7953"
            ],
            [
             0.7777777777777778,
             "#fb9f3a"
            ],
            [
             0.8888888888888888,
             "#fdca26"
            ],
            [
             1,
             "#f0f921"
            ]
           ],
           "sequentialminus": [
            [
             0,
             "#0d0887"
            ],
            [
             0.1111111111111111,
             "#46039f"
            ],
            [
             0.2222222222222222,
             "#7201a8"
            ],
            [
             0.3333333333333333,
             "#9c179e"
            ],
            [
             0.4444444444444444,
             "#bd3786"
            ],
            [
             0.5555555555555556,
             "#d8576b"
            ],
            [
             0.6666666666666666,
             "#ed7953"
            ],
            [
             0.7777777777777778,
             "#fb9f3a"
            ],
            [
             0.8888888888888888,
             "#fdca26"
            ],
            [
             1,
             "#f0f921"
            ]
           ]
          },
          "colorway": [
           "#636efa",
           "#EF553B",
           "#00cc96",
           "#ab63fa",
           "#FFA15A",
           "#19d3f3",
           "#FF6692",
           "#B6E880",
           "#FF97FF",
           "#FECB52"
          ],
          "font": {
           "color": "#2a3f5f"
          },
          "geo": {
           "bgcolor": "white",
           "lakecolor": "white",
           "landcolor": "#E5ECF6",
           "showlakes": true,
           "showland": true,
           "subunitcolor": "white"
          },
          "hoverlabel": {
           "align": "left"
          },
          "hovermode": "closest",
          "mapbox": {
           "style": "light"
          },
          "paper_bgcolor": "white",
          "plot_bgcolor": "#E5ECF6",
          "polar": {
           "angularaxis": {
            "gridcolor": "white",
            "linecolor": "white",
            "ticks": ""
           },
           "bgcolor": "#E5ECF6",
           "radialaxis": {
            "gridcolor": "white",
            "linecolor": "white",
            "ticks": ""
           }
          },
          "scene": {
           "xaxis": {
            "backgroundcolor": "#E5ECF6",
            "gridcolor": "white",
            "gridwidth": 2,
            "linecolor": "white",
            "showbackground": true,
            "ticks": "",
            "zerolinecolor": "white"
           },
           "yaxis": {
            "backgroundcolor": "#E5ECF6",
            "gridcolor": "white",
            "gridwidth": 2,
            "linecolor": "white",
            "showbackground": true,
            "ticks": "",
            "zerolinecolor": "white"
           },
           "zaxis": {
            "backgroundcolor": "#E5ECF6",
            "gridcolor": "white",
            "gridwidth": 2,
            "linecolor": "white",
            "showbackground": true,
            "ticks": "",
            "zerolinecolor": "white"
           }
          },
          "shapedefaults": {
           "line": {
            "color": "#2a3f5f"
           }
          },
          "ternary": {
           "aaxis": {
            "gridcolor": "white",
            "linecolor": "white",
            "ticks": ""
           },
           "baxis": {
            "gridcolor": "white",
            "linecolor": "white",
            "ticks": ""
           },
           "bgcolor": "#E5ECF6",
           "caxis": {
            "gridcolor": "white",
            "linecolor": "white",
            "ticks": ""
           }
          },
          "title": {
           "x": 0.05
          },
          "xaxis": {
           "automargin": true,
           "gridcolor": "white",
           "linecolor": "white",
           "ticks": "",
           "title": {
            "standoff": 15
           },
           "zerolinecolor": "white",
           "zerolinewidth": 2
          },
          "yaxis": {
           "automargin": true,
           "gridcolor": "white",
           "linecolor": "white",
           "ticks": "",
           "title": {
            "standoff": 15
           },
           "zerolinecolor": "white",
           "zerolinewidth": 2
          }
         }
        },
        "title": {
         "text": "Year On Year Shows Added On Netflix"
        },
        "xaxis": {
         "anchor": "y",
         "domain": [
          0,
          1
         ],
         "title": {
          "text": "year_added"
         }
        },
        "yaxis": {
         "anchor": "x",
         "domain": [
          0,
          1
         ],
         "title": {
          "text": "year_added_count"
         }
        }
       }
      }
     },
     "metadata": {},
     "output_type": "display_data"
    }
   ],
   "source": [
    "fig=px.line(df_netflix_year_netflix,y='year_added_count',x=df_netflix_year_netflix.index,title='Year On Year Shows Added On Netflix')\n",
    "fig.show()"
   ]
  },
  {
   "cell_type": "markdown",
   "id": "56121f03",
   "metadata": {
    "papermill": {
     "duration": 0.022884,
     "end_time": "2024-06-29T13:42:31.025305",
     "exception": false,
     "start_time": "2024-06-29T13:42:31.002421",
     "status": "completed"
    },
    "tags": []
   },
   "source": [
    "### Rating Count On Netflix"
   ]
  },
  {
   "cell_type": "code",
   "execution_count": 41,
   "id": "6752b3ec",
   "metadata": {
    "execution": {
     "iopub.execute_input": "2024-06-29T13:42:31.076469Z",
     "iopub.status.busy": "2024-06-29T13:42:31.075615Z",
     "iopub.status.idle": "2024-06-29T13:42:31.084536Z",
     "shell.execute_reply": "2024-06-29T13:42:31.083489Z"
    },
    "papermill": {
     "duration": 0.036516,
     "end_time": "2024-06-29T13:42:31.086966",
     "exception": false,
     "start_time": "2024-06-29T13:42:31.050450",
     "status": "completed"
    },
    "tags": []
   },
   "outputs": [],
   "source": [
    "df_netflix['rating']=df_netflix['rating'].replace({'66 min':'Not Available','74 min':'Not Available','84 min':'Not Available'})"
   ]
  },
  {
   "cell_type": "code",
   "execution_count": 42,
   "id": "37e5b93a",
   "metadata": {
    "execution": {
     "iopub.execute_input": "2024-06-29T13:42:31.136124Z",
     "iopub.status.busy": "2024-06-29T13:42:31.135719Z",
     "iopub.status.idle": "2024-06-29T13:42:31.145494Z",
     "shell.execute_reply": "2024-06-29T13:42:31.144376Z"
    },
    "papermill": {
     "duration": 0.037173,
     "end_time": "2024-06-29T13:42:31.147995",
     "exception": false,
     "start_time": "2024-06-29T13:42:31.110822",
     "status": "completed"
    },
    "tags": []
   },
   "outputs": [],
   "source": [
    "df_netflix_rating=df_netflix.groupby('rating').agg({'rating':'count'}).rename(columns={'rating':'show_rating_count'})"
   ]
  },
  {
   "cell_type": "code",
   "execution_count": 43,
   "id": "4562008e",
   "metadata": {
    "execution": {
     "iopub.execute_input": "2024-06-29T13:42:31.197200Z",
     "iopub.status.busy": "2024-06-29T13:42:31.196781Z",
     "iopub.status.idle": "2024-06-29T13:42:31.273564Z",
     "shell.execute_reply": "2024-06-29T13:42:31.272426Z"
    },
    "papermill": {
     "duration": 0.103664,
     "end_time": "2024-06-29T13:42:31.276091",
     "exception": false,
     "start_time": "2024-06-29T13:42:31.172427",
     "status": "completed"
    },
    "tags": []
   },
   "outputs": [
    {
     "data": {
      "application/vnd.plotly.v1+json": {
       "config": {
        "plotlyServerURL": "https://plot.ly"
       },
       "data": [
        {
         "alignmentgroup": "True",
         "hovertemplate": "rating=%{x}<br>show_rating_count=%{y}<extra></extra>",
         "legendgroup": "",
         "marker": {
          "color": "#636efa",
          "pattern": {
           "shape": ""
          }
         },
         "name": "",
         "offsetgroup": "",
         "orientation": "v",
         "showlegend": false,
         "textposition": "auto",
         "type": "bar",
         "x": [
          "G",
          "NC-17",
          "NR",
          "Not Available",
          "PG",
          "PG-13",
          "R",
          "TV-14",
          "TV-G",
          "TV-MA",
          "TV-PG",
          "TV-Y",
          "TV-Y7",
          "TV-Y7-FV",
          "UR"
         ],
         "xaxis": "x",
         "y": [
          41,
          3,
          80,
          7,
          287,
          490,
          799,
          2160,
          220,
          3207,
          863,
          307,
          334,
          6,
          3
         ],
         "yaxis": "y"
        }
       ],
       "layout": {
        "barmode": "relative",
        "legend": {
         "tracegroupgap": 0
        },
        "template": {
         "data": {
          "bar": [
           {
            "error_x": {
             "color": "#2a3f5f"
            },
            "error_y": {
             "color": "#2a3f5f"
            },
            "marker": {
             "line": {
              "color": "#E5ECF6",
              "width": 0.5
             },
             "pattern": {
              "fillmode": "overlay",
              "size": 10,
              "solidity": 0.2
             }
            },
            "type": "bar"
           }
          ],
          "barpolar": [
           {
            "marker": {
             "line": {
              "color": "#E5ECF6",
              "width": 0.5
             },
             "pattern": {
              "fillmode": "overlay",
              "size": 10,
              "solidity": 0.2
             }
            },
            "type": "barpolar"
           }
          ],
          "carpet": [
           {
            "aaxis": {
             "endlinecolor": "#2a3f5f",
             "gridcolor": "white",
             "linecolor": "white",
             "minorgridcolor": "white",
             "startlinecolor": "#2a3f5f"
            },
            "baxis": {
             "endlinecolor": "#2a3f5f",
             "gridcolor": "white",
             "linecolor": "white",
             "minorgridcolor": "white",
             "startlinecolor": "#2a3f5f"
            },
            "type": "carpet"
           }
          ],
          "choropleth": [
           {
            "colorbar": {
             "outlinewidth": 0,
             "ticks": ""
            },
            "type": "choropleth"
           }
          ],
          "contour": [
           {
            "colorbar": {
             "outlinewidth": 0,
             "ticks": ""
            },
            "colorscale": [
             [
              0,
              "#0d0887"
             ],
             [
              0.1111111111111111,
              "#46039f"
             ],
             [
              0.2222222222222222,
              "#7201a8"
             ],
             [
              0.3333333333333333,
              "#9c179e"
             ],
             [
              0.4444444444444444,
              "#bd3786"
             ],
             [
              0.5555555555555556,
              "#d8576b"
             ],
             [
              0.6666666666666666,
              "#ed7953"
             ],
             [
              0.7777777777777778,
              "#fb9f3a"
             ],
             [
              0.8888888888888888,
              "#fdca26"
             ],
             [
              1,
              "#f0f921"
             ]
            ],
            "type": "contour"
           }
          ],
          "contourcarpet": [
           {
            "colorbar": {
             "outlinewidth": 0,
             "ticks": ""
            },
            "type": "contourcarpet"
           }
          ],
          "heatmap": [
           {
            "colorbar": {
             "outlinewidth": 0,
             "ticks": ""
            },
            "colorscale": [
             [
              0,
              "#0d0887"
             ],
             [
              0.1111111111111111,
              "#46039f"
             ],
             [
              0.2222222222222222,
              "#7201a8"
             ],
             [
              0.3333333333333333,
              "#9c179e"
             ],
             [
              0.4444444444444444,
              "#bd3786"
             ],
             [
              0.5555555555555556,
              "#d8576b"
             ],
             [
              0.6666666666666666,
              "#ed7953"
             ],
             [
              0.7777777777777778,
              "#fb9f3a"
             ],
             [
              0.8888888888888888,
              "#fdca26"
             ],
             [
              1,
              "#f0f921"
             ]
            ],
            "type": "heatmap"
           }
          ],
          "heatmapgl": [
           {
            "colorbar": {
             "outlinewidth": 0,
             "ticks": ""
            },
            "colorscale": [
             [
              0,
              "#0d0887"
             ],
             [
              0.1111111111111111,
              "#46039f"
             ],
             [
              0.2222222222222222,
              "#7201a8"
             ],
             [
              0.3333333333333333,
              "#9c179e"
             ],
             [
              0.4444444444444444,
              "#bd3786"
             ],
             [
              0.5555555555555556,
              "#d8576b"
             ],
             [
              0.6666666666666666,
              "#ed7953"
             ],
             [
              0.7777777777777778,
              "#fb9f3a"
             ],
             [
              0.8888888888888888,
              "#fdca26"
             ],
             [
              1,
              "#f0f921"
             ]
            ],
            "type": "heatmapgl"
           }
          ],
          "histogram": [
           {
            "marker": {
             "pattern": {
              "fillmode": "overlay",
              "size": 10,
              "solidity": 0.2
             }
            },
            "type": "histogram"
           }
          ],
          "histogram2d": [
           {
            "colorbar": {
             "outlinewidth": 0,
             "ticks": ""
            },
            "colorscale": [
             [
              0,
              "#0d0887"
             ],
             [
              0.1111111111111111,
              "#46039f"
             ],
             [
              0.2222222222222222,
              "#7201a8"
             ],
             [
              0.3333333333333333,
              "#9c179e"
             ],
             [
              0.4444444444444444,
              "#bd3786"
             ],
             [
              0.5555555555555556,
              "#d8576b"
             ],
             [
              0.6666666666666666,
              "#ed7953"
             ],
             [
              0.7777777777777778,
              "#fb9f3a"
             ],
             [
              0.8888888888888888,
              "#fdca26"
             ],
             [
              1,
              "#f0f921"
             ]
            ],
            "type": "histogram2d"
           }
          ],
          "histogram2dcontour": [
           {
            "colorbar": {
             "outlinewidth": 0,
             "ticks": ""
            },
            "colorscale": [
             [
              0,
              "#0d0887"
             ],
             [
              0.1111111111111111,
              "#46039f"
             ],
             [
              0.2222222222222222,
              "#7201a8"
             ],
             [
              0.3333333333333333,
              "#9c179e"
             ],
             [
              0.4444444444444444,
              "#bd3786"
             ],
             [
              0.5555555555555556,
              "#d8576b"
             ],
             [
              0.6666666666666666,
              "#ed7953"
             ],
             [
              0.7777777777777778,
              "#fb9f3a"
             ],
             [
              0.8888888888888888,
              "#fdca26"
             ],
             [
              1,
              "#f0f921"
             ]
            ],
            "type": "histogram2dcontour"
           }
          ],
          "mesh3d": [
           {
            "colorbar": {
             "outlinewidth": 0,
             "ticks": ""
            },
            "type": "mesh3d"
           }
          ],
          "parcoords": [
           {
            "line": {
             "colorbar": {
              "outlinewidth": 0,
              "ticks": ""
             }
            },
            "type": "parcoords"
           }
          ],
          "pie": [
           {
            "automargin": true,
            "type": "pie"
           }
          ],
          "scatter": [
           {
            "fillpattern": {
             "fillmode": "overlay",
             "size": 10,
             "solidity": 0.2
            },
            "type": "scatter"
           }
          ],
          "scatter3d": [
           {
            "line": {
             "colorbar": {
              "outlinewidth": 0,
              "ticks": ""
             }
            },
            "marker": {
             "colorbar": {
              "outlinewidth": 0,
              "ticks": ""
             }
            },
            "type": "scatter3d"
           }
          ],
          "scattercarpet": [
           {
            "marker": {
             "colorbar": {
              "outlinewidth": 0,
              "ticks": ""
             }
            },
            "type": "scattercarpet"
           }
          ],
          "scattergeo": [
           {
            "marker": {
             "colorbar": {
              "outlinewidth": 0,
              "ticks": ""
             }
            },
            "type": "scattergeo"
           }
          ],
          "scattergl": [
           {
            "marker": {
             "colorbar": {
              "outlinewidth": 0,
              "ticks": ""
             }
            },
            "type": "scattergl"
           }
          ],
          "scattermapbox": [
           {
            "marker": {
             "colorbar": {
              "outlinewidth": 0,
              "ticks": ""
             }
            },
            "type": "scattermapbox"
           }
          ],
          "scatterpolar": [
           {
            "marker": {
             "colorbar": {
              "outlinewidth": 0,
              "ticks": ""
             }
            },
            "type": "scatterpolar"
           }
          ],
          "scatterpolargl": [
           {
            "marker": {
             "colorbar": {
              "outlinewidth": 0,
              "ticks": ""
             }
            },
            "type": "scatterpolargl"
           }
          ],
          "scatterternary": [
           {
            "marker": {
             "colorbar": {
              "outlinewidth": 0,
              "ticks": ""
             }
            },
            "type": "scatterternary"
           }
          ],
          "surface": [
           {
            "colorbar": {
             "outlinewidth": 0,
             "ticks": ""
            },
            "colorscale": [
             [
              0,
              "#0d0887"
             ],
             [
              0.1111111111111111,
              "#46039f"
             ],
             [
              0.2222222222222222,
              "#7201a8"
             ],
             [
              0.3333333333333333,
              "#9c179e"
             ],
             [
              0.4444444444444444,
              "#bd3786"
             ],
             [
              0.5555555555555556,
              "#d8576b"
             ],
             [
              0.6666666666666666,
              "#ed7953"
             ],
             [
              0.7777777777777778,
              "#fb9f3a"
             ],
             [
              0.8888888888888888,
              "#fdca26"
             ],
             [
              1,
              "#f0f921"
             ]
            ],
            "type": "surface"
           }
          ],
          "table": [
           {
            "cells": {
             "fill": {
              "color": "#EBF0F8"
             },
             "line": {
              "color": "white"
             }
            },
            "header": {
             "fill": {
              "color": "#C8D4E3"
             },
             "line": {
              "color": "white"
             }
            },
            "type": "table"
           }
          ]
         },
         "layout": {
          "annotationdefaults": {
           "arrowcolor": "#2a3f5f",
           "arrowhead": 0,
           "arrowwidth": 1
          },
          "autotypenumbers": "strict",
          "coloraxis": {
           "colorbar": {
            "outlinewidth": 0,
            "ticks": ""
           }
          },
          "colorscale": {
           "diverging": [
            [
             0,
             "#8e0152"
            ],
            [
             0.1,
             "#c51b7d"
            ],
            [
             0.2,
             "#de77ae"
            ],
            [
             0.3,
             "#f1b6da"
            ],
            [
             0.4,
             "#fde0ef"
            ],
            [
             0.5,
             "#f7f7f7"
            ],
            [
             0.6,
             "#e6f5d0"
            ],
            [
             0.7,
             "#b8e186"
            ],
            [
             0.8,
             "#7fbc41"
            ],
            [
             0.9,
             "#4d9221"
            ],
            [
             1,
             "#276419"
            ]
           ],
           "sequential": [
            [
             0,
             "#0d0887"
            ],
            [
             0.1111111111111111,
             "#46039f"
            ],
            [
             0.2222222222222222,
             "#7201a8"
            ],
            [
             0.3333333333333333,
             "#9c179e"
            ],
            [
             0.4444444444444444,
             "#bd3786"
            ],
            [
             0.5555555555555556,
             "#d8576b"
            ],
            [
             0.6666666666666666,
             "#ed7953"
            ],
            [
             0.7777777777777778,
             "#fb9f3a"
            ],
            [
             0.8888888888888888,
             "#fdca26"
            ],
            [
             1,
             "#f0f921"
            ]
           ],
           "sequentialminus": [
            [
             0,
             "#0d0887"
            ],
            [
             0.1111111111111111,
             "#46039f"
            ],
            [
             0.2222222222222222,
             "#7201a8"
            ],
            [
             0.3333333333333333,
             "#9c179e"
            ],
            [
             0.4444444444444444,
             "#bd3786"
            ],
            [
             0.5555555555555556,
             "#d8576b"
            ],
            [
             0.6666666666666666,
             "#ed7953"
            ],
            [
             0.7777777777777778,
             "#fb9f3a"
            ],
            [
             0.8888888888888888,
             "#fdca26"
            ],
            [
             1,
             "#f0f921"
            ]
           ]
          },
          "colorway": [
           "#636efa",
           "#EF553B",
           "#00cc96",
           "#ab63fa",
           "#FFA15A",
           "#19d3f3",
           "#FF6692",
           "#B6E880",
           "#FF97FF",
           "#FECB52"
          ],
          "font": {
           "color": "#2a3f5f"
          },
          "geo": {
           "bgcolor": "white",
           "lakecolor": "white",
           "landcolor": "#E5ECF6",
           "showlakes": true,
           "showland": true,
           "subunitcolor": "white"
          },
          "hoverlabel": {
           "align": "left"
          },
          "hovermode": "closest",
          "mapbox": {
           "style": "light"
          },
          "paper_bgcolor": "white",
          "plot_bgcolor": "#E5ECF6",
          "polar": {
           "angularaxis": {
            "gridcolor": "white",
            "linecolor": "white",
            "ticks": ""
           },
           "bgcolor": "#E5ECF6",
           "radialaxis": {
            "gridcolor": "white",
            "linecolor": "white",
            "ticks": ""
           }
          },
          "scene": {
           "xaxis": {
            "backgroundcolor": "#E5ECF6",
            "gridcolor": "white",
            "gridwidth": 2,
            "linecolor": "white",
            "showbackground": true,
            "ticks": "",
            "zerolinecolor": "white"
           },
           "yaxis": {
            "backgroundcolor": "#E5ECF6",
            "gridcolor": "white",
            "gridwidth": 2,
            "linecolor": "white",
            "showbackground": true,
            "ticks": "",
            "zerolinecolor": "white"
           },
           "zaxis": {
            "backgroundcolor": "#E5ECF6",
            "gridcolor": "white",
            "gridwidth": 2,
            "linecolor": "white",
            "showbackground": true,
            "ticks": "",
            "zerolinecolor": "white"
           }
          },
          "shapedefaults": {
           "line": {
            "color": "#2a3f5f"
           }
          },
          "ternary": {
           "aaxis": {
            "gridcolor": "white",
            "linecolor": "white",
            "ticks": ""
           },
           "baxis": {
            "gridcolor": "white",
            "linecolor": "white",
            "ticks": ""
           },
           "bgcolor": "#E5ECF6",
           "caxis": {
            "gridcolor": "white",
            "linecolor": "white",
            "ticks": ""
           }
          },
          "title": {
           "x": 0.05
          },
          "xaxis": {
           "automargin": true,
           "gridcolor": "white",
           "linecolor": "white",
           "ticks": "",
           "title": {
            "standoff": 15
           },
           "zerolinecolor": "white",
           "zerolinewidth": 2
          },
          "yaxis": {
           "automargin": true,
           "gridcolor": "white",
           "linecolor": "white",
           "ticks": "",
           "title": {
            "standoff": 15
           },
           "zerolinecolor": "white",
           "zerolinewidth": 2
          }
         }
        },
        "title": {
         "text": "Shows Rating Count"
        },
        "xaxis": {
         "anchor": "y",
         "domain": [
          0,
          1
         ],
         "title": {
          "text": "rating"
         }
        },
        "yaxis": {
         "anchor": "x",
         "domain": [
          0,
          1
         ],
         "title": {
          "text": "show_rating_count"
         }
        }
       }
      }
     },
     "metadata": {},
     "output_type": "display_data"
    }
   ],
   "source": [
    "fig=px.bar(df_netflix_rating,y='show_rating_count',x=df_netflix_rating.index,title='Shows Rating Count')\n",
    "fig.show()"
   ]
  },
  {
   "cell_type": "markdown",
   "id": "09e0a32b",
   "metadata": {
    "papermill": {
     "duration": 0.023441,
     "end_time": "2024-06-29T13:42:31.323603",
     "exception": false,
     "start_time": "2024-06-29T13:42:31.300162",
     "status": "completed"
    },
    "tags": []
   },
   "source": [
    "### Shows Type Count On Netflix"
   ]
  },
  {
   "cell_type": "code",
   "execution_count": 44,
   "id": "f4ea847e",
   "metadata": {
    "execution": {
     "iopub.execute_input": "2024-06-29T13:42:31.372949Z",
     "iopub.status.busy": "2024-06-29T13:42:31.372596Z",
     "iopub.status.idle": "2024-06-29T13:42:31.381491Z",
     "shell.execute_reply": "2024-06-29T13:42:31.380441Z"
    },
    "papermill": {
     "duration": 0.036613,
     "end_time": "2024-06-29T13:42:31.384195",
     "exception": false,
     "start_time": "2024-06-29T13:42:31.347582",
     "status": "completed"
    },
    "tags": []
   },
   "outputs": [],
   "source": [
    "df_netflix_type=df_netflix.groupby('type').agg({'type':'count'}).rename(columns={'type':'show_type_count'})"
   ]
  },
  {
   "cell_type": "code",
   "execution_count": 45,
   "id": "5745864c",
   "metadata": {
    "execution": {
     "iopub.execute_input": "2024-06-29T13:42:31.433525Z",
     "iopub.status.busy": "2024-06-29T13:42:31.432762Z",
     "iopub.status.idle": "2024-06-29T13:42:31.490492Z",
     "shell.execute_reply": "2024-06-29T13:42:31.489323Z"
    },
    "papermill": {
     "duration": 0.084667,
     "end_time": "2024-06-29T13:42:31.492789",
     "exception": false,
     "start_time": "2024-06-29T13:42:31.408122",
     "status": "completed"
    },
    "tags": []
   },
   "outputs": [
    {
     "data": {
      "application/vnd.plotly.v1+json": {
       "config": {
        "plotlyServerURL": "https://plot.ly"
       },
       "data": [
        {
         "alignmentgroup": "True",
         "hovertemplate": "type=%{x}<br>show_type_count=%{y}<extra></extra>",
         "legendgroup": "",
         "marker": {
          "color": "#636efa",
          "pattern": {
           "shape": ""
          }
         },
         "name": "",
         "offsetgroup": "",
         "orientation": "v",
         "showlegend": false,
         "textposition": "auto",
         "type": "bar",
         "x": [
          "Movie",
          "TV Show"
         ],
         "xaxis": "x",
         "y": [
          6131,
          2676
         ],
         "yaxis": "y"
        }
       ],
       "layout": {
        "barmode": "relative",
        "legend": {
         "tracegroupgap": 0
        },
        "template": {
         "data": {
          "bar": [
           {
            "error_x": {
             "color": "#2a3f5f"
            },
            "error_y": {
             "color": "#2a3f5f"
            },
            "marker": {
             "line": {
              "color": "#E5ECF6",
              "width": 0.5
             },
             "pattern": {
              "fillmode": "overlay",
              "size": 10,
              "solidity": 0.2
             }
            },
            "type": "bar"
           }
          ],
          "barpolar": [
           {
            "marker": {
             "line": {
              "color": "#E5ECF6",
              "width": 0.5
             },
             "pattern": {
              "fillmode": "overlay",
              "size": 10,
              "solidity": 0.2
             }
            },
            "type": "barpolar"
           }
          ],
          "carpet": [
           {
            "aaxis": {
             "endlinecolor": "#2a3f5f",
             "gridcolor": "white",
             "linecolor": "white",
             "minorgridcolor": "white",
             "startlinecolor": "#2a3f5f"
            },
            "baxis": {
             "endlinecolor": "#2a3f5f",
             "gridcolor": "white",
             "linecolor": "white",
             "minorgridcolor": "white",
             "startlinecolor": "#2a3f5f"
            },
            "type": "carpet"
           }
          ],
          "choropleth": [
           {
            "colorbar": {
             "outlinewidth": 0,
             "ticks": ""
            },
            "type": "choropleth"
           }
          ],
          "contour": [
           {
            "colorbar": {
             "outlinewidth": 0,
             "ticks": ""
            },
            "colorscale": [
             [
              0,
              "#0d0887"
             ],
             [
              0.1111111111111111,
              "#46039f"
             ],
             [
              0.2222222222222222,
              "#7201a8"
             ],
             [
              0.3333333333333333,
              "#9c179e"
             ],
             [
              0.4444444444444444,
              "#bd3786"
             ],
             [
              0.5555555555555556,
              "#d8576b"
             ],
             [
              0.6666666666666666,
              "#ed7953"
             ],
             [
              0.7777777777777778,
              "#fb9f3a"
             ],
             [
              0.8888888888888888,
              "#fdca26"
             ],
             [
              1,
              "#f0f921"
             ]
            ],
            "type": "contour"
           }
          ],
          "contourcarpet": [
           {
            "colorbar": {
             "outlinewidth": 0,
             "ticks": ""
            },
            "type": "contourcarpet"
           }
          ],
          "heatmap": [
           {
            "colorbar": {
             "outlinewidth": 0,
             "ticks": ""
            },
            "colorscale": [
             [
              0,
              "#0d0887"
             ],
             [
              0.1111111111111111,
              "#46039f"
             ],
             [
              0.2222222222222222,
              "#7201a8"
             ],
             [
              0.3333333333333333,
              "#9c179e"
             ],
             [
              0.4444444444444444,
              "#bd3786"
             ],
             [
              0.5555555555555556,
              "#d8576b"
             ],
             [
              0.6666666666666666,
              "#ed7953"
             ],
             [
              0.7777777777777778,
              "#fb9f3a"
             ],
             [
              0.8888888888888888,
              "#fdca26"
             ],
             [
              1,
              "#f0f921"
             ]
            ],
            "type": "heatmap"
           }
          ],
          "heatmapgl": [
           {
            "colorbar": {
             "outlinewidth": 0,
             "ticks": ""
            },
            "colorscale": [
             [
              0,
              "#0d0887"
             ],
             [
              0.1111111111111111,
              "#46039f"
             ],
             [
              0.2222222222222222,
              "#7201a8"
             ],
             [
              0.3333333333333333,
              "#9c179e"
             ],
             [
              0.4444444444444444,
              "#bd3786"
             ],
             [
              0.5555555555555556,
              "#d8576b"
             ],
             [
              0.6666666666666666,
              "#ed7953"
             ],
             [
              0.7777777777777778,
              "#fb9f3a"
             ],
             [
              0.8888888888888888,
              "#fdca26"
             ],
             [
              1,
              "#f0f921"
             ]
            ],
            "type": "heatmapgl"
           }
          ],
          "histogram": [
           {
            "marker": {
             "pattern": {
              "fillmode": "overlay",
              "size": 10,
              "solidity": 0.2
             }
            },
            "type": "histogram"
           }
          ],
          "histogram2d": [
           {
            "colorbar": {
             "outlinewidth": 0,
             "ticks": ""
            },
            "colorscale": [
             [
              0,
              "#0d0887"
             ],
             [
              0.1111111111111111,
              "#46039f"
             ],
             [
              0.2222222222222222,
              "#7201a8"
             ],
             [
              0.3333333333333333,
              "#9c179e"
             ],
             [
              0.4444444444444444,
              "#bd3786"
             ],
             [
              0.5555555555555556,
              "#d8576b"
             ],
             [
              0.6666666666666666,
              "#ed7953"
             ],
             [
              0.7777777777777778,
              "#fb9f3a"
             ],
             [
              0.8888888888888888,
              "#fdca26"
             ],
             [
              1,
              "#f0f921"
             ]
            ],
            "type": "histogram2d"
           }
          ],
          "histogram2dcontour": [
           {
            "colorbar": {
             "outlinewidth": 0,
             "ticks": ""
            },
            "colorscale": [
             [
              0,
              "#0d0887"
             ],
             [
              0.1111111111111111,
              "#46039f"
             ],
             [
              0.2222222222222222,
              "#7201a8"
             ],
             [
              0.3333333333333333,
              "#9c179e"
             ],
             [
              0.4444444444444444,
              "#bd3786"
             ],
             [
              0.5555555555555556,
              "#d8576b"
             ],
             [
              0.6666666666666666,
              "#ed7953"
             ],
             [
              0.7777777777777778,
              "#fb9f3a"
             ],
             [
              0.8888888888888888,
              "#fdca26"
             ],
             [
              1,
              "#f0f921"
             ]
            ],
            "type": "histogram2dcontour"
           }
          ],
          "mesh3d": [
           {
            "colorbar": {
             "outlinewidth": 0,
             "ticks": ""
            },
            "type": "mesh3d"
           }
          ],
          "parcoords": [
           {
            "line": {
             "colorbar": {
              "outlinewidth": 0,
              "ticks": ""
             }
            },
            "type": "parcoords"
           }
          ],
          "pie": [
           {
            "automargin": true,
            "type": "pie"
           }
          ],
          "scatter": [
           {
            "fillpattern": {
             "fillmode": "overlay",
             "size": 10,
             "solidity": 0.2
            },
            "type": "scatter"
           }
          ],
          "scatter3d": [
           {
            "line": {
             "colorbar": {
              "outlinewidth": 0,
              "ticks": ""
             }
            },
            "marker": {
             "colorbar": {
              "outlinewidth": 0,
              "ticks": ""
             }
            },
            "type": "scatter3d"
           }
          ],
          "scattercarpet": [
           {
            "marker": {
             "colorbar": {
              "outlinewidth": 0,
              "ticks": ""
             }
            },
            "type": "scattercarpet"
           }
          ],
          "scattergeo": [
           {
            "marker": {
             "colorbar": {
              "outlinewidth": 0,
              "ticks": ""
             }
            },
            "type": "scattergeo"
           }
          ],
          "scattergl": [
           {
            "marker": {
             "colorbar": {
              "outlinewidth": 0,
              "ticks": ""
             }
            },
            "type": "scattergl"
           }
          ],
          "scattermapbox": [
           {
            "marker": {
             "colorbar": {
              "outlinewidth": 0,
              "ticks": ""
             }
            },
            "type": "scattermapbox"
           }
          ],
          "scatterpolar": [
           {
            "marker": {
             "colorbar": {
              "outlinewidth": 0,
              "ticks": ""
             }
            },
            "type": "scatterpolar"
           }
          ],
          "scatterpolargl": [
           {
            "marker": {
             "colorbar": {
              "outlinewidth": 0,
              "ticks": ""
             }
            },
            "type": "scatterpolargl"
           }
          ],
          "scatterternary": [
           {
            "marker": {
             "colorbar": {
              "outlinewidth": 0,
              "ticks": ""
             }
            },
            "type": "scatterternary"
           }
          ],
          "surface": [
           {
            "colorbar": {
             "outlinewidth": 0,
             "ticks": ""
            },
            "colorscale": [
             [
              0,
              "#0d0887"
             ],
             [
              0.1111111111111111,
              "#46039f"
             ],
             [
              0.2222222222222222,
              "#7201a8"
             ],
             [
              0.3333333333333333,
              "#9c179e"
             ],
             [
              0.4444444444444444,
              "#bd3786"
             ],
             [
              0.5555555555555556,
              "#d8576b"
             ],
             [
              0.6666666666666666,
              "#ed7953"
             ],
             [
              0.7777777777777778,
              "#fb9f3a"
             ],
             [
              0.8888888888888888,
              "#fdca26"
             ],
             [
              1,
              "#f0f921"
             ]
            ],
            "type": "surface"
           }
          ],
          "table": [
           {
            "cells": {
             "fill": {
              "color": "#EBF0F8"
             },
             "line": {
              "color": "white"
             }
            },
            "header": {
             "fill": {
              "color": "#C8D4E3"
             },
             "line": {
              "color": "white"
             }
            },
            "type": "table"
           }
          ]
         },
         "layout": {
          "annotationdefaults": {
           "arrowcolor": "#2a3f5f",
           "arrowhead": 0,
           "arrowwidth": 1
          },
          "autotypenumbers": "strict",
          "coloraxis": {
           "colorbar": {
            "outlinewidth": 0,
            "ticks": ""
           }
          },
          "colorscale": {
           "diverging": [
            [
             0,
             "#8e0152"
            ],
            [
             0.1,
             "#c51b7d"
            ],
            [
             0.2,
             "#de77ae"
            ],
            [
             0.3,
             "#f1b6da"
            ],
            [
             0.4,
             "#fde0ef"
            ],
            [
             0.5,
             "#f7f7f7"
            ],
            [
             0.6,
             "#e6f5d0"
            ],
            [
             0.7,
             "#b8e186"
            ],
            [
             0.8,
             "#7fbc41"
            ],
            [
             0.9,
             "#4d9221"
            ],
            [
             1,
             "#276419"
            ]
           ],
           "sequential": [
            [
             0,
             "#0d0887"
            ],
            [
             0.1111111111111111,
             "#46039f"
            ],
            [
             0.2222222222222222,
             "#7201a8"
            ],
            [
             0.3333333333333333,
             "#9c179e"
            ],
            [
             0.4444444444444444,
             "#bd3786"
            ],
            [
             0.5555555555555556,
             "#d8576b"
            ],
            [
             0.6666666666666666,
             "#ed7953"
            ],
            [
             0.7777777777777778,
             "#fb9f3a"
            ],
            [
             0.8888888888888888,
             "#fdca26"
            ],
            [
             1,
             "#f0f921"
            ]
           ],
           "sequentialminus": [
            [
             0,
             "#0d0887"
            ],
            [
             0.1111111111111111,
             "#46039f"
            ],
            [
             0.2222222222222222,
             "#7201a8"
            ],
            [
             0.3333333333333333,
             "#9c179e"
            ],
            [
             0.4444444444444444,
             "#bd3786"
            ],
            [
             0.5555555555555556,
             "#d8576b"
            ],
            [
             0.6666666666666666,
             "#ed7953"
            ],
            [
             0.7777777777777778,
             "#fb9f3a"
            ],
            [
             0.8888888888888888,
             "#fdca26"
            ],
            [
             1,
             "#f0f921"
            ]
           ]
          },
          "colorway": [
           "#636efa",
           "#EF553B",
           "#00cc96",
           "#ab63fa",
           "#FFA15A",
           "#19d3f3",
           "#FF6692",
           "#B6E880",
           "#FF97FF",
           "#FECB52"
          ],
          "font": {
           "color": "#2a3f5f"
          },
          "geo": {
           "bgcolor": "white",
           "lakecolor": "white",
           "landcolor": "#E5ECF6",
           "showlakes": true,
           "showland": true,
           "subunitcolor": "white"
          },
          "hoverlabel": {
           "align": "left"
          },
          "hovermode": "closest",
          "mapbox": {
           "style": "light"
          },
          "paper_bgcolor": "white",
          "plot_bgcolor": "#E5ECF6",
          "polar": {
           "angularaxis": {
            "gridcolor": "white",
            "linecolor": "white",
            "ticks": ""
           },
           "bgcolor": "#E5ECF6",
           "radialaxis": {
            "gridcolor": "white",
            "linecolor": "white",
            "ticks": ""
           }
          },
          "scene": {
           "xaxis": {
            "backgroundcolor": "#E5ECF6",
            "gridcolor": "white",
            "gridwidth": 2,
            "linecolor": "white",
            "showbackground": true,
            "ticks": "",
            "zerolinecolor": "white"
           },
           "yaxis": {
            "backgroundcolor": "#E5ECF6",
            "gridcolor": "white",
            "gridwidth": 2,
            "linecolor": "white",
            "showbackground": true,
            "ticks": "",
            "zerolinecolor": "white"
           },
           "zaxis": {
            "backgroundcolor": "#E5ECF6",
            "gridcolor": "white",
            "gridwidth": 2,
            "linecolor": "white",
            "showbackground": true,
            "ticks": "",
            "zerolinecolor": "white"
           }
          },
          "shapedefaults": {
           "line": {
            "color": "#2a3f5f"
           }
          },
          "ternary": {
           "aaxis": {
            "gridcolor": "white",
            "linecolor": "white",
            "ticks": ""
           },
           "baxis": {
            "gridcolor": "white",
            "linecolor": "white",
            "ticks": ""
           },
           "bgcolor": "#E5ECF6",
           "caxis": {
            "gridcolor": "white",
            "linecolor": "white",
            "ticks": ""
           }
          },
          "title": {
           "x": 0.05
          },
          "xaxis": {
           "automargin": true,
           "gridcolor": "white",
           "linecolor": "white",
           "ticks": "",
           "title": {
            "standoff": 15
           },
           "zerolinecolor": "white",
           "zerolinewidth": 2
          },
          "yaxis": {
           "automargin": true,
           "gridcolor": "white",
           "linecolor": "white",
           "ticks": "",
           "title": {
            "standoff": 15
           },
           "zerolinecolor": "white",
           "zerolinewidth": 2
          }
         }
        },
        "title": {
         "text": "Shows Type Count"
        },
        "xaxis": {
         "anchor": "y",
         "domain": [
          0,
          1
         ],
         "title": {
          "text": "type"
         }
        },
        "yaxis": {
         "anchor": "x",
         "domain": [
          0,
          1
         ],
         "title": {
          "text": "show_type_count"
         }
        }
       }
      }
     },
     "metadata": {},
     "output_type": "display_data"
    }
   ],
   "source": [
    "fig=px.bar(df_netflix_type,y='show_type_count',x=df_netflix_type.index,title='Shows Type Count')\n",
    "fig.show()"
   ]
  },
  {
   "cell_type": "markdown",
   "id": "78491501",
   "metadata": {
    "papermill": {
     "duration": 0.024985,
     "end_time": "2024-06-29T13:42:31.542444",
     "exception": false,
     "start_time": "2024-06-29T13:42:31.517459",
     "status": "completed"
    },
    "tags": []
   },
   "source": [
    "### Year On Year Show Added On Netflix By Its Type"
   ]
  },
  {
   "cell_type": "code",
   "execution_count": 46,
   "id": "98bbc69e",
   "metadata": {
    "execution": {
     "iopub.execute_input": "2024-06-29T13:42:31.593176Z",
     "iopub.status.busy": "2024-06-29T13:42:31.592740Z",
     "iopub.status.idle": "2024-06-29T13:42:31.608250Z",
     "shell.execute_reply": "2024-06-29T13:42:31.607108Z"
    },
    "papermill": {
     "duration": 0.044273,
     "end_time": "2024-06-29T13:42:31.610980",
     "exception": false,
     "start_time": "2024-06-29T13:42:31.566707",
     "status": "completed"
    },
    "tags": []
   },
   "outputs": [],
   "source": [
    "df_netflix_type_year=df_netflix.groupby(['type','year_added']).agg({'type':'count'}).rename(columns={'type':'type_count'}).reset_index()"
   ]
  },
  {
   "cell_type": "code",
   "execution_count": 47,
   "id": "9e2c6ee7",
   "metadata": {
    "execution": {
     "iopub.execute_input": "2024-06-29T13:42:31.660951Z",
     "iopub.status.busy": "2024-06-29T13:42:31.660186Z",
     "iopub.status.idle": "2024-06-29T13:42:31.672266Z",
     "shell.execute_reply": "2024-06-29T13:42:31.671101Z"
    },
    "papermill": {
     "duration": 0.039341,
     "end_time": "2024-06-29T13:42:31.674524",
     "exception": false,
     "start_time": "2024-06-29T13:42:31.635183",
     "status": "completed"
    },
    "tags": []
   },
   "outputs": [
    {
     "data": {
      "text/html": [
       "<div>\n",
       "<style scoped>\n",
       "    .dataframe tbody tr th:only-of-type {\n",
       "        vertical-align: middle;\n",
       "    }\n",
       "\n",
       "    .dataframe tbody tr th {\n",
       "        vertical-align: top;\n",
       "    }\n",
       "\n",
       "    .dataframe thead th {\n",
       "        text-align: right;\n",
       "    }\n",
       "</style>\n",
       "<table border=\"1\" class=\"dataframe\">\n",
       "  <thead>\n",
       "    <tr style=\"text-align: right;\">\n",
       "      <th></th>\n",
       "      <th>type</th>\n",
       "      <th>year_added</th>\n",
       "      <th>type_count</th>\n",
       "    </tr>\n",
       "  </thead>\n",
       "  <tbody>\n",
       "    <tr>\n",
       "      <th>0</th>\n",
       "      <td>Movie</td>\n",
       "      <td>2008</td>\n",
       "      <td>1</td>\n",
       "    </tr>\n",
       "    <tr>\n",
       "      <th>1</th>\n",
       "      <td>Movie</td>\n",
       "      <td>2009</td>\n",
       "      <td>2</td>\n",
       "    </tr>\n",
       "    <tr>\n",
       "      <th>2</th>\n",
       "      <td>Movie</td>\n",
       "      <td>2010</td>\n",
       "      <td>1</td>\n",
       "    </tr>\n",
       "    <tr>\n",
       "      <th>3</th>\n",
       "      <td>Movie</td>\n",
       "      <td>2011</td>\n",
       "      <td>13</td>\n",
       "    </tr>\n",
       "    <tr>\n",
       "      <th>4</th>\n",
       "      <td>Movie</td>\n",
       "      <td>2012</td>\n",
       "      <td>3</td>\n",
       "    </tr>\n",
       "    <tr>\n",
       "      <th>5</th>\n",
       "      <td>Movie</td>\n",
       "      <td>2013</td>\n",
       "      <td>6</td>\n",
       "    </tr>\n",
       "    <tr>\n",
       "      <th>6</th>\n",
       "      <td>Movie</td>\n",
       "      <td>2014</td>\n",
       "      <td>19</td>\n",
       "    </tr>\n",
       "    <tr>\n",
       "      <th>7</th>\n",
       "      <td>Movie</td>\n",
       "      <td>2015</td>\n",
       "      <td>56</td>\n",
       "    </tr>\n",
       "    <tr>\n",
       "      <th>8</th>\n",
       "      <td>Movie</td>\n",
       "      <td>2016</td>\n",
       "      <td>253</td>\n",
       "    </tr>\n",
       "    <tr>\n",
       "      <th>9</th>\n",
       "      <td>Movie</td>\n",
       "      <td>2017</td>\n",
       "      <td>839</td>\n",
       "    </tr>\n",
       "    <tr>\n",
       "      <th>10</th>\n",
       "      <td>Movie</td>\n",
       "      <td>2018</td>\n",
       "      <td>1237</td>\n",
       "    </tr>\n",
       "    <tr>\n",
       "      <th>11</th>\n",
       "      <td>Movie</td>\n",
       "      <td>2019</td>\n",
       "      <td>1424</td>\n",
       "    </tr>\n",
       "    <tr>\n",
       "      <th>12</th>\n",
       "      <td>Movie</td>\n",
       "      <td>2020</td>\n",
       "      <td>1284</td>\n",
       "    </tr>\n",
       "    <tr>\n",
       "      <th>13</th>\n",
       "      <td>Movie</td>\n",
       "      <td>2021</td>\n",
       "      <td>993</td>\n",
       "    </tr>\n",
       "    <tr>\n",
       "      <th>14</th>\n",
       "      <td>TV Show</td>\n",
       "      <td>2008</td>\n",
       "      <td>1</td>\n",
       "    </tr>\n",
       "    <tr>\n",
       "      <th>15</th>\n",
       "      <td>TV Show</td>\n",
       "      <td>2013</td>\n",
       "      <td>5</td>\n",
       "    </tr>\n",
       "    <tr>\n",
       "      <th>16</th>\n",
       "      <td>TV Show</td>\n",
       "      <td>2014</td>\n",
       "      <td>5</td>\n",
       "    </tr>\n",
       "    <tr>\n",
       "      <th>17</th>\n",
       "      <td>TV Show</td>\n",
       "      <td>2015</td>\n",
       "      <td>26</td>\n",
       "    </tr>\n",
       "    <tr>\n",
       "      <th>18</th>\n",
       "      <td>TV Show</td>\n",
       "      <td>2016</td>\n",
       "      <td>176</td>\n",
       "    </tr>\n",
       "    <tr>\n",
       "      <th>19</th>\n",
       "      <td>TV Show</td>\n",
       "      <td>2017</td>\n",
       "      <td>349</td>\n",
       "    </tr>\n",
       "    <tr>\n",
       "      <th>20</th>\n",
       "      <td>TV Show</td>\n",
       "      <td>2018</td>\n",
       "      <td>412</td>\n",
       "    </tr>\n",
       "    <tr>\n",
       "      <th>21</th>\n",
       "      <td>TV Show</td>\n",
       "      <td>2019</td>\n",
       "      <td>592</td>\n",
       "    </tr>\n",
       "    <tr>\n",
       "      <th>22</th>\n",
       "      <td>TV Show</td>\n",
       "      <td>2020</td>\n",
       "      <td>595</td>\n",
       "    </tr>\n",
       "    <tr>\n",
       "      <th>23</th>\n",
       "      <td>TV Show</td>\n",
       "      <td>2021</td>\n",
       "      <td>505</td>\n",
       "    </tr>\n",
       "    <tr>\n",
       "      <th>24</th>\n",
       "      <td>TV Show</td>\n",
       "      <td>Not Available</td>\n",
       "      <td>10</td>\n",
       "    </tr>\n",
       "  </tbody>\n",
       "</table>\n",
       "</div>"
      ],
      "text/plain": [
       "       type     year_added  type_count\n",
       "0     Movie           2008           1\n",
       "1     Movie           2009           2\n",
       "2     Movie           2010           1\n",
       "3     Movie           2011          13\n",
       "4     Movie           2012           3\n",
       "5     Movie           2013           6\n",
       "6     Movie           2014          19\n",
       "7     Movie           2015          56\n",
       "8     Movie           2016         253\n",
       "9     Movie           2017         839\n",
       "10    Movie           2018        1237\n",
       "11    Movie           2019        1424\n",
       "12    Movie           2020        1284\n",
       "13    Movie           2021         993\n",
       "14  TV Show           2008           1\n",
       "15  TV Show           2013           5\n",
       "16  TV Show           2014           5\n",
       "17  TV Show           2015          26\n",
       "18  TV Show           2016         176\n",
       "19  TV Show           2017         349\n",
       "20  TV Show           2018         412\n",
       "21  TV Show           2019         592\n",
       "22  TV Show           2020         595\n",
       "23  TV Show           2021         505\n",
       "24  TV Show  Not Available          10"
      ]
     },
     "execution_count": 47,
     "metadata": {},
     "output_type": "execute_result"
    }
   ],
   "source": [
    "df_netflix_type_year"
   ]
  },
  {
   "cell_type": "code",
   "execution_count": 48,
   "id": "e6bf2eb2",
   "metadata": {
    "execution": {
     "iopub.execute_input": "2024-06-29T13:42:31.725286Z",
     "iopub.status.busy": "2024-06-29T13:42:31.724881Z",
     "iopub.status.idle": "2024-06-29T13:42:31.799862Z",
     "shell.execute_reply": "2024-06-29T13:42:31.798735Z"
    },
    "papermill": {
     "duration": 0.103353,
     "end_time": "2024-06-29T13:42:31.802257",
     "exception": false,
     "start_time": "2024-06-29T13:42:31.698904",
     "status": "completed"
    },
    "tags": []
   },
   "outputs": [
    {
     "data": {
      "application/vnd.plotly.v1+json": {
       "config": {
        "plotlyServerURL": "https://plot.ly"
       },
       "data": [
        {
         "alignmentgroup": "True",
         "hovertemplate": "type=Movie<br>year_added=%{x}<br>type_count=%{y}<extra></extra>",
         "legendgroup": "Movie",
         "marker": {
          "color": "#636efa",
          "pattern": {
           "shape": ""
          }
         },
         "name": "Movie",
         "offsetgroup": "Movie",
         "orientation": "v",
         "showlegend": true,
         "textposition": "auto",
         "type": "bar",
         "x": [
          "2008",
          "2009",
          "2010",
          "2011",
          "2012",
          "2013",
          "2014",
          "2015",
          "2016",
          "2017",
          "2018",
          "2019",
          "2020",
          "2021"
         ],
         "xaxis": "x",
         "y": [
          1,
          2,
          1,
          13,
          3,
          6,
          19,
          56,
          253,
          839,
          1237,
          1424,
          1284,
          993
         ],
         "yaxis": "y"
        },
        {
         "alignmentgroup": "True",
         "hovertemplate": "type=TV Show<br>year_added=%{x}<br>type_count=%{y}<extra></extra>",
         "legendgroup": "TV Show",
         "marker": {
          "color": "#EF553B",
          "pattern": {
           "shape": ""
          }
         },
         "name": "TV Show",
         "offsetgroup": "TV Show",
         "orientation": "v",
         "showlegend": true,
         "textposition": "auto",
         "type": "bar",
         "x": [
          "2008",
          "2013",
          "2014",
          "2015",
          "2016",
          "2017",
          "2018",
          "2019",
          "2020",
          "2021",
          "Not Available"
         ],
         "xaxis": "x",
         "y": [
          1,
          5,
          5,
          26,
          176,
          349,
          412,
          592,
          595,
          505,
          10
         ],
         "yaxis": "y"
        }
       ],
       "layout": {
        "barmode": "relative",
        "legend": {
         "title": {
          "text": "type"
         },
         "tracegroupgap": 0
        },
        "template": {
         "data": {
          "bar": [
           {
            "error_x": {
             "color": "#2a3f5f"
            },
            "error_y": {
             "color": "#2a3f5f"
            },
            "marker": {
             "line": {
              "color": "#E5ECF6",
              "width": 0.5
             },
             "pattern": {
              "fillmode": "overlay",
              "size": 10,
              "solidity": 0.2
             }
            },
            "type": "bar"
           }
          ],
          "barpolar": [
           {
            "marker": {
             "line": {
              "color": "#E5ECF6",
              "width": 0.5
             },
             "pattern": {
              "fillmode": "overlay",
              "size": 10,
              "solidity": 0.2
             }
            },
            "type": "barpolar"
           }
          ],
          "carpet": [
           {
            "aaxis": {
             "endlinecolor": "#2a3f5f",
             "gridcolor": "white",
             "linecolor": "white",
             "minorgridcolor": "white",
             "startlinecolor": "#2a3f5f"
            },
            "baxis": {
             "endlinecolor": "#2a3f5f",
             "gridcolor": "white",
             "linecolor": "white",
             "minorgridcolor": "white",
             "startlinecolor": "#2a3f5f"
            },
            "type": "carpet"
           }
          ],
          "choropleth": [
           {
            "colorbar": {
             "outlinewidth": 0,
             "ticks": ""
            },
            "type": "choropleth"
           }
          ],
          "contour": [
           {
            "colorbar": {
             "outlinewidth": 0,
             "ticks": ""
            },
            "colorscale": [
             [
              0,
              "#0d0887"
             ],
             [
              0.1111111111111111,
              "#46039f"
             ],
             [
              0.2222222222222222,
              "#7201a8"
             ],
             [
              0.3333333333333333,
              "#9c179e"
             ],
             [
              0.4444444444444444,
              "#bd3786"
             ],
             [
              0.5555555555555556,
              "#d8576b"
             ],
             [
              0.6666666666666666,
              "#ed7953"
             ],
             [
              0.7777777777777778,
              "#fb9f3a"
             ],
             [
              0.8888888888888888,
              "#fdca26"
             ],
             [
              1,
              "#f0f921"
             ]
            ],
            "type": "contour"
           }
          ],
          "contourcarpet": [
           {
            "colorbar": {
             "outlinewidth": 0,
             "ticks": ""
            },
            "type": "contourcarpet"
           }
          ],
          "heatmap": [
           {
            "colorbar": {
             "outlinewidth": 0,
             "ticks": ""
            },
            "colorscale": [
             [
              0,
              "#0d0887"
             ],
             [
              0.1111111111111111,
              "#46039f"
             ],
             [
              0.2222222222222222,
              "#7201a8"
             ],
             [
              0.3333333333333333,
              "#9c179e"
             ],
             [
              0.4444444444444444,
              "#bd3786"
             ],
             [
              0.5555555555555556,
              "#d8576b"
             ],
             [
              0.6666666666666666,
              "#ed7953"
             ],
             [
              0.7777777777777778,
              "#fb9f3a"
             ],
             [
              0.8888888888888888,
              "#fdca26"
             ],
             [
              1,
              "#f0f921"
             ]
            ],
            "type": "heatmap"
           }
          ],
          "heatmapgl": [
           {
            "colorbar": {
             "outlinewidth": 0,
             "ticks": ""
            },
            "colorscale": [
             [
              0,
              "#0d0887"
             ],
             [
              0.1111111111111111,
              "#46039f"
             ],
             [
              0.2222222222222222,
              "#7201a8"
             ],
             [
              0.3333333333333333,
              "#9c179e"
             ],
             [
              0.4444444444444444,
              "#bd3786"
             ],
             [
              0.5555555555555556,
              "#d8576b"
             ],
             [
              0.6666666666666666,
              "#ed7953"
             ],
             [
              0.7777777777777778,
              "#fb9f3a"
             ],
             [
              0.8888888888888888,
              "#fdca26"
             ],
             [
              1,
              "#f0f921"
             ]
            ],
            "type": "heatmapgl"
           }
          ],
          "histogram": [
           {
            "marker": {
             "pattern": {
              "fillmode": "overlay",
              "size": 10,
              "solidity": 0.2
             }
            },
            "type": "histogram"
           }
          ],
          "histogram2d": [
           {
            "colorbar": {
             "outlinewidth": 0,
             "ticks": ""
            },
            "colorscale": [
             [
              0,
              "#0d0887"
             ],
             [
              0.1111111111111111,
              "#46039f"
             ],
             [
              0.2222222222222222,
              "#7201a8"
             ],
             [
              0.3333333333333333,
              "#9c179e"
             ],
             [
              0.4444444444444444,
              "#bd3786"
             ],
             [
              0.5555555555555556,
              "#d8576b"
             ],
             [
              0.6666666666666666,
              "#ed7953"
             ],
             [
              0.7777777777777778,
              "#fb9f3a"
             ],
             [
              0.8888888888888888,
              "#fdca26"
             ],
             [
              1,
              "#f0f921"
             ]
            ],
            "type": "histogram2d"
           }
          ],
          "histogram2dcontour": [
           {
            "colorbar": {
             "outlinewidth": 0,
             "ticks": ""
            },
            "colorscale": [
             [
              0,
              "#0d0887"
             ],
             [
              0.1111111111111111,
              "#46039f"
             ],
             [
              0.2222222222222222,
              "#7201a8"
             ],
             [
              0.3333333333333333,
              "#9c179e"
             ],
             [
              0.4444444444444444,
              "#bd3786"
             ],
             [
              0.5555555555555556,
              "#d8576b"
             ],
             [
              0.6666666666666666,
              "#ed7953"
             ],
             [
              0.7777777777777778,
              "#fb9f3a"
             ],
             [
              0.8888888888888888,
              "#fdca26"
             ],
             [
              1,
              "#f0f921"
             ]
            ],
            "type": "histogram2dcontour"
           }
          ],
          "mesh3d": [
           {
            "colorbar": {
             "outlinewidth": 0,
             "ticks": ""
            },
            "type": "mesh3d"
           }
          ],
          "parcoords": [
           {
            "line": {
             "colorbar": {
              "outlinewidth": 0,
              "ticks": ""
             }
            },
            "type": "parcoords"
           }
          ],
          "pie": [
           {
            "automargin": true,
            "type": "pie"
           }
          ],
          "scatter": [
           {
            "fillpattern": {
             "fillmode": "overlay",
             "size": 10,
             "solidity": 0.2
            },
            "type": "scatter"
           }
          ],
          "scatter3d": [
           {
            "line": {
             "colorbar": {
              "outlinewidth": 0,
              "ticks": ""
             }
            },
            "marker": {
             "colorbar": {
              "outlinewidth": 0,
              "ticks": ""
             }
            },
            "type": "scatter3d"
           }
          ],
          "scattercarpet": [
           {
            "marker": {
             "colorbar": {
              "outlinewidth": 0,
              "ticks": ""
             }
            },
            "type": "scattercarpet"
           }
          ],
          "scattergeo": [
           {
            "marker": {
             "colorbar": {
              "outlinewidth": 0,
              "ticks": ""
             }
            },
            "type": "scattergeo"
           }
          ],
          "scattergl": [
           {
            "marker": {
             "colorbar": {
              "outlinewidth": 0,
              "ticks": ""
             }
            },
            "type": "scattergl"
           }
          ],
          "scattermapbox": [
           {
            "marker": {
             "colorbar": {
              "outlinewidth": 0,
              "ticks": ""
             }
            },
            "type": "scattermapbox"
           }
          ],
          "scatterpolar": [
           {
            "marker": {
             "colorbar": {
              "outlinewidth": 0,
              "ticks": ""
             }
            },
            "type": "scatterpolar"
           }
          ],
          "scatterpolargl": [
           {
            "marker": {
             "colorbar": {
              "outlinewidth": 0,
              "ticks": ""
             }
            },
            "type": "scatterpolargl"
           }
          ],
          "scatterternary": [
           {
            "marker": {
             "colorbar": {
              "outlinewidth": 0,
              "ticks": ""
             }
            },
            "type": "scatterternary"
           }
          ],
          "surface": [
           {
            "colorbar": {
             "outlinewidth": 0,
             "ticks": ""
            },
            "colorscale": [
             [
              0,
              "#0d0887"
             ],
             [
              0.1111111111111111,
              "#46039f"
             ],
             [
              0.2222222222222222,
              "#7201a8"
             ],
             [
              0.3333333333333333,
              "#9c179e"
             ],
             [
              0.4444444444444444,
              "#bd3786"
             ],
             [
              0.5555555555555556,
              "#d8576b"
             ],
             [
              0.6666666666666666,
              "#ed7953"
             ],
             [
              0.7777777777777778,
              "#fb9f3a"
             ],
             [
              0.8888888888888888,
              "#fdca26"
             ],
             [
              1,
              "#f0f921"
             ]
            ],
            "type": "surface"
           }
          ],
          "table": [
           {
            "cells": {
             "fill": {
              "color": "#EBF0F8"
             },
             "line": {
              "color": "white"
             }
            },
            "header": {
             "fill": {
              "color": "#C8D4E3"
             },
             "line": {
              "color": "white"
             }
            },
            "type": "table"
           }
          ]
         },
         "layout": {
          "annotationdefaults": {
           "arrowcolor": "#2a3f5f",
           "arrowhead": 0,
           "arrowwidth": 1
          },
          "autotypenumbers": "strict",
          "coloraxis": {
           "colorbar": {
            "outlinewidth": 0,
            "ticks": ""
           }
          },
          "colorscale": {
           "diverging": [
            [
             0,
             "#8e0152"
            ],
            [
             0.1,
             "#c51b7d"
            ],
            [
             0.2,
             "#de77ae"
            ],
            [
             0.3,
             "#f1b6da"
            ],
            [
             0.4,
             "#fde0ef"
            ],
            [
             0.5,
             "#f7f7f7"
            ],
            [
             0.6,
             "#e6f5d0"
            ],
            [
             0.7,
             "#b8e186"
            ],
            [
             0.8,
             "#7fbc41"
            ],
            [
             0.9,
             "#4d9221"
            ],
            [
             1,
             "#276419"
            ]
           ],
           "sequential": [
            [
             0,
             "#0d0887"
            ],
            [
             0.1111111111111111,
             "#46039f"
            ],
            [
             0.2222222222222222,
             "#7201a8"
            ],
            [
             0.3333333333333333,
             "#9c179e"
            ],
            [
             0.4444444444444444,
             "#bd3786"
            ],
            [
             0.5555555555555556,
             "#d8576b"
            ],
            [
             0.6666666666666666,
             "#ed7953"
            ],
            [
             0.7777777777777778,
             "#fb9f3a"
            ],
            [
             0.8888888888888888,
             "#fdca26"
            ],
            [
             1,
             "#f0f921"
            ]
           ],
           "sequentialminus": [
            [
             0,
             "#0d0887"
            ],
            [
             0.1111111111111111,
             "#46039f"
            ],
            [
             0.2222222222222222,
             "#7201a8"
            ],
            [
             0.3333333333333333,
             "#9c179e"
            ],
            [
             0.4444444444444444,
             "#bd3786"
            ],
            [
             0.5555555555555556,
             "#d8576b"
            ],
            [
             0.6666666666666666,
             "#ed7953"
            ],
            [
             0.7777777777777778,
             "#fb9f3a"
            ],
            [
             0.8888888888888888,
             "#fdca26"
            ],
            [
             1,
             "#f0f921"
            ]
           ]
          },
          "colorway": [
           "#636efa",
           "#EF553B",
           "#00cc96",
           "#ab63fa",
           "#FFA15A",
           "#19d3f3",
           "#FF6692",
           "#B6E880",
           "#FF97FF",
           "#FECB52"
          ],
          "font": {
           "color": "#2a3f5f"
          },
          "geo": {
           "bgcolor": "white",
           "lakecolor": "white",
           "landcolor": "#E5ECF6",
           "showlakes": true,
           "showland": true,
           "subunitcolor": "white"
          },
          "hoverlabel": {
           "align": "left"
          },
          "hovermode": "closest",
          "mapbox": {
           "style": "light"
          },
          "paper_bgcolor": "white",
          "plot_bgcolor": "#E5ECF6",
          "polar": {
           "angularaxis": {
            "gridcolor": "white",
            "linecolor": "white",
            "ticks": ""
           },
           "bgcolor": "#E5ECF6",
           "radialaxis": {
            "gridcolor": "white",
            "linecolor": "white",
            "ticks": ""
           }
          },
          "scene": {
           "xaxis": {
            "backgroundcolor": "#E5ECF6",
            "gridcolor": "white",
            "gridwidth": 2,
            "linecolor": "white",
            "showbackground": true,
            "ticks": "",
            "zerolinecolor": "white"
           },
           "yaxis": {
            "backgroundcolor": "#E5ECF6",
            "gridcolor": "white",
            "gridwidth": 2,
            "linecolor": "white",
            "showbackground": true,
            "ticks": "",
            "zerolinecolor": "white"
           },
           "zaxis": {
            "backgroundcolor": "#E5ECF6",
            "gridcolor": "white",
            "gridwidth": 2,
            "linecolor": "white",
            "showbackground": true,
            "ticks": "",
            "zerolinecolor": "white"
           }
          },
          "shapedefaults": {
           "line": {
            "color": "#2a3f5f"
           }
          },
          "ternary": {
           "aaxis": {
            "gridcolor": "white",
            "linecolor": "white",
            "ticks": ""
           },
           "baxis": {
            "gridcolor": "white",
            "linecolor": "white",
            "ticks": ""
           },
           "bgcolor": "#E5ECF6",
           "caxis": {
            "gridcolor": "white",
            "linecolor": "white",
            "ticks": ""
           }
          },
          "title": {
           "x": 0.05
          },
          "xaxis": {
           "automargin": true,
           "gridcolor": "white",
           "linecolor": "white",
           "ticks": "",
           "title": {
            "standoff": 15
           },
           "zerolinecolor": "white",
           "zerolinewidth": 2
          },
          "yaxis": {
           "automargin": true,
           "gridcolor": "white",
           "linecolor": "white",
           "ticks": "",
           "title": {
            "standoff": 15
           },
           "zerolinecolor": "white",
           "zerolinewidth": 2
          }
         }
        },
        "title": {
         "text": "Year On Year Show Added On Netflix"
        },
        "xaxis": {
         "anchor": "y",
         "domain": [
          0,
          1
         ],
         "title": {
          "text": "year_added"
         }
        },
        "yaxis": {
         "anchor": "x",
         "domain": [
          0,
          1
         ],
         "title": {
          "text": "type_count"
         }
        }
       }
      }
     },
     "metadata": {},
     "output_type": "display_data"
    }
   ],
   "source": [
    "fig=px.bar(df_netflix_type_year,y='type_count',x='year_added',title='Year On Year Show Added On Netflix',color='type')\n",
    "fig.show()"
   ]
  },
  {
   "cell_type": "markdown",
   "id": "95c6ce5c",
   "metadata": {
    "papermill": {
     "duration": 0.024485,
     "end_time": "2024-06-29T13:42:31.851451",
     "exception": false,
     "start_time": "2024-06-29T13:42:31.826966",
     "status": "completed"
    },
    "tags": []
   },
   "source": [
    "### Creating Time Duration And Season Duration Features "
   ]
  },
  {
   "cell_type": "code",
   "execution_count": 49,
   "id": "d517bf41",
   "metadata": {
    "execution": {
     "iopub.execute_input": "2024-06-29T13:42:31.902853Z",
     "iopub.status.busy": "2024-06-29T13:42:31.902097Z",
     "iopub.status.idle": "2024-06-29T13:42:31.921997Z",
     "shell.execute_reply": "2024-06-29T13:42:31.920847Z"
    },
    "papermill": {
     "duration": 0.047867,
     "end_time": "2024-06-29T13:42:31.924346",
     "exception": false,
     "start_time": "2024-06-29T13:42:31.876479",
     "status": "completed"
    },
    "tags": []
   },
   "outputs": [],
   "source": [
    "df_netflix[['time_season_duration','time_season_duration_char']]=df_netflix['duration'].str.split(' ',expand=True)"
   ]
  },
  {
   "cell_type": "code",
   "execution_count": 50,
   "id": "ff4e7c23",
   "metadata": {
    "execution": {
     "iopub.execute_input": "2024-06-29T13:42:31.974521Z",
     "iopub.status.busy": "2024-06-29T13:42:31.974114Z",
     "iopub.status.idle": "2024-06-29T13:42:31.979327Z",
     "shell.execute_reply": "2024-06-29T13:42:31.978116Z"
    },
    "papermill": {
     "duration": 0.0328,
     "end_time": "2024-06-29T13:42:31.981464",
     "exception": false,
     "start_time": "2024-06-29T13:42:31.948664",
     "status": "completed"
    },
    "tags": []
   },
   "outputs": [],
   "source": [
    "def time(row):\n",
    "    if(row['time_season_duration_char']=='min'):\n",
    "        return row['time_season_duration']\n",
    "    else:\n",
    "        return 0"
   ]
  },
  {
   "cell_type": "code",
   "execution_count": 51,
   "id": "e2279e45",
   "metadata": {
    "execution": {
     "iopub.execute_input": "2024-06-29T13:42:32.042889Z",
     "iopub.status.busy": "2024-06-29T13:42:32.042329Z",
     "iopub.status.idle": "2024-06-29T13:42:32.149292Z",
     "shell.execute_reply": "2024-06-29T13:42:32.147933Z"
    },
    "papermill": {
     "duration": 0.145761,
     "end_time": "2024-06-29T13:42:32.152789",
     "exception": false,
     "start_time": "2024-06-29T13:42:32.007028",
     "status": "completed"
    },
    "tags": []
   },
   "outputs": [],
   "source": [
    "df_netflix['times_duration']=df_netflix.apply(time,axis=1)"
   ]
  },
  {
   "cell_type": "code",
   "execution_count": 52,
   "id": "cedc1af8",
   "metadata": {
    "execution": {
     "iopub.execute_input": "2024-06-29T13:42:32.220872Z",
     "iopub.status.busy": "2024-06-29T13:42:32.220364Z",
     "iopub.status.idle": "2024-06-29T13:42:32.227081Z",
     "shell.execute_reply": "2024-06-29T13:42:32.225624Z"
    },
    "papermill": {
     "duration": 0.042289,
     "end_time": "2024-06-29T13:42:32.229759",
     "exception": false,
     "start_time": "2024-06-29T13:42:32.187470",
     "status": "completed"
    },
    "tags": []
   },
   "outputs": [],
   "source": [
    "def season(row):\n",
    "    if(row['time_season_duration_char']=='Season'):\n",
    "        return row['time_season_duration']\n",
    "    else:\n",
    "        return 0"
   ]
  },
  {
   "cell_type": "code",
   "execution_count": 53,
   "id": "2660fe29",
   "metadata": {
    "execution": {
     "iopub.execute_input": "2024-06-29T13:42:32.285748Z",
     "iopub.status.busy": "2024-06-29T13:42:32.285394Z",
     "iopub.status.idle": "2024-06-29T13:42:32.380580Z",
     "shell.execute_reply": "2024-06-29T13:42:32.379143Z"
    },
    "papermill": {
     "duration": 0.124422,
     "end_time": "2024-06-29T13:42:32.384021",
     "exception": false,
     "start_time": "2024-06-29T13:42:32.259599",
     "status": "completed"
    },
    "tags": []
   },
   "outputs": [],
   "source": [
    "df_netflix['seasons_duration']=df_netflix.apply(season,axis=1)"
   ]
  },
  {
   "cell_type": "code",
   "execution_count": 54,
   "id": "a4cdf1b5",
   "metadata": {
    "execution": {
     "iopub.execute_input": "2024-06-29T13:42:32.445267Z",
     "iopub.status.busy": "2024-06-29T13:42:32.444844Z",
     "iopub.status.idle": "2024-06-29T13:42:32.464830Z",
     "shell.execute_reply": "2024-06-29T13:42:32.463460Z"
    },
    "papermill": {
     "duration": 0.049433,
     "end_time": "2024-06-29T13:42:32.467362",
     "exception": false,
     "start_time": "2024-06-29T13:42:32.417929",
     "status": "completed"
    },
    "tags": []
   },
   "outputs": [
    {
     "data": {
      "text/html": [
       "<div>\n",
       "<style scoped>\n",
       "    .dataframe tbody tr th:only-of-type {\n",
       "        vertical-align: middle;\n",
       "    }\n",
       "\n",
       "    .dataframe tbody tr th {\n",
       "        vertical-align: top;\n",
       "    }\n",
       "\n",
       "    .dataframe thead th {\n",
       "        text-align: right;\n",
       "    }\n",
       "</style>\n",
       "<table border=\"1\" class=\"dataframe\">\n",
       "  <thead>\n",
       "    <tr style=\"text-align: right;\">\n",
       "      <th></th>\n",
       "      <th>show_id</th>\n",
       "      <th>type</th>\n",
       "      <th>title</th>\n",
       "      <th>director</th>\n",
       "      <th>cast</th>\n",
       "      <th>country</th>\n",
       "      <th>release_year</th>\n",
       "      <th>rating</th>\n",
       "      <th>duration</th>\n",
       "      <th>listed_in</th>\n",
       "      <th>description</th>\n",
       "      <th>release_month</th>\n",
       "      <th>year_added</th>\n",
       "      <th>time_season_duration</th>\n",
       "      <th>time_season_duration_char</th>\n",
       "      <th>times_duration</th>\n",
       "      <th>seasons_duration</th>\n",
       "    </tr>\n",
       "  </thead>\n",
       "  <tbody>\n",
       "    <tr>\n",
       "      <th>0</th>\n",
       "      <td>s1</td>\n",
       "      <td>Movie</td>\n",
       "      <td>Dick Johnson Is Dead</td>\n",
       "      <td>Kirsten Johnson</td>\n",
       "      <td>Not Available</td>\n",
       "      <td>United States</td>\n",
       "      <td>2020</td>\n",
       "      <td>PG-13</td>\n",
       "      <td>90 min</td>\n",
       "      <td>Documentaries</td>\n",
       "      <td>As her father nears the end of his life, filmm...</td>\n",
       "      <td>September</td>\n",
       "      <td>2021</td>\n",
       "      <td>90</td>\n",
       "      <td>min</td>\n",
       "      <td>90</td>\n",
       "      <td>0</td>\n",
       "    </tr>\n",
       "    <tr>\n",
       "      <th>1</th>\n",
       "      <td>s2</td>\n",
       "      <td>TV Show</td>\n",
       "      <td>Blood &amp; Water</td>\n",
       "      <td>Not Available</td>\n",
       "      <td>Ama Qamata, Khosi Ngema, Gail Mabalane, Thaban...</td>\n",
       "      <td>South Africa</td>\n",
       "      <td>2021</td>\n",
       "      <td>TV-MA</td>\n",
       "      <td>2 Season</td>\n",
       "      <td>International TV Shows, TV Dramas, TV Mysteries</td>\n",
       "      <td>After crossing paths at a party, a Cape Town t...</td>\n",
       "      <td>September</td>\n",
       "      <td>2021</td>\n",
       "      <td>2</td>\n",
       "      <td>Season</td>\n",
       "      <td>0</td>\n",
       "      <td>2</td>\n",
       "    </tr>\n",
       "    <tr>\n",
       "      <th>2</th>\n",
       "      <td>s3</td>\n",
       "      <td>TV Show</td>\n",
       "      <td>Ganglands</td>\n",
       "      <td>Julien Leclercq</td>\n",
       "      <td>Sami Bouajila, Tracy Gotoas, Samuel Jouy, Nabi...</td>\n",
       "      <td>Not Available</td>\n",
       "      <td>2021</td>\n",
       "      <td>TV-MA</td>\n",
       "      <td>1 Season</td>\n",
       "      <td>Crime TV Shows, International TV Shows, TV Act...</td>\n",
       "      <td>To protect his family from a powerful drug lor...</td>\n",
       "      <td>September</td>\n",
       "      <td>2021</td>\n",
       "      <td>1</td>\n",
       "      <td>Season</td>\n",
       "      <td>0</td>\n",
       "      <td>1</td>\n",
       "    </tr>\n",
       "    <tr>\n",
       "      <th>3</th>\n",
       "      <td>s4</td>\n",
       "      <td>TV Show</td>\n",
       "      <td>Jailbirds New Orleans</td>\n",
       "      <td>Not Available</td>\n",
       "      <td>Not Available</td>\n",
       "      <td>Not Available</td>\n",
       "      <td>2021</td>\n",
       "      <td>TV-MA</td>\n",
       "      <td>1 Season</td>\n",
       "      <td>Docuseries, Reality TV</td>\n",
       "      <td>Feuds, flirtations and toilet talk go down amo...</td>\n",
       "      <td>September</td>\n",
       "      <td>2021</td>\n",
       "      <td>1</td>\n",
       "      <td>Season</td>\n",
       "      <td>0</td>\n",
       "      <td>1</td>\n",
       "    </tr>\n",
       "    <tr>\n",
       "      <th>4</th>\n",
       "      <td>s5</td>\n",
       "      <td>TV Show</td>\n",
       "      <td>Kota Factory</td>\n",
       "      <td>Not Available</td>\n",
       "      <td>Mayur More, Jitendra Kumar, Ranjan Raj, Alam K...</td>\n",
       "      <td>India</td>\n",
       "      <td>2021</td>\n",
       "      <td>TV-MA</td>\n",
       "      <td>2 Season</td>\n",
       "      <td>International TV Shows, Romantic TV Shows, TV ...</td>\n",
       "      <td>In a city of coaching centers known to train I...</td>\n",
       "      <td>September</td>\n",
       "      <td>2021</td>\n",
       "      <td>2</td>\n",
       "      <td>Season</td>\n",
       "      <td>0</td>\n",
       "      <td>2</td>\n",
       "    </tr>\n",
       "  </tbody>\n",
       "</table>\n",
       "</div>"
      ],
      "text/plain": [
       "  show_id     type                  title         director   \n",
       "0      s1    Movie   Dick Johnson Is Dead  Kirsten Johnson  \\\n",
       "1      s2  TV Show          Blood & Water    Not Available   \n",
       "2      s3  TV Show              Ganglands  Julien Leclercq   \n",
       "3      s4  TV Show  Jailbirds New Orleans    Not Available   \n",
       "4      s5  TV Show           Kota Factory    Not Available   \n",
       "\n",
       "                                                cast        country   \n",
       "0                                      Not Available  United States  \\\n",
       "1  Ama Qamata, Khosi Ngema, Gail Mabalane, Thaban...   South Africa   \n",
       "2  Sami Bouajila, Tracy Gotoas, Samuel Jouy, Nabi...  Not Available   \n",
       "3                                      Not Available  Not Available   \n",
       "4  Mayur More, Jitendra Kumar, Ranjan Raj, Alam K...          India   \n",
       "\n",
       "   release_year rating  duration   \n",
       "0          2020  PG-13    90 min  \\\n",
       "1          2021  TV-MA  2 Season   \n",
       "2          2021  TV-MA  1 Season   \n",
       "3          2021  TV-MA  1 Season   \n",
       "4          2021  TV-MA  2 Season   \n",
       "\n",
       "                                           listed_in   \n",
       "0                                      Documentaries  \\\n",
       "1    International TV Shows, TV Dramas, TV Mysteries   \n",
       "2  Crime TV Shows, International TV Shows, TV Act...   \n",
       "3                             Docuseries, Reality TV   \n",
       "4  International TV Shows, Romantic TV Shows, TV ...   \n",
       "\n",
       "                                         description release_month year_added   \n",
       "0  As her father nears the end of his life, filmm...     September       2021  \\\n",
       "1  After crossing paths at a party, a Cape Town t...     September       2021   \n",
       "2  To protect his family from a powerful drug lor...     September       2021   \n",
       "3  Feuds, flirtations and toilet talk go down amo...     September       2021   \n",
       "4  In a city of coaching centers known to train I...     September       2021   \n",
       "\n",
       "  time_season_duration time_season_duration_char times_duration   \n",
       "0                   90                       min             90  \\\n",
       "1                    2                    Season              0   \n",
       "2                    1                    Season              0   \n",
       "3                    1                    Season              0   \n",
       "4                    2                    Season              0   \n",
       "\n",
       "  seasons_duration  \n",
       "0                0  \n",
       "1                2  \n",
       "2                1  \n",
       "3                1  \n",
       "4                2  "
      ]
     },
     "execution_count": 54,
     "metadata": {},
     "output_type": "execute_result"
    }
   ],
   "source": [
    "df_netflix.head()"
   ]
  },
  {
   "cell_type": "code",
   "execution_count": 55,
   "id": "1cda2528",
   "metadata": {
    "execution": {
     "iopub.execute_input": "2024-06-29T13:42:32.520500Z",
     "iopub.status.busy": "2024-06-29T13:42:32.520123Z",
     "iopub.status.idle": "2024-06-29T13:42:32.538636Z",
     "shell.execute_reply": "2024-06-29T13:42:32.537327Z"
    },
    "papermill": {
     "duration": 0.04762,
     "end_time": "2024-06-29T13:42:32.541243",
     "exception": false,
     "start_time": "2024-06-29T13:42:32.493623",
     "status": "completed"
    },
    "tags": []
   },
   "outputs": [
    {
     "data": {
      "text/plain": [
       "show_id                      0\n",
       "type                         0\n",
       "title                        0\n",
       "director                     0\n",
       "cast                         0\n",
       "country                      0\n",
       "release_year                 0\n",
       "rating                       0\n",
       "duration                     0\n",
       "listed_in                    0\n",
       "description                  0\n",
       "release_month                0\n",
       "year_added                   0\n",
       "time_season_duration         0\n",
       "time_season_duration_char    0\n",
       "times_duration               0\n",
       "seasons_duration             0\n",
       "dtype: int64"
      ]
     },
     "execution_count": 55,
     "metadata": {},
     "output_type": "execute_result"
    }
   ],
   "source": [
    "df_netflix.isna().sum()"
   ]
  },
  {
   "cell_type": "code",
   "execution_count": 56,
   "id": "0b5dddf6",
   "metadata": {
    "execution": {
     "iopub.execute_input": "2024-06-29T13:42:32.602004Z",
     "iopub.status.busy": "2024-06-29T13:42:32.600954Z",
     "iopub.status.idle": "2024-06-29T13:42:32.612710Z",
     "shell.execute_reply": "2024-06-29T13:42:32.611579Z"
    },
    "papermill": {
     "duration": 0.042697,
     "end_time": "2024-06-29T13:42:32.615494",
     "exception": false,
     "start_time": "2024-06-29T13:42:32.572797",
     "status": "completed"
    },
    "tags": []
   },
   "outputs": [],
   "source": [
    "df_netflix.drop(columns=['duration','time_season_duration','time_season_duration_char'],axis=1,inplace=True)"
   ]
  },
  {
   "cell_type": "code",
   "execution_count": 57,
   "id": "8480b8f2",
   "metadata": {
    "execution": {
     "iopub.execute_input": "2024-06-29T13:42:32.668771Z",
     "iopub.status.busy": "2024-06-29T13:42:32.667858Z",
     "iopub.status.idle": "2024-06-29T13:42:32.687526Z",
     "shell.execute_reply": "2024-06-29T13:42:32.686474Z"
    },
    "papermill": {
     "duration": 0.049034,
     "end_time": "2024-06-29T13:42:32.690233",
     "exception": false,
     "start_time": "2024-06-29T13:42:32.641199",
     "status": "completed"
    },
    "tags": []
   },
   "outputs": [
    {
     "data": {
      "text/html": [
       "<div>\n",
       "<style scoped>\n",
       "    .dataframe tbody tr th:only-of-type {\n",
       "        vertical-align: middle;\n",
       "    }\n",
       "\n",
       "    .dataframe tbody tr th {\n",
       "        vertical-align: top;\n",
       "    }\n",
       "\n",
       "    .dataframe thead th {\n",
       "        text-align: right;\n",
       "    }\n",
       "</style>\n",
       "<table border=\"1\" class=\"dataframe\">\n",
       "  <thead>\n",
       "    <tr style=\"text-align: right;\">\n",
       "      <th></th>\n",
       "      <th>show_id</th>\n",
       "      <th>type</th>\n",
       "      <th>title</th>\n",
       "      <th>director</th>\n",
       "      <th>cast</th>\n",
       "      <th>country</th>\n",
       "      <th>release_year</th>\n",
       "      <th>rating</th>\n",
       "      <th>listed_in</th>\n",
       "      <th>description</th>\n",
       "      <th>release_month</th>\n",
       "      <th>year_added</th>\n",
       "      <th>times_duration</th>\n",
       "      <th>seasons_duration</th>\n",
       "    </tr>\n",
       "  </thead>\n",
       "  <tbody>\n",
       "    <tr>\n",
       "      <th>0</th>\n",
       "      <td>s1</td>\n",
       "      <td>Movie</td>\n",
       "      <td>Dick Johnson Is Dead</td>\n",
       "      <td>Kirsten Johnson</td>\n",
       "      <td>Not Available</td>\n",
       "      <td>United States</td>\n",
       "      <td>2020</td>\n",
       "      <td>PG-13</td>\n",
       "      <td>Documentaries</td>\n",
       "      <td>As her father nears the end of his life, filmm...</td>\n",
       "      <td>September</td>\n",
       "      <td>2021</td>\n",
       "      <td>90</td>\n",
       "      <td>0</td>\n",
       "    </tr>\n",
       "    <tr>\n",
       "      <th>1</th>\n",
       "      <td>s2</td>\n",
       "      <td>TV Show</td>\n",
       "      <td>Blood &amp; Water</td>\n",
       "      <td>Not Available</td>\n",
       "      <td>Ama Qamata, Khosi Ngema, Gail Mabalane, Thaban...</td>\n",
       "      <td>South Africa</td>\n",
       "      <td>2021</td>\n",
       "      <td>TV-MA</td>\n",
       "      <td>International TV Shows, TV Dramas, TV Mysteries</td>\n",
       "      <td>After crossing paths at a party, a Cape Town t...</td>\n",
       "      <td>September</td>\n",
       "      <td>2021</td>\n",
       "      <td>0</td>\n",
       "      <td>2</td>\n",
       "    </tr>\n",
       "    <tr>\n",
       "      <th>2</th>\n",
       "      <td>s3</td>\n",
       "      <td>TV Show</td>\n",
       "      <td>Ganglands</td>\n",
       "      <td>Julien Leclercq</td>\n",
       "      <td>Sami Bouajila, Tracy Gotoas, Samuel Jouy, Nabi...</td>\n",
       "      <td>Not Available</td>\n",
       "      <td>2021</td>\n",
       "      <td>TV-MA</td>\n",
       "      <td>Crime TV Shows, International TV Shows, TV Act...</td>\n",
       "      <td>To protect his family from a powerful drug lor...</td>\n",
       "      <td>September</td>\n",
       "      <td>2021</td>\n",
       "      <td>0</td>\n",
       "      <td>1</td>\n",
       "    </tr>\n",
       "    <tr>\n",
       "      <th>3</th>\n",
       "      <td>s4</td>\n",
       "      <td>TV Show</td>\n",
       "      <td>Jailbirds New Orleans</td>\n",
       "      <td>Not Available</td>\n",
       "      <td>Not Available</td>\n",
       "      <td>Not Available</td>\n",
       "      <td>2021</td>\n",
       "      <td>TV-MA</td>\n",
       "      <td>Docuseries, Reality TV</td>\n",
       "      <td>Feuds, flirtations and toilet talk go down amo...</td>\n",
       "      <td>September</td>\n",
       "      <td>2021</td>\n",
       "      <td>0</td>\n",
       "      <td>1</td>\n",
       "    </tr>\n",
       "    <tr>\n",
       "      <th>4</th>\n",
       "      <td>s5</td>\n",
       "      <td>TV Show</td>\n",
       "      <td>Kota Factory</td>\n",
       "      <td>Not Available</td>\n",
       "      <td>Mayur More, Jitendra Kumar, Ranjan Raj, Alam K...</td>\n",
       "      <td>India</td>\n",
       "      <td>2021</td>\n",
       "      <td>TV-MA</td>\n",
       "      <td>International TV Shows, Romantic TV Shows, TV ...</td>\n",
       "      <td>In a city of coaching centers known to train I...</td>\n",
       "      <td>September</td>\n",
       "      <td>2021</td>\n",
       "      <td>0</td>\n",
       "      <td>2</td>\n",
       "    </tr>\n",
       "  </tbody>\n",
       "</table>\n",
       "</div>"
      ],
      "text/plain": [
       "  show_id     type                  title         director   \n",
       "0      s1    Movie   Dick Johnson Is Dead  Kirsten Johnson  \\\n",
       "1      s2  TV Show          Blood & Water    Not Available   \n",
       "2      s3  TV Show              Ganglands  Julien Leclercq   \n",
       "3      s4  TV Show  Jailbirds New Orleans    Not Available   \n",
       "4      s5  TV Show           Kota Factory    Not Available   \n",
       "\n",
       "                                                cast        country   \n",
       "0                                      Not Available  United States  \\\n",
       "1  Ama Qamata, Khosi Ngema, Gail Mabalane, Thaban...   South Africa   \n",
       "2  Sami Bouajila, Tracy Gotoas, Samuel Jouy, Nabi...  Not Available   \n",
       "3                                      Not Available  Not Available   \n",
       "4  Mayur More, Jitendra Kumar, Ranjan Raj, Alam K...          India   \n",
       "\n",
       "   release_year rating                                          listed_in   \n",
       "0          2020  PG-13                                      Documentaries  \\\n",
       "1          2021  TV-MA    International TV Shows, TV Dramas, TV Mysteries   \n",
       "2          2021  TV-MA  Crime TV Shows, International TV Shows, TV Act...   \n",
       "3          2021  TV-MA                             Docuseries, Reality TV   \n",
       "4          2021  TV-MA  International TV Shows, Romantic TV Shows, TV ...   \n",
       "\n",
       "                                         description release_month year_added   \n",
       "0  As her father nears the end of his life, filmm...     September       2021  \\\n",
       "1  After crossing paths at a party, a Cape Town t...     September       2021   \n",
       "2  To protect his family from a powerful drug lor...     September       2021   \n",
       "3  Feuds, flirtations and toilet talk go down amo...     September       2021   \n",
       "4  In a city of coaching centers known to train I...     September       2021   \n",
       "\n",
       "  times_duration seasons_duration  \n",
       "0             90                0  \n",
       "1              0                2  \n",
       "2              0                1  \n",
       "3              0                1  \n",
       "4              0                2  "
      ]
     },
     "execution_count": 57,
     "metadata": {},
     "output_type": "execute_result"
    }
   ],
   "source": [
    "df_netflix.head()"
   ]
  },
  {
   "cell_type": "markdown",
   "id": "07293106",
   "metadata": {
    "papermill": {
     "duration": 0.025077,
     "end_time": "2024-06-29T13:42:32.746792",
     "exception": false,
     "start_time": "2024-06-29T13:42:32.721715",
     "status": "completed"
    },
    "tags": []
   },
   "source": [
    "### Setting Data Type Of Time Duration And Season Duration Features To View Movies_Shows Vs Web Series "
   ]
  },
  {
   "cell_type": "code",
   "execution_count": 58,
   "id": "ac3b9260",
   "metadata": {
    "execution": {
     "iopub.execute_input": "2024-06-29T13:42:32.799073Z",
     "iopub.status.busy": "2024-06-29T13:42:32.798608Z",
     "iopub.status.idle": "2024-06-29T13:42:32.809025Z",
     "shell.execute_reply": "2024-06-29T13:42:32.807339Z"
    },
    "papermill": {
     "duration": 0.039977,
     "end_time": "2024-06-29T13:42:32.811898",
     "exception": false,
     "start_time": "2024-06-29T13:42:32.771921",
     "status": "completed"
    },
    "tags": []
   },
   "outputs": [],
   "source": [
    "df_netflix['times_duration']=df_netflix['times_duration'].astype(int)"
   ]
  },
  {
   "cell_type": "code",
   "execution_count": 59,
   "id": "eeeeb08f",
   "metadata": {
    "execution": {
     "iopub.execute_input": "2024-06-29T13:42:32.893252Z",
     "iopub.status.busy": "2024-06-29T13:42:32.892862Z",
     "iopub.status.idle": "2024-06-29T13:42:32.898767Z",
     "shell.execute_reply": "2024-06-29T13:42:32.897544Z"
    },
    "papermill": {
     "duration": 0.049285,
     "end_time": "2024-06-29T13:42:32.901149",
     "exception": false,
     "start_time": "2024-06-29T13:42:32.851864",
     "status": "completed"
    },
    "tags": []
   },
   "outputs": [],
   "source": [
    "df_netflix['seasons_duration']=df_netflix['seasons_duration'].astype(int)"
   ]
  },
  {
   "cell_type": "code",
   "execution_count": 60,
   "id": "8fc46096",
   "metadata": {
    "execution": {
     "iopub.execute_input": "2024-06-29T13:42:32.954001Z",
     "iopub.status.busy": "2024-06-29T13:42:32.952898Z",
     "iopub.status.idle": "2024-06-29T13:42:32.962195Z",
     "shell.execute_reply": "2024-06-29T13:42:32.961169Z"
    },
    "papermill": {
     "duration": 0.038543,
     "end_time": "2024-06-29T13:42:32.964797",
     "exception": false,
     "start_time": "2024-06-29T13:42:32.926254",
     "status": "completed"
    },
    "tags": []
   },
   "outputs": [
    {
     "data": {
      "text/plain": [
       "show_id             object\n",
       "type                object\n",
       "title               object\n",
       "director            object\n",
       "cast                object\n",
       "country             object\n",
       "release_year         int64\n",
       "rating              object\n",
       "listed_in           object\n",
       "description         object\n",
       "release_month       object\n",
       "year_added          object\n",
       "times_duration       int64\n",
       "seasons_duration     int64\n",
       "dtype: object"
      ]
     },
     "execution_count": 60,
     "metadata": {},
     "output_type": "execute_result"
    }
   ],
   "source": [
    "df_netflix.dtypes"
   ]
  },
  {
   "cell_type": "code",
   "execution_count": 61,
   "id": "c485b5ce",
   "metadata": {
    "execution": {
     "iopub.execute_input": "2024-06-29T13:42:33.023980Z",
     "iopub.status.busy": "2024-06-29T13:42:33.023610Z",
     "iopub.status.idle": "2024-06-29T13:42:33.032188Z",
     "shell.execute_reply": "2024-06-29T13:42:33.031065Z"
    },
    "papermill": {
     "duration": 0.03776,
     "end_time": "2024-06-29T13:42:33.034848",
     "exception": false,
     "start_time": "2024-06-29T13:42:32.997088",
     "status": "completed"
    },
    "tags": []
   },
   "outputs": [
    {
     "name": "stdout",
     "output_type": "stream",
     "text": [
      "2679 6128\n"
     ]
    }
   ],
   "source": [
    "count_times_movies_shows=0\n",
    "count_season_web_series=0\n",
    "for i in df_netflix['times_duration']:\n",
    "    if(i==0):\n",
    "        count_times_movies_shows+=1  \n",
    "    else:\n",
    "        count_season_web_series+=1\n",
    "print(count_times_movies_shows,count_season_web_series)"
   ]
  },
  {
   "cell_type": "code",
   "execution_count": 62,
   "id": "02f9e8cd",
   "metadata": {
    "execution": {
     "iopub.execute_input": "2024-06-29T13:42:33.089969Z",
     "iopub.status.busy": "2024-06-29T13:42:33.089585Z",
     "iopub.status.idle": "2024-06-29T13:42:33.149854Z",
     "shell.execute_reply": "2024-06-29T13:42:33.148751Z"
    },
    "papermill": {
     "duration": 0.090026,
     "end_time": "2024-06-29T13:42:33.152306",
     "exception": false,
     "start_time": "2024-06-29T13:42:33.062280",
     "status": "completed"
    },
    "tags": []
   },
   "outputs": [
    {
     "data": {
      "application/vnd.plotly.v1+json": {
       "config": {
        "plotlyServerURL": "https://plot.ly"
       },
       "data": [
        {
         "alignmentgroup": "True",
         "hovertemplate": "x=%{x}<br>y=%{y}<extra></extra>",
         "legendgroup": "",
         "marker": {
          "color": "#636efa",
          "pattern": {
           "shape": ""
          }
         },
         "name": "",
         "offsetgroup": "",
         "orientation": "v",
         "showlegend": false,
         "textposition": "auto",
         "type": "bar",
         "x": [
          "Movies_Shows",
          "Web_Series"
         ],
         "xaxis": "x",
         "y": [
          2679,
          6128
         ],
         "yaxis": "y"
        }
       ],
       "layout": {
        "barmode": "relative",
        "legend": {
         "tracegroupgap": 0
        },
        "template": {
         "data": {
          "bar": [
           {
            "error_x": {
             "color": "#2a3f5f"
            },
            "error_y": {
             "color": "#2a3f5f"
            },
            "marker": {
             "line": {
              "color": "#E5ECF6",
              "width": 0.5
             },
             "pattern": {
              "fillmode": "overlay",
              "size": 10,
              "solidity": 0.2
             }
            },
            "type": "bar"
           }
          ],
          "barpolar": [
           {
            "marker": {
             "line": {
              "color": "#E5ECF6",
              "width": 0.5
             },
             "pattern": {
              "fillmode": "overlay",
              "size": 10,
              "solidity": 0.2
             }
            },
            "type": "barpolar"
           }
          ],
          "carpet": [
           {
            "aaxis": {
             "endlinecolor": "#2a3f5f",
             "gridcolor": "white",
             "linecolor": "white",
             "minorgridcolor": "white",
             "startlinecolor": "#2a3f5f"
            },
            "baxis": {
             "endlinecolor": "#2a3f5f",
             "gridcolor": "white",
             "linecolor": "white",
             "minorgridcolor": "white",
             "startlinecolor": "#2a3f5f"
            },
            "type": "carpet"
           }
          ],
          "choropleth": [
           {
            "colorbar": {
             "outlinewidth": 0,
             "ticks": ""
            },
            "type": "choropleth"
           }
          ],
          "contour": [
           {
            "colorbar": {
             "outlinewidth": 0,
             "ticks": ""
            },
            "colorscale": [
             [
              0,
              "#0d0887"
             ],
             [
              0.1111111111111111,
              "#46039f"
             ],
             [
              0.2222222222222222,
              "#7201a8"
             ],
             [
              0.3333333333333333,
              "#9c179e"
             ],
             [
              0.4444444444444444,
              "#bd3786"
             ],
             [
              0.5555555555555556,
              "#d8576b"
             ],
             [
              0.6666666666666666,
              "#ed7953"
             ],
             [
              0.7777777777777778,
              "#fb9f3a"
             ],
             [
              0.8888888888888888,
              "#fdca26"
             ],
             [
              1,
              "#f0f921"
             ]
            ],
            "type": "contour"
           }
          ],
          "contourcarpet": [
           {
            "colorbar": {
             "outlinewidth": 0,
             "ticks": ""
            },
            "type": "contourcarpet"
           }
          ],
          "heatmap": [
           {
            "colorbar": {
             "outlinewidth": 0,
             "ticks": ""
            },
            "colorscale": [
             [
              0,
              "#0d0887"
             ],
             [
              0.1111111111111111,
              "#46039f"
             ],
             [
              0.2222222222222222,
              "#7201a8"
             ],
             [
              0.3333333333333333,
              "#9c179e"
             ],
             [
              0.4444444444444444,
              "#bd3786"
             ],
             [
              0.5555555555555556,
              "#d8576b"
             ],
             [
              0.6666666666666666,
              "#ed7953"
             ],
             [
              0.7777777777777778,
              "#fb9f3a"
             ],
             [
              0.8888888888888888,
              "#fdca26"
             ],
             [
              1,
              "#f0f921"
             ]
            ],
            "type": "heatmap"
           }
          ],
          "heatmapgl": [
           {
            "colorbar": {
             "outlinewidth": 0,
             "ticks": ""
            },
            "colorscale": [
             [
              0,
              "#0d0887"
             ],
             [
              0.1111111111111111,
              "#46039f"
             ],
             [
              0.2222222222222222,
              "#7201a8"
             ],
             [
              0.3333333333333333,
              "#9c179e"
             ],
             [
              0.4444444444444444,
              "#bd3786"
             ],
             [
              0.5555555555555556,
              "#d8576b"
             ],
             [
              0.6666666666666666,
              "#ed7953"
             ],
             [
              0.7777777777777778,
              "#fb9f3a"
             ],
             [
              0.8888888888888888,
              "#fdca26"
             ],
             [
              1,
              "#f0f921"
             ]
            ],
            "type": "heatmapgl"
           }
          ],
          "histogram": [
           {
            "marker": {
             "pattern": {
              "fillmode": "overlay",
              "size": 10,
              "solidity": 0.2
             }
            },
            "type": "histogram"
           }
          ],
          "histogram2d": [
           {
            "colorbar": {
             "outlinewidth": 0,
             "ticks": ""
            },
            "colorscale": [
             [
              0,
              "#0d0887"
             ],
             [
              0.1111111111111111,
              "#46039f"
             ],
             [
              0.2222222222222222,
              "#7201a8"
             ],
             [
              0.3333333333333333,
              "#9c179e"
             ],
             [
              0.4444444444444444,
              "#bd3786"
             ],
             [
              0.5555555555555556,
              "#d8576b"
             ],
             [
              0.6666666666666666,
              "#ed7953"
             ],
             [
              0.7777777777777778,
              "#fb9f3a"
             ],
             [
              0.8888888888888888,
              "#fdca26"
             ],
             [
              1,
              "#f0f921"
             ]
            ],
            "type": "histogram2d"
           }
          ],
          "histogram2dcontour": [
           {
            "colorbar": {
             "outlinewidth": 0,
             "ticks": ""
            },
            "colorscale": [
             [
              0,
              "#0d0887"
             ],
             [
              0.1111111111111111,
              "#46039f"
             ],
             [
              0.2222222222222222,
              "#7201a8"
             ],
             [
              0.3333333333333333,
              "#9c179e"
             ],
             [
              0.4444444444444444,
              "#bd3786"
             ],
             [
              0.5555555555555556,
              "#d8576b"
             ],
             [
              0.6666666666666666,
              "#ed7953"
             ],
             [
              0.7777777777777778,
              "#fb9f3a"
             ],
             [
              0.8888888888888888,
              "#fdca26"
             ],
             [
              1,
              "#f0f921"
             ]
            ],
            "type": "histogram2dcontour"
           }
          ],
          "mesh3d": [
           {
            "colorbar": {
             "outlinewidth": 0,
             "ticks": ""
            },
            "type": "mesh3d"
           }
          ],
          "parcoords": [
           {
            "line": {
             "colorbar": {
              "outlinewidth": 0,
              "ticks": ""
             }
            },
            "type": "parcoords"
           }
          ],
          "pie": [
           {
            "automargin": true,
            "type": "pie"
           }
          ],
          "scatter": [
           {
            "fillpattern": {
             "fillmode": "overlay",
             "size": 10,
             "solidity": 0.2
            },
            "type": "scatter"
           }
          ],
          "scatter3d": [
           {
            "line": {
             "colorbar": {
              "outlinewidth": 0,
              "ticks": ""
             }
            },
            "marker": {
             "colorbar": {
              "outlinewidth": 0,
              "ticks": ""
             }
            },
            "type": "scatter3d"
           }
          ],
          "scattercarpet": [
           {
            "marker": {
             "colorbar": {
              "outlinewidth": 0,
              "ticks": ""
             }
            },
            "type": "scattercarpet"
           }
          ],
          "scattergeo": [
           {
            "marker": {
             "colorbar": {
              "outlinewidth": 0,
              "ticks": ""
             }
            },
            "type": "scattergeo"
           }
          ],
          "scattergl": [
           {
            "marker": {
             "colorbar": {
              "outlinewidth": 0,
              "ticks": ""
             }
            },
            "type": "scattergl"
           }
          ],
          "scattermapbox": [
           {
            "marker": {
             "colorbar": {
              "outlinewidth": 0,
              "ticks": ""
             }
            },
            "type": "scattermapbox"
           }
          ],
          "scatterpolar": [
           {
            "marker": {
             "colorbar": {
              "outlinewidth": 0,
              "ticks": ""
             }
            },
            "type": "scatterpolar"
           }
          ],
          "scatterpolargl": [
           {
            "marker": {
             "colorbar": {
              "outlinewidth": 0,
              "ticks": ""
             }
            },
            "type": "scatterpolargl"
           }
          ],
          "scatterternary": [
           {
            "marker": {
             "colorbar": {
              "outlinewidth": 0,
              "ticks": ""
             }
            },
            "type": "scatterternary"
           }
          ],
          "surface": [
           {
            "colorbar": {
             "outlinewidth": 0,
             "ticks": ""
            },
            "colorscale": [
             [
              0,
              "#0d0887"
             ],
             [
              0.1111111111111111,
              "#46039f"
             ],
             [
              0.2222222222222222,
              "#7201a8"
             ],
             [
              0.3333333333333333,
              "#9c179e"
             ],
             [
              0.4444444444444444,
              "#bd3786"
             ],
             [
              0.5555555555555556,
              "#d8576b"
             ],
             [
              0.6666666666666666,
              "#ed7953"
             ],
             [
              0.7777777777777778,
              "#fb9f3a"
             ],
             [
              0.8888888888888888,
              "#fdca26"
             ],
             [
              1,
              "#f0f921"
             ]
            ],
            "type": "surface"
           }
          ],
          "table": [
           {
            "cells": {
             "fill": {
              "color": "#EBF0F8"
             },
             "line": {
              "color": "white"
             }
            },
            "header": {
             "fill": {
              "color": "#C8D4E3"
             },
             "line": {
              "color": "white"
             }
            },
            "type": "table"
           }
          ]
         },
         "layout": {
          "annotationdefaults": {
           "arrowcolor": "#2a3f5f",
           "arrowhead": 0,
           "arrowwidth": 1
          },
          "autotypenumbers": "strict",
          "coloraxis": {
           "colorbar": {
            "outlinewidth": 0,
            "ticks": ""
           }
          },
          "colorscale": {
           "diverging": [
            [
             0,
             "#8e0152"
            ],
            [
             0.1,
             "#c51b7d"
            ],
            [
             0.2,
             "#de77ae"
            ],
            [
             0.3,
             "#f1b6da"
            ],
            [
             0.4,
             "#fde0ef"
            ],
            [
             0.5,
             "#f7f7f7"
            ],
            [
             0.6,
             "#e6f5d0"
            ],
            [
             0.7,
             "#b8e186"
            ],
            [
             0.8,
             "#7fbc41"
            ],
            [
             0.9,
             "#4d9221"
            ],
            [
             1,
             "#276419"
            ]
           ],
           "sequential": [
            [
             0,
             "#0d0887"
            ],
            [
             0.1111111111111111,
             "#46039f"
            ],
            [
             0.2222222222222222,
             "#7201a8"
            ],
            [
             0.3333333333333333,
             "#9c179e"
            ],
            [
             0.4444444444444444,
             "#bd3786"
            ],
            [
             0.5555555555555556,
             "#d8576b"
            ],
            [
             0.6666666666666666,
             "#ed7953"
            ],
            [
             0.7777777777777778,
             "#fb9f3a"
            ],
            [
             0.8888888888888888,
             "#fdca26"
            ],
            [
             1,
             "#f0f921"
            ]
           ],
           "sequentialminus": [
            [
             0,
             "#0d0887"
            ],
            [
             0.1111111111111111,
             "#46039f"
            ],
            [
             0.2222222222222222,
             "#7201a8"
            ],
            [
             0.3333333333333333,
             "#9c179e"
            ],
            [
             0.4444444444444444,
             "#bd3786"
            ],
            [
             0.5555555555555556,
             "#d8576b"
            ],
            [
             0.6666666666666666,
             "#ed7953"
            ],
            [
             0.7777777777777778,
             "#fb9f3a"
            ],
            [
             0.8888888888888888,
             "#fdca26"
            ],
            [
             1,
             "#f0f921"
            ]
           ]
          },
          "colorway": [
           "#636efa",
           "#EF553B",
           "#00cc96",
           "#ab63fa",
           "#FFA15A",
           "#19d3f3",
           "#FF6692",
           "#B6E880",
           "#FF97FF",
           "#FECB52"
          ],
          "font": {
           "color": "#2a3f5f"
          },
          "geo": {
           "bgcolor": "white",
           "lakecolor": "white",
           "landcolor": "#E5ECF6",
           "showlakes": true,
           "showland": true,
           "subunitcolor": "white"
          },
          "hoverlabel": {
           "align": "left"
          },
          "hovermode": "closest",
          "mapbox": {
           "style": "light"
          },
          "paper_bgcolor": "white",
          "plot_bgcolor": "#E5ECF6",
          "polar": {
           "angularaxis": {
            "gridcolor": "white",
            "linecolor": "white",
            "ticks": ""
           },
           "bgcolor": "#E5ECF6",
           "radialaxis": {
            "gridcolor": "white",
            "linecolor": "white",
            "ticks": ""
           }
          },
          "scene": {
           "xaxis": {
            "backgroundcolor": "#E5ECF6",
            "gridcolor": "white",
            "gridwidth": 2,
            "linecolor": "white",
            "showbackground": true,
            "ticks": "",
            "zerolinecolor": "white"
           },
           "yaxis": {
            "backgroundcolor": "#E5ECF6",
            "gridcolor": "white",
            "gridwidth": 2,
            "linecolor": "white",
            "showbackground": true,
            "ticks": "",
            "zerolinecolor": "white"
           },
           "zaxis": {
            "backgroundcolor": "#E5ECF6",
            "gridcolor": "white",
            "gridwidth": 2,
            "linecolor": "white",
            "showbackground": true,
            "ticks": "",
            "zerolinecolor": "white"
           }
          },
          "shapedefaults": {
           "line": {
            "color": "#2a3f5f"
           }
          },
          "ternary": {
           "aaxis": {
            "gridcolor": "white",
            "linecolor": "white",
            "ticks": ""
           },
           "baxis": {
            "gridcolor": "white",
            "linecolor": "white",
            "ticks": ""
           },
           "bgcolor": "#E5ECF6",
           "caxis": {
            "gridcolor": "white",
            "linecolor": "white",
            "ticks": ""
           }
          },
          "title": {
           "x": 0.05
          },
          "xaxis": {
           "automargin": true,
           "gridcolor": "white",
           "linecolor": "white",
           "ticks": "",
           "title": {
            "standoff": 15
           },
           "zerolinecolor": "white",
           "zerolinewidth": 2
          },
          "yaxis": {
           "automargin": true,
           "gridcolor": "white",
           "linecolor": "white",
           "ticks": "",
           "title": {
            "standoff": 15
           },
           "zerolinecolor": "white",
           "zerolinewidth": 2
          }
         }
        },
        "title": {
         "text": "Movies Shows Vs Web Series"
        },
        "xaxis": {
         "anchor": "y",
         "domain": [
          0,
          1
         ],
         "title": {
          "text": "x"
         }
        },
        "yaxis": {
         "anchor": "x",
         "domain": [
          0,
          1
         ],
         "title": {
          "text": "y"
         }
        }
       }
      }
     },
     "metadata": {},
     "output_type": "display_data"
    }
   ],
   "source": [
    "fig=px.bar(x=['Movies_Shows','Web_Series'],y=[count_times_movies_shows,count_season_web_series],title='Movies Shows Vs Web Series')\n",
    "fig.show()"
   ]
  },
  {
   "cell_type": "markdown",
   "id": "283a3732",
   "metadata": {
    "papermill": {
     "duration": 0.025713,
     "end_time": "2024-06-29T13:42:33.203631",
     "exception": false,
     "start_time": "2024-06-29T13:42:33.177918",
     "status": "completed"
    },
    "tags": []
   },
   "source": [
    "### Show With Maximum Seasons"
   ]
  },
  {
   "cell_type": "code",
   "execution_count": 63,
   "id": "77c865c8",
   "metadata": {
    "execution": {
     "iopub.execute_input": "2024-06-29T13:42:33.256923Z",
     "iopub.status.busy": "2024-06-29T13:42:33.256453Z",
     "iopub.status.idle": "2024-06-29T13:42:33.278671Z",
     "shell.execute_reply": "2024-06-29T13:42:33.277180Z"
    },
    "papermill": {
     "duration": 0.051862,
     "end_time": "2024-06-29T13:42:33.280880",
     "exception": false,
     "start_time": "2024-06-29T13:42:33.229018",
     "status": "completed"
    },
    "tags": []
   },
   "outputs": [
    {
     "data": {
      "text/html": [
       "<div>\n",
       "<style scoped>\n",
       "    .dataframe tbody tr th:only-of-type {\n",
       "        vertical-align: middle;\n",
       "    }\n",
       "\n",
       "    .dataframe tbody tr th {\n",
       "        vertical-align: top;\n",
       "    }\n",
       "\n",
       "    .dataframe thead th {\n",
       "        text-align: right;\n",
       "    }\n",
       "</style>\n",
       "<table border=\"1\" class=\"dataframe\">\n",
       "  <thead>\n",
       "    <tr style=\"text-align: right;\">\n",
       "      <th></th>\n",
       "      <th>show_id</th>\n",
       "      <th>type</th>\n",
       "      <th>title</th>\n",
       "      <th>director</th>\n",
       "      <th>cast</th>\n",
       "      <th>country</th>\n",
       "      <th>release_year</th>\n",
       "      <th>rating</th>\n",
       "      <th>listed_in</th>\n",
       "      <th>description</th>\n",
       "      <th>release_month</th>\n",
       "      <th>year_added</th>\n",
       "      <th>times_duration</th>\n",
       "      <th>seasons_duration</th>\n",
       "    </tr>\n",
       "  </thead>\n",
       "  <tbody>\n",
       "    <tr>\n",
       "      <th>548</th>\n",
       "      <td>s549</td>\n",
       "      <td>TV Show</td>\n",
       "      <td>Grey's Anatomy</td>\n",
       "      <td>Not Available</td>\n",
       "      <td>Ellen Pompeo, Sandra Oh, Katherine Heigl, Just...</td>\n",
       "      <td>United States</td>\n",
       "      <td>2020</td>\n",
       "      <td>TV-14</td>\n",
       "      <td>Romantic TV Shows, TV Dramas</td>\n",
       "      <td>Intern (and eventual resident) Meredith Grey f...</td>\n",
       "      <td>July</td>\n",
       "      <td>2021</td>\n",
       "      <td>0</td>\n",
       "      <td>17</td>\n",
       "    </tr>\n",
       "  </tbody>\n",
       "</table>\n",
       "</div>"
      ],
      "text/plain": [
       "    show_id     type           title       director   \n",
       "548    s549  TV Show  Grey's Anatomy  Not Available  \\\n",
       "\n",
       "                                                  cast        country   \n",
       "548  Ellen Pompeo, Sandra Oh, Katherine Heigl, Just...  United States  \\\n",
       "\n",
       "     release_year rating                     listed_in   \n",
       "548          2020  TV-14  Romantic TV Shows, TV Dramas  \\\n",
       "\n",
       "                                           description release_month   \n",
       "548  Intern (and eventual resident) Meredith Grey f...          July  \\\n",
       "\n",
       "    year_added  times_duration  seasons_duration  \n",
       "548       2021               0                17  "
      ]
     },
     "execution_count": 63,
     "metadata": {},
     "output_type": "execute_result"
    }
   ],
   "source": [
    "df_netflix[df_netflix['seasons_duration']==df_netflix['seasons_duration'].max()]"
   ]
  },
  {
   "cell_type": "markdown",
   "id": "a81a8970",
   "metadata": {
    "papermill": {
     "duration": 0.025206,
     "end_time": "2024-06-29T13:42:33.331884",
     "exception": false,
     "start_time": "2024-06-29T13:42:33.306678",
     "status": "completed"
    },
    "tags": []
   },
   "source": [
    "### Show With Maximum Time Duration"
   ]
  },
  {
   "cell_type": "code",
   "execution_count": 64,
   "id": "2766e9b3",
   "metadata": {
    "execution": {
     "iopub.execute_input": "2024-06-29T13:42:33.385097Z",
     "iopub.status.busy": "2024-06-29T13:42:33.384105Z",
     "iopub.status.idle": "2024-06-29T13:42:33.403237Z",
     "shell.execute_reply": "2024-06-29T13:42:33.402217Z"
    },
    "papermill": {
     "duration": 0.048787,
     "end_time": "2024-06-29T13:42:33.405992",
     "exception": false,
     "start_time": "2024-06-29T13:42:33.357205",
     "status": "completed"
    },
    "tags": []
   },
   "outputs": [
    {
     "data": {
      "text/html": [
       "<div>\n",
       "<style scoped>\n",
       "    .dataframe tbody tr th:only-of-type {\n",
       "        vertical-align: middle;\n",
       "    }\n",
       "\n",
       "    .dataframe tbody tr th {\n",
       "        vertical-align: top;\n",
       "    }\n",
       "\n",
       "    .dataframe thead th {\n",
       "        text-align: right;\n",
       "    }\n",
       "</style>\n",
       "<table border=\"1\" class=\"dataframe\">\n",
       "  <thead>\n",
       "    <tr style=\"text-align: right;\">\n",
       "      <th></th>\n",
       "      <th>show_id</th>\n",
       "      <th>type</th>\n",
       "      <th>title</th>\n",
       "      <th>director</th>\n",
       "      <th>cast</th>\n",
       "      <th>country</th>\n",
       "      <th>release_year</th>\n",
       "      <th>rating</th>\n",
       "      <th>listed_in</th>\n",
       "      <th>description</th>\n",
       "      <th>release_month</th>\n",
       "      <th>year_added</th>\n",
       "      <th>times_duration</th>\n",
       "      <th>seasons_duration</th>\n",
       "    </tr>\n",
       "  </thead>\n",
       "  <tbody>\n",
       "    <tr>\n",
       "      <th>4253</th>\n",
       "      <td>s4254</td>\n",
       "      <td>Movie</td>\n",
       "      <td>Black Mirror: Bandersnatch</td>\n",
       "      <td>Not Available</td>\n",
       "      <td>Fionn Whitehead, Will Poulter, Craig Parkinson...</td>\n",
       "      <td>United States</td>\n",
       "      <td>2018</td>\n",
       "      <td>TV-MA</td>\n",
       "      <td>Dramas, International Movies, Sci-Fi &amp; Fantasy</td>\n",
       "      <td>In 1984, a young programmer begins to question...</td>\n",
       "      <td>December</td>\n",
       "      <td>2018</td>\n",
       "      <td>312</td>\n",
       "      <td>0</td>\n",
       "    </tr>\n",
       "  </tbody>\n",
       "</table>\n",
       "</div>"
      ],
      "text/plain": [
       "     show_id   type                       title       director   \n",
       "4253   s4254  Movie  Black Mirror: Bandersnatch  Not Available  \\\n",
       "\n",
       "                                                   cast        country   \n",
       "4253  Fionn Whitehead, Will Poulter, Craig Parkinson...  United States  \\\n",
       "\n",
       "      release_year rating                                       listed_in   \n",
       "4253          2018  TV-MA  Dramas, International Movies, Sci-Fi & Fantasy  \\\n",
       "\n",
       "                                            description release_month   \n",
       "4253  In 1984, a young programmer begins to question...      December  \\\n",
       "\n",
       "     year_added  times_duration  seasons_duration  \n",
       "4253       2018             312                 0  "
      ]
     },
     "execution_count": 64,
     "metadata": {},
     "output_type": "execute_result"
    }
   ],
   "source": [
    "df_netflix[df_netflix['times_duration']==df_netflix['times_duration'].max()]"
   ]
  },
  {
   "cell_type": "markdown",
   "id": "ac9e7ef6",
   "metadata": {
    "papermill": {
     "duration": 0.025364,
     "end_time": "2024-06-29T13:42:33.463191",
     "exception": false,
     "start_time": "2024-06-29T13:42:33.437827",
     "status": "completed"
    },
    "tags": []
   },
   "source": [
    "### Jitendra Kumar Shows On Netflix"
   ]
  },
  {
   "cell_type": "code",
   "execution_count": 65,
   "id": "39227c02",
   "metadata": {
    "execution": {
     "iopub.execute_input": "2024-06-29T13:42:33.519955Z",
     "iopub.status.busy": "2024-06-29T13:42:33.519048Z",
     "iopub.status.idle": "2024-06-29T13:42:34.003185Z",
     "shell.execute_reply": "2024-06-29T13:42:34.002207Z"
    },
    "papermill": {
     "duration": 0.513649,
     "end_time": "2024-06-29T13:42:34.005646",
     "exception": false,
     "start_time": "2024-06-29T13:42:33.491997",
     "status": "completed"
    },
    "tags": []
   },
   "outputs": [
    {
     "name": "stdout",
     "output_type": "stream",
     "text": [
      "TV Show || Kota Factory || Not Available || Mayur More, Jitendra Kumar, Ranjan Raj, Alam Khan, Ahsaas Channa, Revathi Pillai, Urvi Singh, Arun Kumar || India || 2021 \n",
      "\n",
      "Movie || Chaman Bahaar || Apurva Dhar Badgaiyann || Jitendra Kumar, Ritika Badiani, Yogendra Tikku, Bhuvan Arora, Alam Khan, Dhirendra Tiwari, Ashwani Kumar, Bhagwan Tiwari || India || 2020 \n",
      "\n"
     ]
    }
   ],
   "source": [
    "for index,row in df_netflix.iterrows():\n",
    "    if 'Jitendra Kumar' in row['cast']:\n",
    "        print(row['type'],'||',row['title'],'||',row['director'],'||',row['cast'],'||',row['country'],'||',row['release_year'],'\\n')"
   ]
  },
  {
   "cell_type": "markdown",
   "id": "35320b73",
   "metadata": {
    "papermill": {
     "duration": 0.028105,
     "end_time": "2024-06-29T13:42:34.059564",
     "exception": false,
     "start_time": "2024-06-29T13:42:34.031459",
     "status": "completed"
    },
    "tags": []
   },
   "source": [
    "### Ayushmann Khurrana Shows On Netflix"
   ]
  },
  {
   "cell_type": "code",
   "execution_count": 66,
   "id": "7010bc21",
   "metadata": {
    "execution": {
     "iopub.execute_input": "2024-06-29T13:42:34.113795Z",
     "iopub.status.busy": "2024-06-29T13:42:34.113077Z",
     "iopub.status.idle": "2024-06-29T13:42:34.595936Z",
     "shell.execute_reply": "2024-06-29T13:42:34.595023Z"
    },
    "papermill": {
     "duration": 0.512319,
     "end_time": "2024-06-29T13:42:34.598408",
     "exception": false,
     "start_time": "2024-06-29T13:42:34.086089",
     "status": "completed"
    },
    "tags": []
   },
   "outputs": [
    {
     "name": "stdout",
     "output_type": "stream",
     "text": [
      "Movie || Hawaizaada || Vibhu Virender Puri || Ayushmann Khurrana, Mithun Chakraborty, Pallavi Sharda, Naman Jain, Jameel Khan || India || 2015 \n",
      "\n",
      "Movie || Article 15 || Anubhav Sinha || Ayushmann Khurrana, Nassar, Manoj Pahwa, Kumud Mishra, Isha Talwar, Sayani Gupta, Mohammed Zeeshan Ayyub, Subhrajyoti Barat, Sushil Pandey, Aakash Dabhade || India || 2019 \n",
      "\n",
      "Movie || Andhadhun || Sriram Raghavan || Tabu, Ayushmann Khurrana, Radhika Apte, Anil Dhawan, Manav Vij, Zakir Hussain, Ashwini Kalsekar, Chhaya Kadam, Pawan Singh, Kabir Sajid || India || 2018 \n",
      "\n",
      "Movie || Bareilly Ki Barfi || Ashwiny Iyer Tiwari || Ayushmann Khurrana, Kriti Sanon, Rajkummar Rao, Pankaj Tripathi, Seema Pahwa, Rohit Chaudhury, Swati Semwal || India || 2017 \n",
      "\n"
     ]
    }
   ],
   "source": [
    "for index,row in df_netflix.iterrows():\n",
    "    if 'Ayushmann Khurrana' in row['cast']:\n",
    "        print(row['type'],'||',row['title'],'||',row['director'],'||',row['cast'],'||',row['country'],'||',row['release_year'],'\\n')"
   ]
  },
  {
   "cell_type": "markdown",
   "id": "6718a920",
   "metadata": {
    "papermill": {
     "duration": 0.025821,
     "end_time": "2024-06-29T13:42:34.650020",
     "exception": false,
     "start_time": "2024-06-29T13:42:34.624199",
     "status": "completed"
    },
    "tags": []
   },
   "source": [
    "### Pankaj Tripathi Shows On Netflix"
   ]
  },
  {
   "cell_type": "code",
   "execution_count": 67,
   "id": "559fd7e1",
   "metadata": {
    "execution": {
     "iopub.execute_input": "2024-06-29T13:42:34.703978Z",
     "iopub.status.busy": "2024-06-29T13:42:34.703003Z",
     "iopub.status.idle": "2024-06-29T13:42:35.190179Z",
     "shell.execute_reply": "2024-06-29T13:42:35.188954Z"
    },
    "papermill": {
     "duration": 0.516922,
     "end_time": "2024-06-29T13:42:35.192733",
     "exception": false,
     "start_time": "2024-06-29T13:42:34.675811",
     "status": "completed"
    },
    "tags": []
   },
   "outputs": [
    {
     "name": "stdout",
     "output_type": "stream",
     "text": [
      "Movie || Gurgaon || Shanker Raman || Akshay Oberoi, Pankaj Tripathi, Ragini Khanna, Aamir Bashir, Shalini Vatsa, Ashish Verma || India || 2017 \n",
      "\n",
      "Movie || Mimi || Laxman Utekar || Kriti Sanon, Pankaj Tripathi, Sai Tamhankar, Manoj Pahwa, Supriya Pathak, Evelyn Edwards || Not Available || 2021 \n",
      "\n",
      "Movie || Ludo || Anurag Basu || Abhishek Bachchan, Aditya Roy Kapur, Rajkummar Rao, Sanya Malhotra, Fatima Sana Shaikh, Pankaj Tripathi, Rohit Saraf, Shalini Vatsa, Pearle Maaney || India || 2020 \n",
      "\n",
      "Movie || Gunjan Saxena: The Kargil Girl || Sharan Sharma || Janhvi Kapoor, Pankaj Tripathi, Angad Bedi, Viineet Kumar, Manav Vij, Ayesha Raza Mishra || India || 2020 \n",
      "\n",
      "Movie || Fukrey || Mrighdeep Singh Lamba || Pulkit Samrat, Manjot Singh, Ali Fazal, Varun Sharma, Richa Chadda, Priya Anand, Vishakha Singh, Pankaj Tripathi || India || 2013 \n",
      "\n",
      "Movie || Drive || Tarun Mansukhani || Jacqueline Fernandez, Sushant Singh Rajput, Boman Irani, Pankaj Tripathi, Vikramjeet Virk, Sapna Pabbi, Vibha Chhibber, Kaustubh Kumar || India || 2019 \n",
      "\n",
      "Movie || Luka Chuppi || Laxman Utekar || Kartik Aaryan, Kriti Sanon, Pankaj Tripathi, Vinay Pathak, Aparshakti Khurana, Atul Srivastava, Alka Amin || India || 2019 \n",
      "\n",
      "Movie || Stree || Amar Kaushik || Rajkummar Rao, Shraddha Kapoor, Pankaj Tripathi, Aparshakti Khurana, Abhishek Banerjee, Atul Srivastava || India || 2018 \n",
      "\n",
      "Movie || Bareilly Ki Barfi || Ashwiny Iyer Tiwari || Ayushmann Khurrana, Kriti Sanon, Rajkummar Rao, Pankaj Tripathi, Seema Pahwa, Rohit Chaudhury, Swati Semwal || India || 2017 \n",
      "\n",
      "Movie || Dilwale || Rohit Shetty || Shah Rukh Khan, Kajol, Kriti Sanon, Kabir Bedi, Varun Dhawan, Boman Irani, Johnny Lever, Varun Sharma, Sanjay Mishra, Vinod Khanna, Mukesh Tiwari, Pankaj Tripathi, Shawar Ali || India || 2015 \n",
      "\n",
      "Movie || Anarkali of Aarah || Avinash Das || Swara Bhaskar, Sanjay Mishra, Vijay Kumar, Pankaj Tripathi, Mayur More, Ishtiyak Khan || India || 2017 \n",
      "\n",
      "Movie || Coffee with D || Vishal Mishra || Sunil Grover, Zakir Hussain, Anjana Sukhani, Dipannita Sharma, Pankaj Tripathi, Rajesh Sharma, Vinod Ramani, Guru Singh || India || 2017 \n",
      "\n",
      "Movie || Mango Dreams || John Upchurch || Ram Gopal Bajaj, Pankaj Tripathi, Sameer Kochhar || United States || 2016 \n",
      "\n",
      "Movie || Phamous || Karan Lalit Butani || Jimmy Shergill, Kay Kay Menon, Jackie Shroff, Shriya Saran, Pankaj Tripathi, Mahie Gill, Jameel Khan, Deep Raj Rana || Not Available || 2018 \n",
      "\n",
      "TV Show || Powder || Not Available || Manish Chaudhary, Pankaj Tripathi, Geetika Tyagi, Rahul Bagga || India || 2010 \n",
      "\n"
     ]
    }
   ],
   "source": [
    "for index,row in df_netflix.iterrows():\n",
    "    if 'Pankaj Tripathi' in row['cast']:\n",
    "        print(row['type'],'||',row['title'],'||',row['director'],'||',row['cast'],'||',row['country'],'||',row['release_year'],'\\n')"
   ]
  },
  {
   "cell_type": "markdown",
   "id": "3ddc3bdb",
   "metadata": {
    "papermill": {
     "duration": 0.026564,
     "end_time": "2024-06-29T13:42:35.247660",
     "exception": false,
     "start_time": "2024-06-29T13:42:35.221096",
     "status": "completed"
    },
    "tags": []
   },
   "source": [
    "### Nora Fatehi Shows On Netflix"
   ]
  },
  {
   "cell_type": "code",
   "execution_count": 68,
   "id": "7add4867",
   "metadata": {
    "execution": {
     "iopub.execute_input": "2024-06-29T13:42:35.304969Z",
     "iopub.status.busy": "2024-06-29T13:42:35.303791Z",
     "iopub.status.idle": "2024-06-29T13:42:35.792001Z",
     "shell.execute_reply": "2024-06-29T13:42:35.790824Z"
    },
    "papermill": {
     "duration": 0.518845,
     "end_time": "2024-06-29T13:42:35.794629",
     "exception": false,
     "start_time": "2024-06-29T13:42:35.275784",
     "status": "completed"
    },
    "tags": []
   },
   "outputs": [
    {
     "name": "stdout",
     "output_type": "stream",
     "text": [
      "Movie || My Birthday Song || Samir Soni || Sanjay Suri, Nora Fatehi, Zenia Starr, Suparna Krishna, Elena Kazan || India || 2018\n"
     ]
    }
   ],
   "source": [
    "for index,row in df_netflix.iterrows():\n",
    "    if 'Nora Fatehi' in row['cast']:\n",
    "        print(row['type'],'||',row['title'],'||',row['director'],'||',row['cast'],'||',row['country'],'||',row['release_year'])"
   ]
  },
  {
   "cell_type": "markdown",
   "id": "dcf11f2f",
   "metadata": {
    "papermill": {
     "duration": 0.028853,
     "end_time": "2024-06-29T13:42:35.851413",
     "exception": false,
     "start_time": "2024-06-29T13:42:35.822560",
     "status": "completed"
    },
    "tags": []
   },
   "source": [
    "### Esha Gupta Shows On Netflix"
   ]
  },
  {
   "cell_type": "code",
   "execution_count": 69,
   "id": "6e126b65",
   "metadata": {
    "execution": {
     "iopub.execute_input": "2024-06-29T13:42:35.908454Z",
     "iopub.status.busy": "2024-06-29T13:42:35.908025Z",
     "iopub.status.idle": "2024-06-29T13:42:36.413185Z",
     "shell.execute_reply": "2024-06-29T13:42:36.411871Z"
    },
    "papermill": {
     "duration": 0.537142,
     "end_time": "2024-06-29T13:42:36.415670",
     "exception": false,
     "start_time": "2024-06-29T13:42:35.878528",
     "status": "completed"
    },
    "tags": []
   },
   "outputs": [
    {
     "name": "stdout",
     "output_type": "stream",
     "text": [
      "Movie || One Day: Justice Delivered || Ashok Nanda || Anupam Kher, Esha Gupta, Kumud Mishra, Kashyap Bharbhaya, Anusmiritu Sarkar, Zakir Hussain, Rajesh Sharma, Murli Sharma, Ananth Narayan Mahadevan, Deepshikha || India || 2019 \n",
      "\n",
      "Movie || Gori Tere Pyaar Mein || Punit Malhotra || Imran Khan, Kareena Kapoor, Nizhalgal Ravi, Anupam Kher, Shraddha Kapoor, Esha Gupta, Sujata Kumar, Neelu Kohli || India || 2013 \n",
      "\n",
      "Movie || Baadshaho || Milan Luthria || Ajay Devgn, Emraan Hashmi, Vidyut Jamwal, Ileana D'Cruz, Esha Gupta, Sanjay Mishra, Sunny Leone, Sharad Kelkar, Priyanshu Chatterjee, Denzil Smith || India || 2017 \n",
      "\n",
      "Movie || Rustom || Dharmendra Suresh Desai || Akshay Kumar, Ileana D'Cruz, Arjan Bajwa, Esha Gupta, Pavan Malhotra, Parmeet Sethi, Sachin Khedekar, Anang Desai, Kumud Mishra, Brijendra Kala, Usha Nadkarni, Kanwaljeet Singh || India || 2016 \n",
      "\n"
     ]
    }
   ],
   "source": [
    "for index,row in df_netflix.iterrows():\n",
    "    if 'Esha Gupta' in row['cast']:\n",
    "        print(row['type'],'||',row['title'],'||',row['director'],'||',row['cast'],'||',row['country'],'||',row['release_year'],'\\n')"
   ]
  },
  {
   "cell_type": "markdown",
   "id": "6a46976c",
   "metadata": {
    "papermill": {
     "duration": 0.02618,
     "end_time": "2024-06-29T13:42:36.468792",
     "exception": false,
     "start_time": "2024-06-29T13:42:36.442612",
     "status": "completed"
    },
    "tags": []
   },
   "source": [
    "### Rakul Preet Singh Shows On Netflix"
   ]
  },
  {
   "cell_type": "code",
   "execution_count": 70,
   "id": "4c287e03",
   "metadata": {
    "execution": {
     "iopub.execute_input": "2024-06-29T13:42:36.528520Z",
     "iopub.status.busy": "2024-06-29T13:42:36.528109Z",
     "iopub.status.idle": "2024-06-29T13:42:37.005189Z",
     "shell.execute_reply": "2024-06-29T13:42:37.003797Z"
    },
    "papermill": {
     "duration": 0.510988,
     "end_time": "2024-06-29T13:42:37.007513",
     "exception": false,
     "start_time": "2024-06-29T13:42:36.496525",
     "status": "completed"
    },
    "tags": []
   },
   "outputs": [
    {
     "name": "stdout",
     "output_type": "stream",
     "text": [
      "Movie || Sardar Ka Grandson || Kaashvie Nair || Arjun Kapoor, Neena Gupta, Rakul Preet Singh, Kumud Mishra, Aditi Rao Hydari, John Abraham, Kanwaljeet Singh, Soni Razdan, Masood Akhtar, Divya Seth, Ravjeet Singh, Akashdeep Sabir || India || 2021 \n",
      "\n",
      "Movie || Shimla Mirchi || Ramesh Sippy || Rajkummar Rao, Tarun Wadhwa, Rakul Preet Singh, Kiran Juneja, Hema Malini, Kamlesh Gill, Shakti Kapoor, Kanwaljeet Singh || India || 2020 \n",
      "\n",
      "Movie || Manmadhudu 2 || Rahul Ravindran || Nagarjuna Akkineni, Rakul Preet Singh, Lakshmi, Rao Ramesh, Vennela Kishore, Jhansi, Devadarshini Chetan, Nishanti || India || 2019 \n",
      "\n",
      "Movie || Spyder || A.R. Murugadoss || Mahesh Babu, Rakul Preet Singh, S.J. Surya, Bharath Srinivasan, Priyadarshi Pullikonda, RJ Balaji || India || 2017 \n",
      "\n",
      "Movie || Aiyaary || Neeraj Pandey || Sidharth Malhotra, Manoj Bajpayee, Rakul Preet Singh, Pooja Chopra, Adil Hussain, Kumud Mishra, Naseeruddin Shah, Anupam Kher, Vikram Gokhale, Juhi Babbar || India || 2018 \n",
      "\n"
     ]
    }
   ],
   "source": [
    "for index,row in df_netflix.iterrows():\n",
    "    if 'Rakul Preet Singh' in row['cast']:\n",
    "        print(row['type'],'||',row['title'],'||',row['director'],'||',row['cast'],'||',row['country'],'||',row['release_year'],'\\n')"
   ]
  },
  {
   "cell_type": "markdown",
   "id": "62a8610a",
   "metadata": {
    "papermill": {
     "duration": 0.02654,
     "end_time": "2024-06-29T13:42:37.061177",
     "exception": false,
     "start_time": "2024-06-29T13:42:37.034637",
     "status": "completed"
    },
    "tags": []
   },
   "source": [
    "### Comedy Shows On Netflix In India"
   ]
  },
  {
   "cell_type": "code",
   "execution_count": 71,
   "id": "c67edfd7",
   "metadata": {
    "execution": {
     "iopub.execute_input": "2024-06-29T13:42:37.117493Z",
     "iopub.status.busy": "2024-06-29T13:42:37.117087Z",
     "iopub.status.idle": "2024-06-29T13:42:37.598354Z",
     "shell.execute_reply": "2024-06-29T13:42:37.597148Z"
    },
    "papermill": {
     "duration": 0.511537,
     "end_time": "2024-06-29T13:42:37.600813",
     "exception": false,
     "start_time": "2024-06-29T13:42:37.089276",
     "status": "completed"
    },
    "tags": []
   },
   "outputs": [
    {
     "name": "stdout",
     "output_type": "stream",
     "text": [
      "Movie || Vir Das: Outside In - The Lockdown Special || Vir Das || Vir Das || India || 2020 \n",
      "\n",
      "Movie || Kenny Sebastian: The Most Interesting Person in the Room || Angshuman Ghosh || Kenny Sebastian || India || 2020 \n",
      "\n",
      "Movie || Yours Sincerely, Kanan Gill || Neville Shah || Kanan Gill || India || 2020 \n",
      "\n",
      "TV Show || Ladies Up || Not Available || Prashasti Singh, Kaneez Surka, Niveditha Prakasam, Supriya Joshi || India || 2019 \n",
      "\n",
      "Movie || Amit Tandon: Family Tandoncies || Not Available || Amit Tandon || India || 2019 \n",
      "\n",
      "Movie || Vir Das: For India || Vir Das, Ajay Bhuyan || Vir Das || India || 2020 \n",
      "\n",
      "Movie || Aditi Mittal: Things They Wouldn't Let Me Say || Fazila Allana || Aditi Mittal || India || 2017 \n",
      "\n",
      "TV Show || Gangs of Hassepur || Not Available || Ragini Khanna, Mandira Bedi, Tanishaa Mukerji || India || 2014 \n",
      "\n",
      "TV Show || Midnight Misadventures With Mallika Dua || Not Available || Mallika Dua || India || 2018 \n",
      "\n"
     ]
    }
   ],
   "source": [
    "for index,row in df_netflix.iterrows():\n",
    "    if 'Comedy' in row['listed_in']:\n",
    "        if 'India' in row['country']:\n",
    "            print(row['type'],'||',row['title'],'||',row['director'],'||',row['cast'],'||',row['country'],'||',row['release_year'],'\\n')"
   ]
  },
  {
   "cell_type": "markdown",
   "id": "5cf2f5f9",
   "metadata": {
    "papermill": {
     "duration": 0.02651,
     "end_time": "2024-06-29T13:42:37.654377",
     "exception": false,
     "start_time": "2024-06-29T13:42:37.627867",
     "status": "completed"
    },
    "tags": []
   },
   "source": [
    "### Action Shows On Netflix In India Release In Year 2014"
   ]
  },
  {
   "cell_type": "code",
   "execution_count": 72,
   "id": "b3230b48",
   "metadata": {
    "execution": {
     "iopub.execute_input": "2024-06-29T13:42:37.710087Z",
     "iopub.status.busy": "2024-06-29T13:42:37.709666Z",
     "iopub.status.idle": "2024-06-29T13:42:38.198834Z",
     "shell.execute_reply": "2024-06-29T13:42:38.197764Z"
    },
    "papermill": {
     "duration": 0.52044,
     "end_time": "2024-06-29T13:42:38.201317",
     "exception": false,
     "start_time": "2024-06-29T13:42:37.680877",
     "status": "completed"
    },
    "tags": []
   },
   "outputs": [
    {
     "name": "stdout",
     "output_type": "stream",
     "text": [
      "Movie || Gollu Aur Pappu || Kabir Sadanand || Vir Das, Sandeepa Dhar, Dimple Kapadia, Kunaal Roy Kapur, Deepak Tijori || India || 2014 \n",
      "\n",
      "Movie || Anjaan || N. Linguswamy || Suriya, Samantha Ruth Prabhu, Vidyut Jammwal, Manoj Bajpayee, Soori || India || 2014 \n",
      "\n",
      "Movie || Naan Sigappu Manithan || Thiru || Vishal, Lakshmi Menon, Saranya Ponvannan, Jayaprakash, Sunder Ramu, Jagan, Iniya, Chetan Cheenu || India || 2014 \n",
      "\n",
      "Movie || Highway || Imtiaz Ali || Randeep Hooda, Alia Bhatt, Durgesh Kumar, Pradeep Nagar || India || 2014 \n",
      "\n",
      "Movie || Happy New Year || Farah Khan || Shah Rukh Khan, Deepika Padukone, Abhishek Bachchan, Sonu Sood, Boman Irani, Vivaan Shah || India || 2014 \n",
      "\n",
      "TV Show || Maharakshak: Aryan || Not Available || Aakarshan Singh, Vikramjeet Virk, Reena Aggarwal, Khalid Siddiqui, Abigail Jain, Rishabh Jain || India || 2014 \n",
      "\n",
      "Movie || Romeo Ranjha || Navaniat Singh || Jazzy B, Garry Sandhu, Monica Bedi, Parul Gulati, Rana Ranbir, Yograj Singh, Rana Jung Bahadur, Sanga Jagir || India, Canada || 2014 \n",
      "\n",
      "Movie || Tamanchey || Navneet Behal || Nikhil Dwivedi, Richa Chadha, Damandeep Singh Baggan, Vijay Pande, Talib Mehdi, Tushar Phulke, Mahesh Gupta, Prasad Labhe || India || 2014 \n",
      "\n"
     ]
    }
   ],
   "source": [
    "for index,row in df_netflix.iterrows():\n",
    "    if 'Action' in row['listed_in']:\n",
    "        if 'India' in row['country']:\n",
    "            if(row['release_year']==2014):\n",
    "                 print(row['type'],'||',row['title'],'||',row['director'],'||',row['cast'],'||',row['country'],'||',row['release_year'],'\\n')"
   ]
  },
  {
   "cell_type": "markdown",
   "id": "0ebf5fc5",
   "metadata": {
    "papermill": {
     "duration": 0.026448,
     "end_time": "2024-06-29T13:42:38.254532",
     "exception": false,
     "start_time": "2024-06-29T13:42:38.228084",
     "status": "completed"
    },
    "tags": []
   },
   "source": [
    "### Thriller Shows On Netflix In India Release In Year 2018 or 2019"
   ]
  },
  {
   "cell_type": "code",
   "execution_count": 73,
   "id": "3fde975b",
   "metadata": {
    "execution": {
     "iopub.execute_input": "2024-06-29T13:42:38.309903Z",
     "iopub.status.busy": "2024-06-29T13:42:38.309535Z",
     "iopub.status.idle": "2024-06-29T13:42:38.794484Z",
     "shell.execute_reply": "2024-06-29T13:42:38.793475Z"
    },
    "papermill": {
     "duration": 0.515479,
     "end_time": "2024-06-29T13:42:38.797120",
     "exception": false,
     "start_time": "2024-06-29T13:42:38.281641",
     "status": "completed"
    },
    "tags": []
   },
   "outputs": [
    {
     "name": "stdout",
     "output_type": "stream",
     "text": [
      "Movie || Kolaiyuthir Kaalam || Chakri Toleti || Nayanthara, Bhoomika Chawla, Prem Kathir, Rohini Hattangadi, Pratap Pothen, Julian Freund || India || 2019 \n",
      "\n",
      "Movie || Bypass Road || Naman Nitin Mukesh || Neil Nitin Mukesh, Adah Sharma, Rajit Kapoor, Gul Panag, Shama Sikander, Manish Chaudhary, Sudhanshu Pandey, Taher Shabbir || India || 2019 \n",
      "\n",
      "Movie || The Body || Jeethu Joseph || Rishi Kapoor, Emraan Hashmi, Sobhita Dhulipala, Vedika, Anupam Bhattacharya, Chandan Anand, Arif Zakaria, Rukhsar Ahmed || India || 2019 \n",
      "\n",
      "Movie || Thambi || Jeethu Joseph || Jyothika, Sathyaraj, Karthi, Showkar Janaki, Nikhila Vimal, Havarasu, Anson Paul || India || 2019 \n",
      "\n",
      "Movie || Aaviri || Ravi Babu || Ravi Babu, Neha Chauhan, Sri Muktha, Bharani Shankar, Mukhtar Khan, Priya || India || 2019 \n",
      "\n",
      "Movie || Oththa Seruppu Size 7 || Parthiban || Parthiban || India || 2019 \n",
      "\n",
      "Movie || Article 15 || Anubhav Sinha || Ayushmann Khurrana, Nassar, Manoj Pahwa, Kumud Mishra, Isha Talwar, Sayani Gupta, Mohammed Zeeshan Ayyub, Subhrajyoti Barat, Sushil Pandey, Aakash Dabhade || India || 2019 \n",
      "\n",
      "Movie || Game Over (Tamil Version) || Ashwin Saravanan || Taapsee Pannu, Vinodhini, Parvathi T, Ramya Subramanian, Sanchana Natarajan, Anish Kuruvilla, David Solomon Raja || India, Turkey || 2019 \n",
      "\n",
      "Movie || Badla || Sujoy Ghosh || Amitabh Bachchan, Taapsee Pannu, Amrita Singh, Tony Luke, Manav Kaul || India || 2019 \n",
      "\n",
      "Movie || Romeo Akbar Walter || Robbie Grewal || John Abraham, Jackie Shroff, Mouni Roy, Sikander Kher, Raghuvir Yadav, Alka Amin, Rajesh Shringarpure, Anil George || India || 2019 \n",
      "\n"
     ]
    }
   ],
   "source": [
    "for index,row in df_netflix.iterrows():\n",
    "    if 'Thriller' in row['listed_in']:\n",
    "        if 'India' in row['country']:\n",
    "            if(row['release_year']==2018 | row['release_year']==2019):\n",
    "                print(row['type'],'||',row['title'],'||',row['director'],'||',row['cast'],'||',row['country'],'||',row['release_year'],'\\n')"
   ]
  },
  {
   "cell_type": "markdown",
   "id": "eba6f693",
   "metadata": {
    "papermill": {
     "duration": 0.026466,
     "end_time": "2024-06-29T13:42:38.851639",
     "exception": false,
     "start_time": "2024-06-29T13:42:38.825173",
     "status": "completed"
    },
    "tags": []
   },
   "source": [
    "### Neeraj Pandey Movies On Netflix As Director"
   ]
  },
  {
   "cell_type": "code",
   "execution_count": 74,
   "id": "2141b121",
   "metadata": {
    "execution": {
     "iopub.execute_input": "2024-06-29T13:42:38.906828Z",
     "iopub.status.busy": "2024-06-29T13:42:38.906443Z",
     "iopub.status.idle": "2024-06-29T13:42:39.387011Z",
     "shell.execute_reply": "2024-06-29T13:42:39.386001Z"
    },
    "papermill": {
     "duration": 0.511094,
     "end_time": "2024-06-29T13:42:39.389552",
     "exception": false,
     "start_time": "2024-06-29T13:42:38.878458",
     "status": "completed"
    },
    "tags": []
   },
   "outputs": [
    {
     "name": "stdout",
     "output_type": "stream",
     "text": [
      "Movie || Special 26 || Neeraj Pandey || Akshay Kumar, Manoj Bajpayee, Anupam Kher, Jimmy Shergill, Kajal Aggarwal, Divya Dutta, Kharaj Mukherjee, Rajesh Sharma, Kishore Kadam, Neeru Bajwa, Deep Raj Rana, Neetu Singh || India || 2013 \n",
      "\n",
      "Movie || Aiyaary || Neeraj Pandey || Sidharth Malhotra, Manoj Bajpayee, Rakul Preet Singh, Pooja Chopra, Adil Hussain, Kumud Mishra, Naseeruddin Shah, Anupam Kher, Vikram Gokhale, Juhi Babbar || India || 2018 \n",
      "\n",
      "Movie || A Wednesday || Neeraj Pandey || Anupam Kher, Naseeruddin Shah, Jimmy Shergill, Deepal Shaw, Aamir Bashir, Kali Prasad Mukherjee, Vijay Bhatia, Chetan Pandit || India || 2008 \n",
      "\n"
     ]
    }
   ],
   "source": [
    "for index,row in df_netflix.iterrows():\n",
    "    if 'Neeraj Pandey' in row['director']:\n",
    "        print(row['type'],'||',row['title'],'||',row['director'],'||',row['cast'],'||',row['country'],'||',row['release_year'],'\\n')"
   ]
  },
  {
   "cell_type": "markdown",
   "id": "9e485676",
   "metadata": {
    "papermill": {
     "duration": 0.026669,
     "end_time": "2024-06-29T13:42:39.443325",
     "exception": false,
     "start_time": "2024-06-29T13:42:39.416656",
     "status": "completed"
    },
    "tags": []
   },
   "source": [
    "### Rohit Shetty Movies On Netflix As Director"
   ]
  },
  {
   "cell_type": "code",
   "execution_count": 75,
   "id": "b035669f",
   "metadata": {
    "execution": {
     "iopub.execute_input": "2024-06-29T13:42:39.499292Z",
     "iopub.status.busy": "2024-06-29T13:42:39.498652Z",
     "iopub.status.idle": "2024-06-29T13:42:39.978311Z",
     "shell.execute_reply": "2024-06-29T13:42:39.977170Z"
    },
    "papermill": {
     "duration": 0.510306,
     "end_time": "2024-06-29T13:42:39.980808",
     "exception": false,
     "start_time": "2024-06-29T13:42:39.470502",
     "status": "completed"
    },
    "tags": []
   },
   "outputs": [
    {
     "name": "stdout",
     "output_type": "stream",
     "text": [
      "Movie || Chennai Express || Rohit Shetty || Shah Rukh Khan, Deepika Padukone, Nikitin Dheer, Satyaraj, Kamini Kaushal, Lekh Tandon, Mukesh Tiwari || India || 2013 \n",
      "\n",
      "Movie || Singham || Rohit Shetty || Ajay Devgn, Kajal Aggarwal, Prakash Raj, Sonali Kulkarni, Sachin Khedekar, Sudhanshu Pandey, Anant Jog || India || 2011 \n",
      "\n",
      "Movie || Golmaal Returns || Rohit Shetty || Ajay Devgn, Kareena Kapoor, Arshad Warsi, Tusshar Kapoor, Shreyas Talpade, Celina Jaitly, Amrita Arora, Anjana Sukhani || India || 2008 \n",
      "\n",
      "Movie || Dilwale || Rohit Shetty || Shah Rukh Khan, Kajol, Kriti Sanon, Kabir Bedi, Varun Dhawan, Boman Irani, Johnny Lever, Varun Sharma, Sanjay Mishra, Vinod Khanna, Mukesh Tiwari, Pankaj Tripathi, Shawar Ali || India || 2015 \n",
      "\n",
      "Movie || Golmaal: Fun Unlimited || Rohit Shetty || Ajay Devgn, Tusshar Kapoor, Arshad Warsi, Sharman Joshi, Paresh Rawal, Rimi Sen, Sushmita Mukherjee, Vrajesh Hirjee || India || 2006 \n",
      "\n"
     ]
    }
   ],
   "source": [
    "for index,row in df_netflix.iterrows():\n",
    "    if 'Rohit Shetty' in row['director']:\n",
    "        print(row['type'],'||',row['title'],'||',row['director'],'||',row['cast'],'||',row['country'],'||',row['release_year'],'\\n')"
   ]
  },
  {
   "cell_type": "markdown",
   "id": "936760a0",
   "metadata": {
    "papermill": {
     "duration": 0.027531,
     "end_time": "2024-06-29T13:42:40.035707",
     "exception": false,
     "start_time": "2024-06-29T13:42:40.008176",
     "status": "completed"
    },
    "tags": []
   },
   "source": [
    "### Priyadarshan Movies On Netflix As Director"
   ]
  },
  {
   "cell_type": "code",
   "execution_count": 76,
   "id": "ca560c9a",
   "metadata": {
    "execution": {
     "iopub.execute_input": "2024-06-29T13:42:40.095105Z",
     "iopub.status.busy": "2024-06-29T13:42:40.094696Z",
     "iopub.status.idle": "2024-06-29T13:42:40.583195Z",
     "shell.execute_reply": "2024-06-29T13:42:40.581893Z"
    },
    "papermill": {
     "duration": 0.523048,
     "end_time": "2024-06-29T13:42:40.585680",
     "exception": false,
     "start_time": "2024-06-29T13:42:40.062632",
     "status": "completed"
    },
    "tags": []
   },
   "outputs": [
    {
     "name": "stdout",
     "output_type": "stream",
     "text": [
      "TV Show || Navarasa || Bejoy Nambiar, Priyadarshan, Karthik Narain, Vasanth Sai, Karthik Subbaraj, Arvind Swamy, Rathindran R Prasad, Sarjun, Gautham Vasudev Menon || Suriya, Vijay Sethupathi, Revathy, Prakash Raj, Siddarth, Parvathy, Delhi Ganesh, Gautham Vasudev Menon, Anjali, Yogi Babu, Aditi Balan, Remya Nambeesan, Poorna, Prayaga Martin, Rythvika Suriya, Arvind Swamy, Prasanna, Atharva, Bobby Simha, Ashok Selvan, Nedumudi Venu, Kishore || India || 2021 \n",
      "\n",
      "Movie || Chup Chup Ke || Priyadarshan, Kookie V. Gulati || Shahid Kapoor, Kareena Kapoor, Om Puri, Neha Dhupia, Sunil Shetty, Paresh Rawal, Rajpal Yadav, Shakti Kapoor || India || 2006 \n",
      "\n",
      "Movie || Sometimes || Priyadarshan || Prakash Raj, Shreya Reddy, Ashok Selvan || India || 2016 \n",
      "\n",
      "Movie || Billu || Priyadarshan || Irrfan Khan, Shah Rukh Khan, Lara Dutta, Rajpal Yadav, Om Puri, Asrani, Manoj Joshi || India || 2009 \n",
      "\n",
      "Movie || Bhagam Bhag || Priyadarshan || Akshay Kumar, Govinda, Lara Dutta, Paresh Rawal, Rajpal Yadav, Jackie Shroff, Arbaaz Khan, Tanushree Dutta, Asrani, Shakti Kapoor || India || 2006 \n",
      "\n",
      "Movie || Bhool Bhulaiyaa || Priyadarshan || Akshay Kumar, Vidya Balan, Ameesha Patel, Shiney Ahuja, Paresh Rawal, Rajpal Yadav, Manoj Joshi, Asrani, Vikram Gokhale, Rasika Joshi || India || 2007 \n",
      "\n",
      "Movie || Tezz || Priyadarshan || Anil Kapoor, Ajay Devgn, Boman Irani, Kangna Ranaut, Zayed Khan, Mallika Sherawat, Avika Gor, Dominic Power, Sameera Reddy, Mohanlal || United Kingdom, India || 2012 \n",
      "\n"
     ]
    }
   ],
   "source": [
    "for index,row in df_netflix.iterrows():\n",
    "    if 'Priyadarshan' in row['director']:\n",
    "        print(row['type'],'||',row['title'],'||',row['director'],'||',row['cast'],'||',row['country'],'||',row['release_year'],'\\n')"
   ]
  }
 ],
 "metadata": {
  "kaggle": {
   "accelerator": "none",
   "dataSources": [
    {
     "datasetId": 434238,
     "sourceId": 2654038,
     "sourceType": "datasetVersion"
    }
   ],
   "dockerImageVersionId": 30732,
   "isGpuEnabled": false,
   "isInternetEnabled": true,
   "language": "python",
   "sourceType": "notebook"
  },
  "kernelspec": {
   "display_name": "Python 3",
   "language": "python",
   "name": "python3"
  },
  "language_info": {
   "codemirror_mode": {
    "name": "ipython",
    "version": 3
   },
   "file_extension": ".py",
   "mimetype": "text/x-python",
   "name": "python",
   "nbconvert_exporter": "python",
   "pygments_lexer": "ipython3",
   "version": "3.9.16"
  },
  "papermill": {
   "default_parameters": {},
   "duration": 19.133485,
   "end_time": "2024-06-29T13:42:41.288663",
   "environment_variables": {},
   "exception": null,
   "input_path": "__notebook__.ipynb",
   "output_path": "__notebook__.ipynb",
   "parameters": {},
   "start_time": "2024-06-29T13:42:22.155178",
   "version": "2.5.0"
  },
  "toc-autonumbering": false,
  "toc-showcode": true,
  "toc-showmarkdowntxt": false
 },
 "nbformat": 4,
 "nbformat_minor": 5
}
